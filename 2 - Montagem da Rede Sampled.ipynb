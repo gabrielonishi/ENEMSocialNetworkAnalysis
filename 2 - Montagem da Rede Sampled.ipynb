{
 "cells": [
  {
   "cell_type": "markdown",
   "id": "1ab45ba6",
   "metadata": {},
   "source": [
    "# Montagem da Rede"
   ]
  },
  {
   "cell_type": "code",
   "execution_count": 1,
   "id": "df8877f7",
   "metadata": {},
   "outputs": [
    {
     "data": {
      "text/html": [
       "\n",
       "    <script src=\"/files/netpixi.min.js\"></script>\n"
      ],
      "text/plain": [
       "<IPython.core.display.HTML object>"
      ]
     },
     "metadata": {},
     "output_type": "display_data"
    },
    {
     "name": "stderr",
     "output_type": "stream",
     "text": [
      "<frozen importlib._bootstrap>:914: ImportWarning: VendorImporter.find_spec() not found; falling back to find_module()\n"
     ]
    }
   ],
   "source": [
    "import pathlib\n",
    "import pickle\n",
    "import cpnet\n",
    "import netpixi\n",
    "import pandas as pd\n",
    "import seaborn as sns\n",
    "import numpy as np\n",
    "import networkx as nx\n",
    "import matplotlib.pyplot as plt\n",
    "from collections import Counter\n",
    "from netpixi.integration.gt import *\n",
    "from regression.integration.gt import *\n",
    "from graph_tool import spectral"
   ]
  },
  {
   "cell_type": "markdown",
   "id": "4204c517",
   "metadata": {},
   "source": [
    "## Leitura dos Dados Pré-Processados"
   ]
  },
  {
   "cell_type": "code",
   "execution_count": 2,
   "id": "a164c638",
   "metadata": {
    "scrolled": true
   },
   "outputs": [
    {
     "name": "stdout",
     "output_type": "stream",
     "text": [
      "/home/jupyter/notebooks/projeto/data\n"
     ]
    }
   ],
   "source": [
    "DATA_DIR = pathlib.Path.cwd().parent / 'projeto' / 'data'\n",
    "print(DATA_DIR)"
   ]
  },
  {
   "cell_type": "code",
   "execution_count": 3,
   "id": "fe238d48",
   "metadata": {},
   "outputs": [],
   "source": [
    "PROCESSED_FILE_PATH = DATA_DIR / 'processed' / 'enem_sampled.pkl'"
   ]
  },
  {
   "cell_type": "code",
   "execution_count": 4,
   "id": "50941dd0",
   "metadata": {
    "scrolled": true
   },
   "outputs": [
    {
     "name": "stdout",
     "output_type": "stream",
     "text": [
      "/home/jupyter/notebooks/projeto/data/processed/enem_sampled.pkl\n"
     ]
    }
   ],
   "source": [
    "print(PROCESSED_FILE_PATH)"
   ]
  },
  {
   "cell_type": "code",
   "execution_count": 5,
   "id": "b251ade4",
   "metadata": {},
   "outputs": [],
   "source": [
    "with open(PROCESSED_FILE_PATH, 'rb') as file:\n",
    "    (\n",
    "        sampled_data\n",
    "    ) = pickle.load(file)\n"
   ]
  },
  {
   "cell_type": "code",
   "execution_count": 6,
   "id": "d8b25d9e",
   "metadata": {},
   "outputs": [],
   "source": [
    "sampled_data = sampled_data.sample(400)"
   ]
  },
  {
   "cell_type": "markdown",
   "id": "f2ed5c6a",
   "metadata": {},
   "source": [
    "Resetando os índices para facilitar identificação após montagem da rede"
   ]
  },
  {
   "cell_type": "code",
   "execution_count": 7,
   "id": "59f5242b",
   "metadata": {},
   "outputs": [],
   "source": [
    "df = sampled_data.reset_index()"
   ]
  },
  {
   "cell_type": "code",
   "execution_count": 8,
   "id": "3574f0b3",
   "metadata": {
    "scrolled": false
   },
   "outputs": [
    {
     "name": "stdout",
     "output_type": "stream",
     "text": [
      "(400, 33)\n"
     ]
    },
    {
     "data": {
      "text/html": [
       "<div>\n",
       "<style scoped>\n",
       "    .dataframe tbody tr th:only-of-type {\n",
       "        vertical-align: middle;\n",
       "    }\n",
       "\n",
       "    .dataframe tbody tr th {\n",
       "        vertical-align: top;\n",
       "    }\n",
       "\n",
       "    .dataframe thead th {\n",
       "        text-align: right;\n",
       "    }\n",
       "</style>\n",
       "<table border=\"1\" class=\"dataframe\">\n",
       "  <thead>\n",
       "    <tr style=\"text-align: right;\">\n",
       "      <th></th>\n",
       "      <th>index</th>\n",
       "      <th>NU_INSCRICAO</th>\n",
       "      <th>TP_FAIXA_ETARIA</th>\n",
       "      <th>TP_SEXO</th>\n",
       "      <th>Q001</th>\n",
       "      <th>Q002</th>\n",
       "      <th>Q005</th>\n",
       "      <th>Q006</th>\n",
       "      <th>Q007</th>\n",
       "      <th>Q008</th>\n",
       "      <th>...</th>\n",
       "      <th>Gabarito Oficial</th>\n",
       "      <th>Q005_str</th>\n",
       "      <th>Respostas Questionario</th>\n",
       "      <th>Acertos Totias</th>\n",
       "      <th>Questoes Especificas</th>\n",
       "      <th>Questoes Gerais</th>\n",
       "      <th>Gabarito Especificas</th>\n",
       "      <th>Gabarito Gerais</th>\n",
       "      <th>Acertos Gerais</th>\n",
       "      <th>Acertos Especificas</th>\n",
       "    </tr>\n",
       "  </thead>\n",
       "  <tbody>\n",
       "    <tr>\n",
       "      <th>0</th>\n",
       "      <td>963056</td>\n",
       "      <td>210051720667</td>\n",
       "      <td>4</td>\n",
       "      <td>M</td>\n",
       "      <td>G</td>\n",
       "      <td>F</td>\n",
       "      <td>2.0</td>\n",
       "      <td>M</td>\n",
       "      <td>A</td>\n",
       "      <td>E</td>\n",
       "      <td>...</td>\n",
       "      <td>DCEADABDACDCEABDDADBEDDDEBBACCDDDCCEBBBBEBAAEA...</td>\n",
       "      <td>B</td>\n",
       "      <td>BGFMAEDBABBAABACCC</td>\n",
       "      <td>111</td>\n",
       "      <td>DBBBEDDABADBAECEDBEBBACADDABABDEEEDCBCAAECDCAC...</td>\n",
       "      <td>DEBADCBDACDEEABEACBBDDEBDACCDCDABCDEDBAABCADEB...</td>\n",
       "      <td>DDCEBADCBEBBADBAEDEBBAEABDABCEDEBEEBBCABEDDCBC...</td>\n",
       "      <td>DCEADABDACDCEABDADBEDDEBBACCDDDCBBBBEAAEBCABAB...</td>\n",
       "      <td>44.0</td>\n",
       "      <td>67.0</td>\n",
       "    </tr>\n",
       "    <tr>\n",
       "      <th>1</th>\n",
       "      <td>2024270</td>\n",
       "      <td>210053222987</td>\n",
       "      <td>14</td>\n",
       "      <td>F</td>\n",
       "      <td>B</td>\n",
       "      <td>G</td>\n",
       "      <td>3.0</td>\n",
       "      <td>D</td>\n",
       "      <td>A</td>\n",
       "      <td>C</td>\n",
       "      <td>...</td>\n",
       "      <td>DCEADABDACDCEABDDADBEDDDEBBACCDDDCCEBBBBEBAAEA...</td>\n",
       "      <td>C</td>\n",
       "      <td>CBGDACDAABABABABEA</td>\n",
       "      <td>67</td>\n",
       "      <td>BEEEBAEABEABAEEAEDABBAEEBAEDCAAEBEADBDDEEAABBA...</td>\n",
       "      <td>ECDBECADACBAEABDADEDDDABDABCDBDCABEEEABABEABAB...</td>\n",
       "      <td>DDCEBADCBEBBADBAEDEBBAEABDABCEDEBEEBBCABEDDCBC...</td>\n",
       "      <td>DCEADABDACDCEABDADBEDDEBBACCDDDCBBBBEAAEBCABAB...</td>\n",
       "      <td>38.0</td>\n",
       "      <td>29.0</td>\n",
       "    </tr>\n",
       "    <tr>\n",
       "      <th>2</th>\n",
       "      <td>1719315</td>\n",
       "      <td>210051047791</td>\n",
       "      <td>2</td>\n",
       "      <td>F</td>\n",
       "      <td>E</td>\n",
       "      <td>F</td>\n",
       "      <td>4.0</td>\n",
       "      <td>F</td>\n",
       "      <td>A</td>\n",
       "      <td>B</td>\n",
       "      <td>...</td>\n",
       "      <td>DCEADABDACDCEABDDADBEDDDEBBACCDDDCCEBBBBEBAAEA...</td>\n",
       "      <td>D</td>\n",
       "      <td>DEFFABCBABBBABADEC</td>\n",
       "      <td>56</td>\n",
       "      <td>DBDEAABDBACBADDADCABAAAAAACBEABEEECBADCABEACAB...</td>\n",
       "      <td>D.DACDBBAADCEACCDDAADBACDABEABCCBCEBAEBCBAAAAB...</td>\n",
       "      <td>DDCEBADCBEBBADBAEDEBBAEABDABCEDEBEEBBCABEDDCBC...</td>\n",
       "      <td>DCEADABDACDCEABDADBEDDEBBACCDDDCBBBBEAAEBCABAB...</td>\n",
       "      <td>26.0</td>\n",
       "      <td>30.0</td>\n",
       "    </tr>\n",
       "    <tr>\n",
       "      <th>3</th>\n",
       "      <td>313957</td>\n",
       "      <td>210053522123</td>\n",
       "      <td>2</td>\n",
       "      <td>F</td>\n",
       "      <td>H</td>\n",
       "      <td>H</td>\n",
       "      <td>5.0</td>\n",
       "      <td>O</td>\n",
       "      <td>B</td>\n",
       "      <td>E</td>\n",
       "      <td>...</td>\n",
       "      <td>DCEADABDACDCEABDDADBEDDDEBBACCDDDCCEBBBBEBAAEA...</td>\n",
       "      <td>E</td>\n",
       "      <td>EHHOBEDCABBBBBACEE</td>\n",
       "      <td>68</td>\n",
       "      <td>DCCCEADADECCACDAECABAAEAEBBDCACDBECBACCCEEAEAC...</td>\n",
       "      <td>DCABCDADAABCEABEADBDAAEDDAACCBBCBBEAEAAAEEABAB...</td>\n",
       "      <td>DDCEBADCBEBBADBAEDEBBAEABDABCEDEBEEBBCABEDDCBC...</td>\n",
       "      <td>DCEADABDACDCEABDADBEDDEBBACCDDDCBBBBEAAEBCABAB...</td>\n",
       "      <td>36.0</td>\n",
       "      <td>32.0</td>\n",
       "    </tr>\n",
       "    <tr>\n",
       "      <th>4</th>\n",
       "      <td>277459</td>\n",
       "      <td>210052479163</td>\n",
       "      <td>2</td>\n",
       "      <td>F</td>\n",
       "      <td>H</td>\n",
       "      <td>H</td>\n",
       "      <td>2.0</td>\n",
       "      <td>B</td>\n",
       "      <td>A</td>\n",
       "      <td>B</td>\n",
       "      <td>...</td>\n",
       "      <td>DCEADABDACDCEABDDADBEDDDEBBACCDDDCCEBBBBEBAAEA...</td>\n",
       "      <td>B</td>\n",
       "      <td>BHHBABBAABAAAAABBA</td>\n",
       "      <td>39</td>\n",
       "      <td>BDAAAACDDCCCDCDBBEADBAABCEADDCCABBDBEEADBBBCEA...</td>\n",
       "      <td>DBECACBAAABAEADCDAADAACCBAEDBBEDCCEDDABCBAABDA...</td>\n",
       "      <td>DDCEBADCBEBBADBAEDEBBAEABDABCEDEBEEBBCABEDDCBC...</td>\n",
       "      <td>DCEADABDACDCEABDADBEDDEBBACCDDDCBBBBEAAEBCABAB...</td>\n",
       "      <td>21.0</td>\n",
       "      <td>18.0</td>\n",
       "    </tr>\n",
       "  </tbody>\n",
       "</table>\n",
       "<p>5 rows × 33 columns</p>\n",
       "</div>"
      ],
      "text/plain": [
       "     index  NU_INSCRICAO  TP_FAIXA_ETARIA TP_SEXO Q001 Q002  Q005 Q006 Q007  \\\n",
       "0   963056  210051720667                4       M    G    F   2.0    M    A   \n",
       "1  2024270  210053222987               14       F    B    G   3.0    D    A   \n",
       "2  1719315  210051047791                2       F    E    F   4.0    F    A   \n",
       "3   313957  210053522123                2       F    H    H   5.0    O    B   \n",
       "4   277459  210052479163                2       F    H    H   2.0    B    A   \n",
       "\n",
       "  Q008  ...                                   Gabarito Oficial Q005_str  \\\n",
       "0    E  ...  DCEADABDACDCEABDDADBEDDDEBBACCDDDCCEBBBBEBAAEA...        B   \n",
       "1    C  ...  DCEADABDACDCEABDDADBEDDDEBBACCDDDCCEBBBBEBAAEA...        C   \n",
       "2    B  ...  DCEADABDACDCEABDDADBEDDDEBBACCDDDCCEBBBBEBAAEA...        D   \n",
       "3    E  ...  DCEADABDACDCEABDDADBEDDDEBBACCDDDCCEBBBBEBAAEA...        E   \n",
       "4    B  ...  DCEADABDACDCEABDDADBEDDDEBBACCDDDCCEBBBBEBAAEA...        B   \n",
       "\n",
       "  Respostas Questionario Acertos Totias  \\\n",
       "0     BGFMAEDBABBAABACCC            111   \n",
       "1     CBGDACDAABABABABEA             67   \n",
       "2     DEFFABCBABBBABADEC             56   \n",
       "3     EHHOBEDCABBBBBACEE             68   \n",
       "4     BHHBABBAABAAAAABBA             39   \n",
       "\n",
       "                                Questoes Especificas  \\\n",
       "0  DBBBEDDABADBAECEDBEBBACADDABABDEEEDCBCAAECDCAC...   \n",
       "1  BEEEBAEABEABAEEAEDABBAEEBAEDCAAEBEADBDDEEAABBA...   \n",
       "2  DBDEAABDBACBADDADCABAAAAAACBEABEEECBADCABEACAB...   \n",
       "3  DCCCEADADECCACDAECABAAEAEBBDCACDBECBACCCEEAEAC...   \n",
       "4  BDAAAACDDCCCDCDBBEADBAABCEADDCCABBDBEEADBBBCEA...   \n",
       "\n",
       "                                     Questoes Gerais  \\\n",
       "0  DEBADCBDACDEEABEACBBDDEBDACCDCDABCDEDBAABCADEB...   \n",
       "1  ECDBECADACBAEABDADEDDDABDABCDBDCABEEEABABEABAB...   \n",
       "2  D.DACDBBAADCEACCDDAADBACDABEABCCBCEBAEBCBAAAAB...   \n",
       "3  DCABCDADAABCEABEADBDAAEDDAACCBBCBBEAEAAAEEABAB...   \n",
       "4  DBECACBAAABAEADCDAADAACCBAEDBBEDCCEDDABCBAABDA...   \n",
       "\n",
       "                                Gabarito Especificas  \\\n",
       "0  DDCEBADCBEBBADBAEDEBBAEABDABCEDEBEEBBCABEDDCBC...   \n",
       "1  DDCEBADCBEBBADBAEDEBBAEABDABCEDEBEEBBCABEDDCBC...   \n",
       "2  DDCEBADCBEBBADBAEDEBBAEABDABCEDEBEEBBCABEDDCBC...   \n",
       "3  DDCEBADCBEBBADBAEDEBBAEABDABCEDEBEEBBCABEDDCBC...   \n",
       "4  DDCEBADCBEBBADBAEDEBBAEABDABCEDEBEEBBCABEDDCBC...   \n",
       "\n",
       "                                     Gabarito Gerais Acertos Gerais  \\\n",
       "0  DCEADABDACDCEABDADBEDDEBBACCDDDCBBBBEAAEBCABAB...           44.0   \n",
       "1  DCEADABDACDCEABDADBEDDEBBACCDDDCBBBBEAAEBCABAB...           38.0   \n",
       "2  DCEADABDACDCEABDADBEDDEBBACCDDDCBBBBEAAEBCABAB...           26.0   \n",
       "3  DCEADABDACDCEABDADBEDDEBBACCDDDCBBBBEAAEBCABAB...           36.0   \n",
       "4  DCEADABDACDCEABDADBEDDEBBACCDDDCBBBBEAAEBCABAB...           21.0   \n",
       "\n",
       "  Acertos Especificas  \n",
       "0                67.0  \n",
       "1                29.0  \n",
       "2                30.0  \n",
       "3                32.0  \n",
       "4                18.0  \n",
       "\n",
       "[5 rows x 33 columns]"
      ]
     },
     "execution_count": 8,
     "metadata": {},
     "output_type": "execute_result"
    }
   ],
   "source": [
    "print(df.shape)\n",
    "df.head(5)"
   ]
  },
  {
   "cell_type": "markdown",
   "id": "b6ea8867",
   "metadata": {},
   "source": [
    "## Montagem de Rede de Questionário Socioeconômico"
   ]
  },
  {
   "cell_type": "code",
   "execution_count": 9,
   "id": "b5f03a60",
   "metadata": {},
   "outputs": [
    {
     "data": {
      "text/plain": [
       "(400, 18)"
      ]
     },
     "execution_count": 9,
     "metadata": {},
     "output_type": "execute_result"
    }
   ],
   "source": [
    "n_candidatos = df.shape[0]\n",
    "n_perguntas_questionario = len(df['Respostas Questionario'].iloc[0])\n",
    "n_candidatos, n_perguntas_questionario"
   ]
  },
  {
   "cell_type": "code",
   "execution_count": 10,
   "id": "9cf2ef3f",
   "metadata": {},
   "outputs": [],
   "source": [
    "respostas_questionario = df['Respostas Questionario'].tolist()"
   ]
  },
  {
   "cell_type": "markdown",
   "id": "146973f3",
   "metadata": {},
   "source": [
    "Antes de montar a rede por si só, precisamos dar uma olhada nos dados para ver qual a quantidade de perguntas respondidas em comum para que uma aresta possa ser formada"
   ]
  },
  {
   "cell_type": "code",
   "execution_count": 11,
   "id": "e75eed7b",
   "metadata": {},
   "outputs": [],
   "source": [
    "respostas_iguais_quest = list()\n",
    "for id_prova1 in range(n_candidatos):\n",
    "    for id_prova2 in range(id_prova1 + 1, n_candidatos):\n",
    "        n_respostas_iguais = 0\n",
    "        for i in range(n_perguntas_questionario):\n",
    "            if (respostas_questionario[id_prova1][i] == respostas_questionario[id_prova2][i]):\n",
    "                n_respostas_iguais+=1\n",
    "        respostas_iguais_quest.append(n_respostas_iguais)"
   ]
  },
  {
   "cell_type": "code",
   "execution_count": 12,
   "id": "d3ed8ac5",
   "metadata": {
    "scrolled": false
   },
   "outputs": [
    {
     "data": {
      "image/png": "[encoded data removed]",
      "text/plain": [
       "<Figure size 640x480 with 1 Axes>"
      ]
     },
     "metadata": {},
     "output_type": "display_data"
    }
   ],
   "source": [
    "freq_questionario = Counter(respostas_iguais_quest)\n",
    "plt.figure()\n",
    "plt.bar(freq_questionario.keys(), freq_questionario.values())\n",
    "plt.show()"
   ]
  },
  {
   "cell_type": "code",
   "execution_count": 13,
   "id": "7833c5db",
   "metadata": {},
   "outputs": [
    {
     "data": {
      "text/plain": [
       "8.502606516290728"
      ]
     },
     "execution_count": 13,
     "metadata": {},
     "output_type": "execute_result"
    }
   ],
   "source": [
    "np.mean(respostas_iguais_quest)"
   ]
  },
  {
   "cell_type": "code",
   "execution_count": 14,
   "id": "f93bf887",
   "metadata": {
    "scrolled": true
   },
   "outputs": [
    {
     "data": {
      "text/plain": [
       "9.0"
      ]
     },
     "execution_count": 14,
     "metadata": {},
     "output_type": "execute_result"
    }
   ],
   "source": [
    "np.median(respostas_iguais_quest)"
   ]
  },
  {
   "cell_type": "markdown",
   "id": "362dec0b",
   "metadata": {},
   "source": [
    "Como esse gráfico se assemelha bastante com uma normal, vamos tentar utilizar a média ~= mediana como threshold de criação de aresta"
   ]
  },
  {
   "cell_type": "markdown",
   "id": "88d352cb",
   "metadata": {},
   "source": [
    "A máquina disponível começa a travar depois de 50.000 arestas, vamos ver se ela aguenta esse valor"
   ]
  },
  {
   "cell_type": "code",
   "execution_count": 15,
   "id": "eaee3521",
   "metadata": {},
   "outputs": [
    {
     "name": "stdout",
     "output_type": "stream",
     "text": [
      "Travou em 7 com 52566\n"
     ]
    }
   ],
   "source": [
    "quant_arestas = 0\n",
    "max_resps_iguais = 0\n",
    "max_freq_quest = max(freq_questionario)\n",
    "for i in range(len(freq_questionario)):\n",
    "    quant_arestas += freq_questionario[n_perguntas_questionario - i]\n",
    "    if quant_arestas > 50000:\n",
    "        print(f'Travou em {max_freq_quest - i} com {quant_arestas}')\n",
    "        max_resps_iguais = max_freq_quest - i\n",
    "        break"
   ]
  },
  {
   "cell_type": "code",
   "execution_count": 16,
   "id": "a849400b",
   "metadata": {},
   "outputs": [],
   "source": [
    "threshold_quest = np.quantile(respostas_iguais_quest, 0.75)\n",
    "arestas_questionario = list()\n",
    "for id_prova1 in range(n_candidatos):\n",
    "    for id_prova2 in range(id_prova1 + 1, n_candidatos):\n",
    "        n_respostas_iguais = 0\n",
    "        for i in range(n_perguntas_questionario):\n",
    "            if (respostas_questionario[id_prova1][i] == respostas_questionario[id_prova2][i]):\n",
    "                n_respostas_iguais+=1\n",
    "        if n_respostas_iguais >= threshold_quest:\n",
    "            arestas_questionario.append((id_prova1, id_prova2))"
   ]
  },
  {
   "cell_type": "code",
   "execution_count": 17,
   "id": "9b20eaff",
   "metadata": {},
   "outputs": [],
   "source": [
    "g_quest = Graph(directed=False)\n",
    "\n",
    "for aresta in arestas_questionario:\n",
    "    if not(g_quest.has_vertex(aresta[0])):\n",
    "        g_quest.add_vertex(aresta[0])\n",
    "    if not(g_quest.has_vertex(aresta[1])):\n",
    "        g_quest.add_vertex(aresta[1])\n",
    "    if not (g_quest.has_edge(aresta[0], aresta[1])):\n",
    "        g_quest.add_edge(aresta[0], aresta[1])"
   ]
  },
  {
   "cell_type": "code",
   "execution_count": 18,
   "id": "de4334ea",
   "metadata": {},
   "outputs": [],
   "source": [
    "SAMPLE_400_DIR = pathlib.Path.cwd().parent / 'projeto' / 'sample400'\n",
    "SAMPLE_400_DIR.mkdir(parents=True, exist_ok=True)"
   ]
  },
  {
   "cell_type": "code",
   "execution_count": 19,
   "id": "d204b539",
   "metadata": {},
   "outputs": [],
   "source": [
    "GRAFO_QUESTIONARIO_DIR = SAMPLE_400_DIR / 'quest_socioecon.net.gz'"
   ]
  },
  {
   "cell_type": "code",
   "execution_count": 20,
   "id": "ef43c851",
   "metadata": {},
   "outputs": [],
   "source": [
    "gt_save(g_quest, GRAFO_QUESTIONARIO_DIR)"
   ]
  },
  {
   "cell_type": "code",
   "execution_count": 21,
   "id": "6287e030",
   "metadata": {},
   "outputs": [
    {
     "name": "stdout",
     "output_type": "stream",
     "text": [
      "Número de vértices: 400\n",
      "Número de arestas: 29015\n",
      "Número máximo de arestas (gráfico não dirigido): 79800\n",
      "Densidade: 0.3635964912280702\n"
     ]
    }
   ],
   "source": [
    "n_quest = g_quest.num_vertices()\n",
    "m_quest = g_quest.num_edges()\n",
    "max_edges_quest = n_quest * (n_quest - 1) // 2\n",
    "d_quest = m_quest / max_edges_quest\n",
    "\n",
    "print(f'Número de vértices: {n_quest}')\n",
    "print(f'Número de arestas: {m_quest}')\n",
    "print(f'Número máximo de arestas (gráfico não dirigido): {max_edges_quest}')\n",
    "print(f'Densidade: {d_quest}')"
   ]
  },
  {
   "cell_type": "code",
   "execution_count": 22,
   "id": "063f2cb3",
   "metadata": {},
   "outputs": [
    {
     "data": {
      "text/plain": [
       "count    400.000000\n",
       "mean     145.075000\n",
       "std       61.563174\n",
       "min        7.000000\n",
       "25%      104.750000\n",
       "50%      160.000000\n",
       "75%      191.000000\n",
       "max      258.000000\n",
       "Name: degree, dtype: float64"
      ]
     },
     "execution_count": 22,
     "metadata": {},
     "output_type": "execute_result"
    },
    {
     "data": {
      "image/png": "[encoded data removed]",
      "text/plain": [
       "<Figure size 640x480 with 1 Axes>"
      ]
     },
     "metadata": {},
     "output_type": "display_data"
    }
   ],
   "source": [
    "# Função para formatar propriedades dos vértices\n",
    "data_quest = gt_data(g_quest)\n",
    "\n",
    "# Soma do in-degree com o out-degree\n",
    "degrees = []\n",
    "for v in g_quest.all_vertices():\n",
    "    degrees.append(v.total_degree())\n",
    "\n",
    "# Adicionando métricas ao df\n",
    "data_quest['degree'] = degrees\n",
    "\n",
    "# Visualizando histograma do degree\n",
    "sns.histplot(data_quest['degree'])\n",
    "data_quest['degree'].describe()"
   ]
  },
  {
   "cell_type": "code",
   "execution_count": 23,
   "id": "bafd4860",
   "metadata": {},
   "outputs": [],
   "source": [
    "GRAFO_QUESTIONARIO_SFPD_DIR = SAMPLE_400_DIR / 'SFDP_quest_socioecon.net.gz'"
   ]
  },
  {
   "cell_type": "code",
   "execution_count": 24,
   "id": "932dcae2",
   "metadata": {},
   "outputs": [],
   "source": [
    "# Método que aproxima e afasta vértices dependendo se estão ou não conectados, respectivamente\n",
    "g_quest_SFDP = gt_load(GRAFO_QUESTIONARIO_DIR)\n",
    "g_quest_SFDP = gt_clean(g_quest_SFDP)\n",
    "m = gt_draw.sfdp_layout(g_quest_SFDP)\n",
    "gt_move(g_quest_SFDP, m)\n",
    "gt_save(g_quest_SFDP, GRAFO_QUESTIONARIO_SFPD_DIR)"
   ]
  },
  {
   "cell_type": "code",
   "execution_count": 25,
   "id": "31f9ff0a",
   "metadata": {},
   "outputs": [
    {
     "data": {
      "text/plain": [
       "PosixPath('/home/jupyter/notebooks/projeto/sample400/SFDP_quest_socioecon.net.gz')"
      ]
     },
     "execution_count": 25,
     "metadata": {},
     "output_type": "execute_result"
    }
   ],
   "source": [
    "GRAFO_QUESTIONARIO_SFPD_DIR"
   ]
  },
  {
   "cell_type": "code",
   "execution_count": 26,
   "id": "7ca45f96",
   "metadata": {},
   "outputs": [],
   "source": [
    "# r = netpixi.render('./sample400/SFDP_quest_socioecon.net.gz', infinite=True)"
   ]
  },
  {
   "cell_type": "markdown",
   "id": "f9e17546",
   "metadata": {},
   "source": [
    "Usando coreness para identificar o \"quão de centro\" é cada vértice"
   ]
  },
  {
   "cell_type": "code",
   "execution_count": 27,
   "id": "fb8ca333",
   "metadata": {},
   "outputs": [
    {
     "name": "stderr",
     "output_type": "stream",
     "text": [
      "<frozen importlib._bootstrap>:914: ImportWarning: VendorImporter.find_spec() not found; falling back to find_module()\n"
     ]
    }
   ],
   "source": [
    "matrix = spectral.adjacency(g_quest_SFDP)\n",
    "\n",
    "algorithm = cpnet.Rombach()\n",
    "algorithm.detect(matrix)\n",
    "c_quest = algorithm.get_coreness()"
   ]
  },
  {
   "cell_type": "code",
   "execution_count": 28,
   "id": "1146138a",
   "metadata": {},
   "outputs": [],
   "source": [
    "df['c_quest'] = df.index.map(c_quest.get)"
   ]
  },
  {
   "cell_type": "code",
   "execution_count": 29,
   "id": "c83932ac",
   "metadata": {},
   "outputs": [],
   "source": [
    "# g_quest_SFDP.add_vp('coreness')\n",
    "# for i, coreness in c_quest.items():\n",
    "#     v = g_quest_SFDP.get_vertex_by_index(i)\n",
    "#     v['coreness'] = float(coreness)\n",
    "\n",
    "# for v in g_quest_SFDP.all_vertices():\n",
    "#     r.vertex(v['id'], size=(10 + 40 * v['coreness']))"
   ]
  },
  {
   "cell_type": "markdown",
   "id": "81e52cdb",
   "metadata": {},
   "source": [
    "## Montagem da Rede de Conhecimentos Gerais"
   ]
  },
  {
   "cell_type": "code",
   "execution_count": 30,
   "id": "e8d60d0c",
   "metadata": {
    "scrolled": true
   },
   "outputs": [
    {
     "data": {
      "text/plain": [
       "(400, 71)"
      ]
     },
     "execution_count": 30,
     "metadata": {},
     "output_type": "execute_result"
    }
   ],
   "source": [
    "n_questoes_gerais = len(df['Questoes Gerais'].iloc[0])\n",
    "n_candidatos, n_questoes_gerais"
   ]
  },
  {
   "cell_type": "code",
   "execution_count": 31,
   "id": "ba27ea76",
   "metadata": {},
   "outputs": [],
   "source": [
    "questoes_gerais = df['Questoes Gerais'].tolist()"
   ]
  },
  {
   "cell_type": "code",
   "execution_count": 32,
   "id": "8d88984d",
   "metadata": {},
   "outputs": [],
   "source": [
    "respostas_iguais_prova = list()\n",
    "for id_prova1 in range(n_candidatos):\n",
    "    for id_prova2 in range(id_prova1 + 1, n_candidatos):\n",
    "        n_respostas_iguais = 0\n",
    "        for i in range(n_questoes_gerais):\n",
    "            if (questoes_gerais[id_prova1][i] == questoes_gerais[id_prova2][i]):\n",
    "                n_respostas_iguais+=1\n",
    "        respostas_iguais_prova.append(n_respostas_iguais)"
   ]
  },
  {
   "cell_type": "code",
   "execution_count": 33,
   "id": "54fb01b4",
   "metadata": {},
   "outputs": [
    {
     "data": {
      "image/png": "[encoded data removed]",
      "text/plain": [
       "<Figure size 640x480 with 1 Axes>"
      ]
     },
     "metadata": {},
     "output_type": "display_data"
    }
   ],
   "source": [
    "freq_prova = Counter(respostas_iguais_prova)\n",
    "plt.figure()\n",
    "plt.bar(freq_prova.keys(), freq_prova.values())\n",
    "plt.show()"
   ]
  },
  {
   "cell_type": "code",
   "execution_count": 34,
   "id": "bae27257",
   "metadata": {},
   "outputs": [
    {
     "name": "stdout",
     "output_type": "stream",
     "text": [
      "Média: 22.452105263157893\n",
      "Mediana: 22.0\n",
      "Quartis: [ 5. 18. 22. 26. 55.]\n"
     ]
    }
   ],
   "source": [
    "print(f'Média: {np.mean(respostas_iguais_prova)}')\n",
    "print(f'Mediana: {np.median(respostas_iguais_prova)}')\n",
    "print(f'Quartis: {np.quantile(respostas_iguais_prova, [0,0.25,0.5,0.75,1])}')"
   ]
  },
  {
   "cell_type": "code",
   "execution_count": 35,
   "id": "96b2cca1",
   "metadata": {},
   "outputs": [
    {
     "name": "stdout",
     "output_type": "stream",
     "text": [
      "Travou em 18 com 60577\n"
     ]
    }
   ],
   "source": [
    "quant_arestas_geral = 0\n",
    "threshold = 0\n",
    "for i in range(len(freq_prova)):\n",
    "    quant_arestas_geral += freq_prova[max(freq_prova) - i]\n",
    "    if quant_arestas_geral > 60000:\n",
    "        print(f'Travou em {max(freq_prova) - i} com {quant_arestas_geral}')\n",
    "        threshold = max(freq_prova) - i\n",
    "        break"
   ]
  },
  {
   "cell_type": "code",
   "execution_count": 36,
   "id": "1476f747",
   "metadata": {},
   "outputs": [],
   "source": [
    "thresh_prova = np.median(respostas_iguais_prova)\n",
    "arestas_prova = list()\n",
    "for id_prova1 in range(n_candidatos):\n",
    "    for id_prova2 in range(id_prova1 + 1, n_candidatos):\n",
    "        n_respostas_iguais = 0\n",
    "        for i in range(n_questoes_gerais):\n",
    "            if (questoes_gerais[id_prova1][i] == questoes_gerais[id_prova2][i]):\n",
    "                n_respostas_iguais+=1\n",
    "        if n_respostas_iguais >= thresh_prova:\n",
    "            arestas_prova.append((id_prova1, id_prova2))"
   ]
  },
  {
   "cell_type": "code",
   "execution_count": 37,
   "id": "80b6c087",
   "metadata": {},
   "outputs": [],
   "source": [
    "g_prova = Graph(directed=False)\n",
    "\n",
    "for aresta in arestas_prova:\n",
    "    if not(g_prova.has_vertex(aresta[0])):\n",
    "        g_prova.add_vertex(aresta[0])\n",
    "    if not(g_prova.has_vertex(aresta[1])):\n",
    "        g_prova.add_vertex(aresta[1])\n",
    "    if not (g_prova.has_edge(aresta[0], aresta[1])):\n",
    "        g_prova.add_edge(aresta[0], aresta[1])"
   ]
  },
  {
   "cell_type": "code",
   "execution_count": 38,
   "id": "9656c88f",
   "metadata": {},
   "outputs": [],
   "source": [
    "GRAFO_PROVA_DIR = SAMPLE_400_DIR / 'grafo_prova.net.gz'"
   ]
  },
  {
   "cell_type": "code",
   "execution_count": 39,
   "id": "4aaa5265",
   "metadata": {},
   "outputs": [],
   "source": [
    "gt_save(g_prova, GRAFO_PROVA_DIR)"
   ]
  },
  {
   "cell_type": "code",
   "execution_count": 40,
   "id": "1c8d7caf",
   "metadata": {},
   "outputs": [
    {
     "name": "stdout",
     "output_type": "stream",
     "text": [
      "Número de vértices: 400\n",
      "Número de arestas: 40216\n",
      "Número máximo de arestas (gráfico não dirigido): 79800\n",
      "Densidade: 0.5039598997493734\n"
     ]
    }
   ],
   "source": [
    "n_prova = g_prova.num_vertices()\n",
    "m_prova = g_prova.num_edges()\n",
    "max_edges_prova = n_prova * (n_prova - 1) // 2\n",
    "d_prova = m_prova / max_edges_prova\n",
    "\n",
    "print(f'Número de vértices: {n_prova}')\n",
    "print(f'Número de arestas: {m_prova}')\n",
    "print(f'Número máximo de arestas (gráfico não dirigido): {max_edges_prova}')\n",
    "print(f'Densidade: {d_prova}')"
   ]
  },
  {
   "cell_type": "code",
   "execution_count": 41,
   "id": "ac6914c8",
   "metadata": {},
   "outputs": [
    {
     "data": {
      "text/plain": [
       "count    400.000000\n",
       "mean     201.080000\n",
       "std       94.765711\n",
       "min        3.000000\n",
       "25%      126.750000\n",
       "50%      240.500000\n",
       "75%      277.000000\n",
       "max      319.000000\n",
       "Name: degree, dtype: float64"
      ]
     },
     "execution_count": 41,
     "metadata": {},
     "output_type": "execute_result"
    },
    {
     "data": {
      "image/png": "[encoded data removed]",
      "text/plain": [
       "<Figure size 640x480 with 1 Axes>"
      ]
     },
     "metadata": {},
     "output_type": "display_data"
    }
   ],
   "source": [
    "data_prova = gt_data(g_prova)\n",
    "degrees = []\n",
    "for v in g_prova.all_vertices():\n",
    "    degrees.append(v.total_degree())\n",
    "data_prova['degree'] = degrees\n",
    "sns.histplot(data_prova['degree'])\n",
    "data_prova['degree'].describe()"
   ]
  },
  {
   "cell_type": "code",
   "execution_count": 42,
   "id": "55daf350",
   "metadata": {},
   "outputs": [],
   "source": [
    "GRAFO_SFPD_PROVA_DIR = SAMPLE_400_DIR / 'SFPD_grafo_prova.net.gz'"
   ]
  },
  {
   "cell_type": "code",
   "execution_count": 43,
   "id": "3d58dfc5",
   "metadata": {},
   "outputs": [],
   "source": [
    "# Método que aproxima e afasta vértices dependendo se estão ou não conectados, respectivamente\n",
    "g_prova_SFDP = gt_load(GRAFO_PROVA_DIR)\n",
    "g_prova_SFDP = gt_clean(g_prova_SFDP)\n",
    "m = gt_draw.sfdp_layout(g_prova_SFDP)\n",
    "gt_move(g_prova_SFDP, m)\n",
    "gt_save(g_prova_SFDP, GRAFO_SFPD_PROVA_DIR)"
   ]
  },
  {
   "cell_type": "code",
   "execution_count": 44,
   "id": "fe738bb6",
   "metadata": {},
   "outputs": [],
   "source": [
    "# r = netpixi.render('./sample400/SFPD_grafo_prova.net.gz', infinite=True)"
   ]
  },
  {
   "cell_type": "code",
   "execution_count": 45,
   "id": "e4456069",
   "metadata": {},
   "outputs": [],
   "source": [
    "matrix = spectral.adjacency(g_prova_SFDP)\n",
    "\n",
    "algorithm = cpnet.Rombach()\n",
    "algorithm.detect(matrix)\n",
    "c_prova = algorithm.get_coreness()\n",
    "\n",
    "g_prova_SFDP.add_vp('coreness')"
   ]
  },
  {
   "cell_type": "code",
   "execution_count": 46,
   "id": "ce8a65b0",
   "metadata": {},
   "outputs": [],
   "source": [
    "df['c_prova'] = df.index.map(c_prova.get)"
   ]
  },
  {
   "cell_type": "code",
   "execution_count": 47,
   "id": "90ec9d57",
   "metadata": {},
   "outputs": [],
   "source": [
    "# for i, coreness in c_prova.items():\n",
    "#     v = g_prova_SFDP.get_vertex_by_index(i)\n",
    "#     v['coreness'] = float(coreness)\n",
    "\n",
    "# for v in g_prova_SFDP.all_vertices():\n",
    "#     r.vertex(v['id'], size=(10 + 40 * v['coreness']))"
   ]
  },
  {
   "cell_type": "markdown",
   "id": "fa8160ff",
   "metadata": {},
   "source": [
    "## Criando DataFrames dos candidatos mais centrais"
   ]
  },
  {
   "cell_type": "markdown",
   "id": "56b62ebb",
   "metadata": {},
   "source": [
    "### Para rede de questionário"
   ]
  },
  {
   "cell_type": "markdown",
   "id": "65d2a265",
   "metadata": {},
   "source": [
    "Separando centro de periferia"
   ]
  },
  {
   "cell_type": "code",
   "execution_count": 48,
   "id": "29086f0d",
   "metadata": {
    "scrolled": true
   },
   "outputs": [
    {
     "data": {
      "text/plain": [
       "<AxesSubplot: ylabel='Count'>"
      ]
     },
     "execution_count": 48,
     "metadata": {},
     "output_type": "execute_result"
    },
    {
     "data": {
      "image/png": "[encoded data removed]",
      "text/plain": [
       "<Figure size 640x480 with 1 Axes>"
      ]
     },
     "metadata": {},
     "output_type": "display_data"
    }
   ],
   "source": [
    "sns.histplot(c_quest.values())"
   ]
  },
  {
   "cell_type": "code",
   "execution_count": 49,
   "id": "62b71cb7",
   "metadata": {},
   "outputs": [],
   "source": [
    "thresh_centralidade_quest = 0.6"
   ]
  },
  {
   "cell_type": "code",
   "execution_count": 50,
   "id": "09c116fc",
   "metadata": {},
   "outputs": [],
   "source": [
    "candidatos_centrais_quest = list()\n",
    "for vertex_id in c_quest:\n",
    "    if c_quest[vertex_id] > thresh_centralidade_quest:\n",
    "        candidatos_centrais_quest.append(vertex_id)"
   ]
  },
  {
   "cell_type": "code",
   "execution_count": 51,
   "id": "47c701d9",
   "metadata": {},
   "outputs": [],
   "source": [
    "df_centrais_quest = df.iloc[candidatos_centrais_quest]"
   ]
  },
  {
   "cell_type": "markdown",
   "id": "645050b1",
   "metadata": {},
   "source": [
    "### Para rede de Prova"
   ]
  },
  {
   "cell_type": "code",
   "execution_count": 52,
   "id": "c3f8f460",
   "metadata": {
    "scrolled": true
   },
   "outputs": [
    {
     "data": {
      "text/plain": [
       "<AxesSubplot: ylabel='Count'>"
      ]
     },
     "execution_count": 52,
     "metadata": {},
     "output_type": "execute_result"
    },
    {
     "data": {
      "image/png": "[encoded data removed]",
      "text/plain": [
       "<Figure size 640x480 with 1 Axes>"
      ]
     },
     "metadata": {},
     "output_type": "display_data"
    }
   ],
   "source": [
    "sns.histplot(c_prova.values())"
   ]
  },
  {
   "cell_type": "code",
   "execution_count": 53,
   "id": "6c1d87f9",
   "metadata": {},
   "outputs": [],
   "source": [
    "thresh_centralidade_prova = 0.6"
   ]
  },
  {
   "cell_type": "code",
   "execution_count": 54,
   "id": "71f4fae7",
   "metadata": {},
   "outputs": [],
   "source": [
    "candidatos_centrais_prova = list()\n",
    "for vertex_id in c_prova:\n",
    "    if c_prova[vertex_id] > thresh_centralidade_prova:\n",
    "        candidatos_centrais_prova.append(vertex_id)"
   ]
  },
  {
   "cell_type": "code",
   "execution_count": 55,
   "id": "87233b0c",
   "metadata": {},
   "outputs": [],
   "source": [
    "df_centrais_prova = df.iloc[candidatos_centrais_prova]"
   ]
  },
  {
   "cell_type": "code",
   "execution_count": 56,
   "id": "88da811e",
   "metadata": {
    "scrolled": true
   },
   "outputs": [
    {
     "data": {
      "text/html": [
       "<div>\n",
       "<style scoped>\n",
       "    .dataframe tbody tr th:only-of-type {\n",
       "        vertical-align: middle;\n",
       "    }\n",
       "\n",
       "    .dataframe tbody tr th {\n",
       "        vertical-align: top;\n",
       "    }\n",
       "\n",
       "    .dataframe thead th {\n",
       "        text-align: right;\n",
       "    }\n",
       "</style>\n",
       "<table border=\"1\" class=\"dataframe\">\n",
       "  <thead>\n",
       "    <tr style=\"text-align: right;\">\n",
       "      <th></th>\n",
       "      <th>index</th>\n",
       "      <th>NU_INSCRICAO</th>\n",
       "      <th>TP_FAIXA_ETARIA</th>\n",
       "      <th>TP_SEXO</th>\n",
       "      <th>Q001</th>\n",
       "      <th>Q002</th>\n",
       "      <th>Q005</th>\n",
       "      <th>Q006</th>\n",
       "      <th>Q007</th>\n",
       "      <th>Q008</th>\n",
       "      <th>...</th>\n",
       "      <th>Respostas Questionario</th>\n",
       "      <th>Acertos Totias</th>\n",
       "      <th>Questoes Especificas</th>\n",
       "      <th>Questoes Gerais</th>\n",
       "      <th>Gabarito Especificas</th>\n",
       "      <th>Gabarito Gerais</th>\n",
       "      <th>Acertos Gerais</th>\n",
       "      <th>Acertos Especificas</th>\n",
       "      <th>c_quest</th>\n",
       "      <th>c_prova</th>\n",
       "    </tr>\n",
       "  </thead>\n",
       "  <tbody>\n",
       "    <tr>\n",
       "      <th>0</th>\n",
       "      <td>1385728</td>\n",
       "      <td>210053015811</td>\n",
       "      <td>3</td>\n",
       "      <td>F</td>\n",
       "      <td>G</td>\n",
       "      <td>G</td>\n",
       "      <td>2.0</td>\n",
       "      <td>N</td>\n",
       "      <td>B</td>\n",
       "      <td>D</td>\n",
       "      <td>...</td>\n",
       "      <td>BGGNBDDBABBBBBBCCD</td>\n",
       "      <td>96</td>\n",
       "      <td>DABECAEABADCAECAEDEBBAEABDABCBDCCECDDDCADCACDC...</td>\n",
       "      <td>DAEABABDACCBEABDADBBDDEBBAACDCDCBBEACAAEBBABAA...</td>\n",
       "      <td>DDCEBADCBEBBADBAEDEBBAEABDABCEDEBEEBBCABEDDCBC...</td>\n",
       "      <td>DCEADABDACDCEABDADBEDDEBBACCDDDCBBBBEAAEBCABAB...</td>\n",
       "      <td>48.0</td>\n",
       "      <td>48.0</td>\n",
       "      <td>0.014063</td>\n",
       "      <td>0.859375</td>\n",
       "    </tr>\n",
       "    <tr>\n",
       "      <th>4</th>\n",
       "      <td>1288196</td>\n",
       "      <td>210052768440</td>\n",
       "      <td>5</td>\n",
       "      <td>F</td>\n",
       "      <td>E</td>\n",
       "      <td>B</td>\n",
       "      <td>7.0</td>\n",
       "      <td>G</td>\n",
       "      <td>A</td>\n",
       "      <td>B</td>\n",
       "      <td>...</td>\n",
       "      <td>EEBGABDBBBCAAAABEB</td>\n",
       "      <td>40</td>\n",
       "      <td>BBDBECCABCDBACCDBBBEDAEBEEADBAEBDECCBDDBEABBAB...</td>\n",
       "      <td>DBAABAABDABAEEACBADABAEDBBAAEDDABCDADABCCAAADA...</td>\n",
       "      <td>DDCEBADCBEBBADBAEDEBBAEABDABCEDEBEEBBCABEDDCBC...</td>\n",
       "      <td>DCEADABDACDCEABDADBEDDEBBACCDDDCBBBBEAAEBCABAB...</td>\n",
       "      <td>15.0</td>\n",
       "      <td>25.0</td>\n",
       "      <td>0.017969</td>\n",
       "      <td>0.834375</td>\n",
       "    </tr>\n",
       "    <tr>\n",
       "      <th>6</th>\n",
       "      <td>2290564</td>\n",
       "      <td>210051372886</td>\n",
       "      <td>1</td>\n",
       "      <td>F</td>\n",
       "      <td>E</td>\n",
       "      <td>E</td>\n",
       "      <td>4.0</td>\n",
       "      <td>D</td>\n",
       "      <td>A</td>\n",
       "      <td>C</td>\n",
       "      <td>...</td>\n",
       "      <td>DEEDACDAABBBBBACDB</td>\n",
       "      <td>49</td>\n",
       "      <td>ABACAAECABDBDCCBBCCBAAEADEADBDEEAECCCDABDADEEC...</td>\n",
       "      <td>DCAACCADADDDBABCDCBDAAECDBACDCDCBCCDDCAABEADBA...</td>\n",
       "      <td>DDCEBADCBEBBADBAEDEBBAEABDABCEDEBEEBBCABEDDCBC...</td>\n",
       "      <td>DCEADABDACDCEABDADBEDDEBBACCDDDCBBBBEAAEBCABAB...</td>\n",
       "      <td>26.0</td>\n",
       "      <td>23.0</td>\n",
       "      <td>0.027344</td>\n",
       "      <td>0.912500</td>\n",
       "    </tr>\n",
       "    <tr>\n",
       "      <th>9</th>\n",
       "      <td>1375946</td>\n",
       "      <td>210054129416</td>\n",
       "      <td>3</td>\n",
       "      <td>M</td>\n",
       "      <td>D</td>\n",
       "      <td>E</td>\n",
       "      <td>4.0</td>\n",
       "      <td>F</td>\n",
       "      <td>A</td>\n",
       "      <td>C</td>\n",
       "      <td>...</td>\n",
       "      <td>DDEFACECABBBBBABEC</td>\n",
       "      <td>75</td>\n",
       "      <td>DBBCBDDBBCDCAEBCECABBAAADBABDBDDBEDEDDBDDCDCAC...</td>\n",
       "      <td>DEBACAABACCCEABDADDEDBCBDAEDACDCBBEBDBAAEEABAB...</td>\n",
       "      <td>DDCEBADCBEBBADBAEDEBBAEABDABCEDEBEEBBCABEDDCBC...</td>\n",
       "      <td>DCEADABDACDCEABDADBEDDEBBACCDDDCBBBBEAAEBCABAB...</td>\n",
       "      <td>41.0</td>\n",
       "      <td>34.0</td>\n",
       "      <td>0.070312</td>\n",
       "      <td>0.806250</td>\n",
       "    </tr>\n",
       "    <tr>\n",
       "      <th>12</th>\n",
       "      <td>81452</td>\n",
       "      <td>210053842564</td>\n",
       "      <td>1</td>\n",
       "      <td>F</td>\n",
       "      <td>E</td>\n",
       "      <td>E</td>\n",
       "      <td>2.0</td>\n",
       "      <td>B</td>\n",
       "      <td>A</td>\n",
       "      <td>B</td>\n",
       "      <td>...</td>\n",
       "      <td>BEEBABCAABBBABABCA</td>\n",
       "      <td>66</td>\n",
       "      <td>BDCBCAECBBCBECCAACBDBCEBDAABBCBBCEDBADCDAABCCB...</td>\n",
       "      <td>DEBBCCBDACBBEAADCAECCAEDDACEDCBCACEABDAEABABAD...</td>\n",
       "      <td>DDCEBADCBEBBADBAEDEBBAEABDABCEDEBEEBBCABEDDCBC...</td>\n",
       "      <td>DCEADABDACDCEABDADBEDDEBBACCDDDCBBBBEAAEBCABAB...</td>\n",
       "      <td>32.0</td>\n",
       "      <td>34.0</td>\n",
       "      <td>0.058594</td>\n",
       "      <td>0.856250</td>\n",
       "    </tr>\n",
       "  </tbody>\n",
       "</table>\n",
       "<p>5 rows × 35 columns</p>\n",
       "</div>"
      ],
      "text/plain": [
       "      index  NU_INSCRICAO  TP_FAIXA_ETARIA TP_SEXO Q001 Q002  Q005 Q006 Q007  \\\n",
       "0   1385728  210053015811                3       F    G    G   2.0    N    B   \n",
       "4   1288196  210052768440                5       F    E    B   7.0    G    A   \n",
       "6   2290564  210051372886                1       F    E    E   4.0    D    A   \n",
       "9   1375946  210054129416                3       M    D    E   4.0    F    A   \n",
       "12    81452  210053842564                1       F    E    E   2.0    B    A   \n",
       "\n",
       "   Q008  ... Respostas Questionario Acertos Totias  \\\n",
       "0     D  ...     BGGNBDDBABBBBBBCCD             96   \n",
       "4     B  ...     EEBGABDBBBCAAAABEB             40   \n",
       "6     C  ...     DEEDACDAABBBBBACDB             49   \n",
       "9     C  ...     DDEFACECABBBBBABEC             75   \n",
       "12    B  ...     BEEBABCAABBBABABCA             66   \n",
       "\n",
       "                                 Questoes Especificas  \\\n",
       "0   DABECAEABADCAECAEDEBBAEABDABCBDCCECDDDCADCACDC...   \n",
       "4   BBDBECCABCDBACCDBBBEDAEBEEADBAEBDECCBDDBEABBAB...   \n",
       "6   ABACAAECABDBDCCBBCCBAAEADEADBDEEAECCCDABDADEEC...   \n",
       "9   DBBCBDDBBCDCAEBCECABBAAADBABDBDDBEDEDDBDDCDCAC...   \n",
       "12  BDCBCAECBBCBECCAACBDBCEBDAABBCBBCEDBADCDAABCCB...   \n",
       "\n",
       "                                      Questoes Gerais  \\\n",
       "0   DAEABABDACCBEABDADBBDDEBBAACDCDCBBEACAAEBBABAA...   \n",
       "4   DBAABAABDABAEEACBADABAEDBBAAEDDABCDADABCCAAADA...   \n",
       "6   DCAACCADADDDBABCDCBDAAECDBACDCDCBCCDDCAABEADBA...   \n",
       "9   DEBACAABACCCEABDADDEDBCBDAEDACDCBBEBDBAAEEABAB...   \n",
       "12  DEBBCCBDACBBEAADCAECCAEDDACEDCBCACEABDAEABABAD...   \n",
       "\n",
       "                                 Gabarito Especificas  \\\n",
       "0   DDCEBADCBEBBADBAEDEBBAEABDABCEDEBEEBBCABEDDCBC...   \n",
       "4   DDCEBADCBEBBADBAEDEBBAEABDABCEDEBEEBBCABEDDCBC...   \n",
       "6   DDCEBADCBEBBADBAEDEBBAEABDABCEDEBEEBBCABEDDCBC...   \n",
       "9   DDCEBADCBEBBADBAEDEBBAEABDABCEDEBEEBBCABEDDCBC...   \n",
       "12  DDCEBADCBEBBADBAEDEBBAEABDABCEDEBEEBBCABEDDCBC...   \n",
       "\n",
       "                                      Gabarito Gerais Acertos Gerais  \\\n",
       "0   DCEADABDACDCEABDADBEDDEBBACCDDDCBBBBEAAEBCABAB...           48.0   \n",
       "4   DCEADABDACDCEABDADBEDDEBBACCDDDCBBBBEAAEBCABAB...           15.0   \n",
       "6   DCEADABDACDCEABDADBEDDEBBACCDDDCBBBBEAAEBCABAB...           26.0   \n",
       "9   DCEADABDACDCEABDADBEDDEBBACCDDDCBBBBEAAEBCABAB...           41.0   \n",
       "12  DCEADABDACDCEABDADBEDDEBBACCDDDCBBBBEAAEBCABAB...           32.0   \n",
       "\n",
       "   Acertos Especificas   c_quest   c_prova  \n",
       "0                 48.0  0.014063  0.859375  \n",
       "4                 25.0  0.017969  0.834375  \n",
       "6                 23.0  0.027344  0.912500  \n",
       "9                 34.0  0.070312  0.806250  \n",
       "12                34.0  0.058594  0.856250  \n",
       "\n",
       "[5 rows x 35 columns]"
      ]
     },
     "execution_count": 56,
     "metadata": {},
     "output_type": "execute_result"
    }
   ],
   "source": [
    "df_centrais_prova.head()"
   ]
  },
  {
   "cell_type": "code",
   "execution_count": 57,
   "id": "8ae84432",
   "metadata": {},
   "outputs": [
    {
     "data": {
      "text/html": [
       "<div>\n",
       "<style scoped>\n",
       "    .dataframe tbody tr th:only-of-type {\n",
       "        vertical-align: middle;\n",
       "    }\n",
       "\n",
       "    .dataframe tbody tr th {\n",
       "        vertical-align: top;\n",
       "    }\n",
       "\n",
       "    .dataframe thead th {\n",
       "        text-align: right;\n",
       "    }\n",
       "</style>\n",
       "<table border=\"1\" class=\"dataframe\">\n",
       "  <thead>\n",
       "    <tr style=\"text-align: right;\">\n",
       "      <th></th>\n",
       "      <th>index</th>\n",
       "      <th>NU_INSCRICAO</th>\n",
       "      <th>TP_FAIXA_ETARIA</th>\n",
       "      <th>TP_SEXO</th>\n",
       "      <th>Q001</th>\n",
       "      <th>Q002</th>\n",
       "      <th>Q005</th>\n",
       "      <th>Q006</th>\n",
       "      <th>Q007</th>\n",
       "      <th>Q008</th>\n",
       "      <th>...</th>\n",
       "      <th>Respostas Questionario</th>\n",
       "      <th>Acertos Totias</th>\n",
       "      <th>Questoes Especificas</th>\n",
       "      <th>Questoes Gerais</th>\n",
       "      <th>Gabarito Especificas</th>\n",
       "      <th>Gabarito Gerais</th>\n",
       "      <th>Acertos Gerais</th>\n",
       "      <th>Acertos Especificas</th>\n",
       "      <th>c_quest</th>\n",
       "      <th>c_prova</th>\n",
       "    </tr>\n",
       "  </thead>\n",
       "  <tbody>\n",
       "    <tr>\n",
       "      <th>49</th>\n",
       "      <td>1528233</td>\n",
       "      <td>210053805767</td>\n",
       "      <td>10</td>\n",
       "      <td>F</td>\n",
       "      <td>C</td>\n",
       "      <td>B</td>\n",
       "      <td>2.0</td>\n",
       "      <td>C</td>\n",
       "      <td>A</td>\n",
       "      <td>B</td>\n",
       "      <td>...</td>\n",
       "      <td>BCBCABCBABAAABAACC</td>\n",
       "      <td>80</td>\n",
       "      <td>BDEEDAECBDCBEDEABEEBAEAABCADCEDEEEEBABADEAAADC...</td>\n",
       "      <td>EEBADCADAECBEBBEEECDBDADBBACDDECBBEEEEAEBBAAAB...</td>\n",
       "      <td>DDCEBADCBEBBADBAEDEBBAEABDABCEDEBEEBBCABEDDCBC...</td>\n",
       "      <td>DCEADABDACDCEABDADBEDDEBBACCDDDCBBBBEAAEBCABAB...</td>\n",
       "      <td>38.0</td>\n",
       "      <td>42.0</td>\n",
       "      <td>0.918750</td>\n",
       "      <td>0.144531</td>\n",
       "    </tr>\n",
       "    <tr>\n",
       "      <th>58</th>\n",
       "      <td>1777517</td>\n",
       "      <td>210052753065</td>\n",
       "      <td>3</td>\n",
       "      <td>M</td>\n",
       "      <td>C</td>\n",
       "      <td>C</td>\n",
       "      <td>2.0</td>\n",
       "      <td>B</td>\n",
       "      <td>A</td>\n",
       "      <td>C</td>\n",
       "      <td>...</td>\n",
       "      <td>BCCBACCAABBBAAABCA</td>\n",
       "      <td>66</td>\n",
       "      <td>DBCCBABEDAECDDBADCEBCAEBBDCCBABEAEC*ECDBEABDCC...</td>\n",
       "      <td>DBEBEDBBACBCEABADCABDDDCDEADDDACACEADABEAEABAB...</td>\n",
       "      <td>DDCEBADCBEBBADBAEDEBBAEABDABCEDEBEEBBCABEDDCBC...</td>\n",
       "      <td>DCEADABDACDCEABDADBEDDEBBACCDDDCBBBBEAAEBCABAB...</td>\n",
       "      <td>32.0</td>\n",
       "      <td>34.0</td>\n",
       "      <td>0.975000</td>\n",
       "      <td>0.181250</td>\n",
       "    </tr>\n",
       "    <tr>\n",
       "      <th>62</th>\n",
       "      <td>1560309</td>\n",
       "      <td>210054435854</td>\n",
       "      <td>3</td>\n",
       "      <td>F</td>\n",
       "      <td>C</td>\n",
       "      <td>G</td>\n",
       "      <td>3.0</td>\n",
       "      <td>C</td>\n",
       "      <td>A</td>\n",
       "      <td>B</td>\n",
       "      <td>...</td>\n",
       "      <td>CCGCABCAABABAAABCA</td>\n",
       "      <td>44</td>\n",
       "      <td>BEEBABCABABCEC.CBAADBAAACDCCDBEDAEBCCEBEAABEEC...</td>\n",
       "      <td>DEEACBBDACBBEADEEABADDEDDEADDCACBCDAEEBACBABDA...</td>\n",
       "      <td>DDCEBADCBEBBADBAEDEBBAEABDABCEDEBEEBBCABEDDCBC...</td>\n",
       "      <td>DCEADABDACDCEABDADBEDDEBBACCDDDCBBBBEAAEBCABAB...</td>\n",
       "      <td>27.0</td>\n",
       "      <td>17.0</td>\n",
       "      <td>0.968750</td>\n",
       "      <td>0.200781</td>\n",
       "    </tr>\n",
       "    <tr>\n",
       "      <th>77</th>\n",
       "      <td>597497</td>\n",
       "      <td>210052833780</td>\n",
       "      <td>3</td>\n",
       "      <td>M</td>\n",
       "      <td>E</td>\n",
       "      <td>E</td>\n",
       "      <td>2.0</td>\n",
       "      <td>B</td>\n",
       "      <td>A</td>\n",
       "      <td>B</td>\n",
       "      <td>...</td>\n",
       "      <td>BEEBABBBBBAAAAABCA</td>\n",
       "      <td>50</td>\n",
       "      <td>BADCBCBACECCDBDDBCABDBDBBADBBACEBECCABCCDBBDDB...</td>\n",
       "      <td>DADACEBCAEBAEABDEBAABCCCBBABCBBAABECEADEBAABAB...</td>\n",
       "      <td>DDCEBADCBEBBADBAEDEBBAEABDABCEDEBEEBBCABEDDCBC...</td>\n",
       "      <td>DCEADABDACDCEABDADBEDDEBBACCDDDCBBBBEAAEBCABAB...</td>\n",
       "      <td>27.0</td>\n",
       "      <td>23.0</td>\n",
       "      <td>0.984375</td>\n",
       "      <td>0.225781</td>\n",
       "    </tr>\n",
       "    <tr>\n",
       "      <th>82</th>\n",
       "      <td>1266144</td>\n",
       "      <td>210053590886</td>\n",
       "      <td>7</td>\n",
       "      <td>M</td>\n",
       "      <td>E</td>\n",
       "      <td>F</td>\n",
       "      <td>2.0</td>\n",
       "      <td>D</td>\n",
       "      <td>A</td>\n",
       "      <td>B</td>\n",
       "      <td>...</td>\n",
       "      <td>BEFDABBAABBAAAABCB</td>\n",
       "      <td>82</td>\n",
       "      <td>CDCDBADEBEBBADBAECEBBAEABACDDCCBCECBBCCBAAAEAC...</td>\n",
       "      <td>EAEACABCACBECBBEAABEBDDCDABADBDCCBBDEAAABEABAB...</td>\n",
       "      <td>DDCEBADCBEBBADBAEDEBBAEABDABCEDEBEEBBCABEDDCBC...</td>\n",
       "      <td>DCEADABDACDCEABDADBEDDEBBACCDDDCBBBBEAAEBCABAB...</td>\n",
       "      <td>42.0</td>\n",
       "      <td>40.0</td>\n",
       "      <td>0.956250</td>\n",
       "      <td>0.211719</td>\n",
       "    </tr>\n",
       "    <tr>\n",
       "      <th>...</th>\n",
       "      <td>...</td>\n",
       "      <td>...</td>\n",
       "      <td>...</td>\n",
       "      <td>...</td>\n",
       "      <td>...</td>\n",
       "      <td>...</td>\n",
       "      <td>...</td>\n",
       "      <td>...</td>\n",
       "      <td>...</td>\n",
       "      <td>...</td>\n",
       "      <td>...</td>\n",
       "      <td>...</td>\n",
       "      <td>...</td>\n",
       "      <td>...</td>\n",
       "      <td>...</td>\n",
       "      <td>...</td>\n",
       "      <td>...</td>\n",
       "      <td>...</td>\n",
       "      <td>...</td>\n",
       "      <td>...</td>\n",
       "      <td>...</td>\n",
       "    </tr>\n",
       "    <tr>\n",
       "      <th>329</th>\n",
       "      <td>1900315</td>\n",
       "      <td>210053836013</td>\n",
       "      <td>3</td>\n",
       "      <td>F</td>\n",
       "      <td>D</td>\n",
       "      <td>E</td>\n",
       "      <td>4.0</td>\n",
       "      <td>C</td>\n",
       "      <td>A</td>\n",
       "      <td>B</td>\n",
       "      <td>...</td>\n",
       "      <td>DDECABCABBAAAAABCA</td>\n",
       "      <td>47</td>\n",
       "      <td>CCACBACEDADAEBBABBABAAAACACDEECDBEEDABCDDBBBAE...</td>\n",
       "      <td>DEDBACDDAABEBAACCDDADADABBAADDBCADAEDBBDBBBBAE...</td>\n",
       "      <td>DDCEBADCBEBBADBAEDEBBAEABDABCEDEBEEBBCABEDDCBC...</td>\n",
       "      <td>DCEADABDACDCEABDADBEDDEBBACCDDDCBBBBEAAEBCABAB...</td>\n",
       "      <td>21.0</td>\n",
       "      <td>26.0</td>\n",
       "      <td>0.896875</td>\n",
       "      <td>0.037500</td>\n",
       "    </tr>\n",
       "    <tr>\n",
       "      <th>330</th>\n",
       "      <td>2829310</td>\n",
       "      <td>210054423623</td>\n",
       "      <td>17</td>\n",
       "      <td>F</td>\n",
       "      <td>B</td>\n",
       "      <td>C</td>\n",
       "      <td>5.0</td>\n",
       "      <td>B</td>\n",
       "      <td>A</td>\n",
       "      <td>D</td>\n",
       "      <td>...</td>\n",
       "      <td>EBCBADDBABBBABACBB</td>\n",
       "      <td>53</td>\n",
       "      <td>ADEDBAEDBADBBCEDBEEBEEEEBECCABEBBECCBDCEAEACAB...</td>\n",
       "      <td>EDDACDBEEBABCADDBDCAEADCBAEADDDACCBEEAAABEBEAB...</td>\n",
       "      <td>DDCEBADCBEBBADBAEDEBBAEABDABCEDEBEEBBCABEDDCBC...</td>\n",
       "      <td>DCEADABDACDCEABDADBEDDEBBACCDDDCBBBBEAAEBCABAB...</td>\n",
       "      <td>30.0</td>\n",
       "      <td>23.0</td>\n",
       "      <td>0.893750</td>\n",
       "      <td>0.064844</td>\n",
       "    </tr>\n",
       "    <tr>\n",
       "      <th>339</th>\n",
       "      <td>805565</td>\n",
       "      <td>210053546624</td>\n",
       "      <td>6</td>\n",
       "      <td>F</td>\n",
       "      <td>A</td>\n",
       "      <td>E</td>\n",
       "      <td>4.0</td>\n",
       "      <td>B</td>\n",
       "      <td>A</td>\n",
       "      <td>B</td>\n",
       "      <td>...</td>\n",
       "      <td>DAEBABCAABAAAAABEA</td>\n",
       "      <td>38</td>\n",
       "      <td>AEDABAEDAEDBDACBCDACADBCEACCBEBBEEDEABDBDAEEDC...</td>\n",
       "      <td>EEBBADDCAEBECBDCDDAABDCCBBAECBAEBCBAECBDCEABCB...</td>\n",
       "      <td>DDCEBADCBEBBADBAEDEBBAEABDABCEDEBEEBBCABEDDCBC...</td>\n",
       "      <td>DCEADABDACDCEABDADBEDDEBBACCDDDCBBBBEAAEBCABAB...</td>\n",
       "      <td>18.0</td>\n",
       "      <td>20.0</td>\n",
       "      <td>0.943750</td>\n",
       "      <td>0.072656</td>\n",
       "    </tr>\n",
       "    <tr>\n",
       "      <th>347</th>\n",
       "      <td>1697108</td>\n",
       "      <td>210052531518</td>\n",
       "      <td>3</td>\n",
       "      <td>M</td>\n",
       "      <td>G</td>\n",
       "      <td>G</td>\n",
       "      <td>3.0</td>\n",
       "      <td>P</td>\n",
       "      <td>B</td>\n",
       "      <td>E</td>\n",
       "      <td>...</td>\n",
       "      <td>CGGPBEDCABBBBBBBDD</td>\n",
       "      <td>114</td>\n",
       "      <td>DDCCBADAEEBBBEBAEDEBBAEABCABCADEBBECACABEBACBD...</td>\n",
       "      <td>DEDADCBAACDBEADCAADADDADBABDDDACBBDAEAAABCABDB...</td>\n",
       "      <td>DDCEBADCBEBBADBAEDEBBAEABDABCEDEBEEBBCABEDDCBC...</td>\n",
       "      <td>DCEADABDACDCEABDADBEDDEBBACCDDDCBBBBEAAEBCABAB...</td>\n",
       "      <td>46.0</td>\n",
       "      <td>68.0</td>\n",
       "      <td>0.912500</td>\n",
       "      <td>0.060156</td>\n",
       "    </tr>\n",
       "    <tr>\n",
       "      <th>379</th>\n",
       "      <td>2021576</td>\n",
       "      <td>210053382317</td>\n",
       "      <td>3</td>\n",
       "      <td>M</td>\n",
       "      <td>F</td>\n",
       "      <td>E</td>\n",
       "      <td>4.0</td>\n",
       "      <td>L</td>\n",
       "      <td>A</td>\n",
       "      <td>D</td>\n",
       "      <td>...</td>\n",
       "      <td>DFELADDCABBBABAEEC</td>\n",
       "      <td>69</td>\n",
       "      <td>CEDDACEEAADBADDAEDEBBAEABDDDABBBBECDBBBDDEAAAC...</td>\n",
       "      <td>DCDBCDBDACCEEABEADABDBCEBACDEBDCDCEEEDBEBDACEB...</td>\n",
       "      <td>DDCEBADCBEBBADBAEDEBBAEABDABCEDEBEEBBCABEDDCBC...</td>\n",
       "      <td>DCEADABDACDCEABDADBEDDEBBACCDDDCBBBBEAAEBCABAB...</td>\n",
       "      <td>33.0</td>\n",
       "      <td>36.0</td>\n",
       "      <td>0.753125</td>\n",
       "      <td>0.032813</td>\n",
       "    </tr>\n",
       "  </tbody>\n",
       "</table>\n",
       "<p>79 rows × 35 columns</p>\n",
       "</div>"
      ],
      "text/plain": [
       "       index  NU_INSCRICAO  TP_FAIXA_ETARIA TP_SEXO Q001 Q002  Q005 Q006 Q007  \\\n",
       "49   1528233  210053805767               10       F    C    B   2.0    C    A   \n",
       "58   1777517  210052753065                3       M    C    C   2.0    B    A   \n",
       "62   1560309  210054435854                3       F    C    G   3.0    C    A   \n",
       "77    597497  210052833780                3       M    E    E   2.0    B    A   \n",
       "82   1266144  210053590886                7       M    E    F   2.0    D    A   \n",
       "..       ...           ...              ...     ...  ...  ...   ...  ...  ...   \n",
       "329  1900315  210053836013                3       F    D    E   4.0    C    A   \n",
       "330  2829310  210054423623               17       F    B    C   5.0    B    A   \n",
       "339   805565  210053546624                6       F    A    E   4.0    B    A   \n",
       "347  1697108  210052531518                3       M    G    G   3.0    P    B   \n",
       "379  2021576  210053382317                3       M    F    E   4.0    L    A   \n",
       "\n",
       "    Q008  ... Respostas Questionario Acertos Totias  \\\n",
       "49     B  ...     BCBCABCBABAAABAACC             80   \n",
       "58     C  ...     BCCBACCAABBBAAABCA             66   \n",
       "62     B  ...     CCGCABCAABABAAABCA             44   \n",
       "77     B  ...     BEEBABBBBBAAAAABCA             50   \n",
       "82     B  ...     BEFDABBAABBAAAABCB             82   \n",
       "..   ...  ...                    ...            ...   \n",
       "329    B  ...     DDECABCABBAAAAABCA             47   \n",
       "330    D  ...     EBCBADDBABBBABACBB             53   \n",
       "339    B  ...     DAEBABCAABAAAAABEA             38   \n",
       "347    E  ...     CGGPBEDCABBBBBBBDD            114   \n",
       "379    D  ...     DFELADDCABBBABAEEC             69   \n",
       "\n",
       "                                  Questoes Especificas  \\\n",
       "49   BDEEDAECBDCBEDEABEEBAEAABCADCEDEEEEBABADEAAADC...   \n",
       "58   DBCCBABEDAECDDBADCEBCAEBBDCCBABEAEC*ECDBEABDCC...   \n",
       "62   BEEBABCABABCEC.CBAADBAAACDCCDBEDAEBCCEBEAABEEC...   \n",
       "77   BADCBCBACECCDBDDBCABDBDBBADBBACEBECCABCCDBBDDB...   \n",
       "82   CDCDBADEBEBBADBAECEBBAEABACDDCCBCECBBCCBAAAEAC...   \n",
       "..                                                 ...   \n",
       "329  CCACBACEDADAEBBABBABAAAACACDEECDBEEDABCDDBBBAE...   \n",
       "330  ADEDBAEDBADBBCEDBEEBEEEEBECCABEBBECCBDCEAEACAB...   \n",
       "339  AEDABAEDAEDBDACBCDACADBCEACCBEBBEEDEABDBDAEEDC...   \n",
       "347  DDCCBADAEEBBBEBAEDEBBAEABCABCADEBBECACABEBACBD...   \n",
       "379  CEDDACEEAADBADDAEDEBBAEABDDDABBBBECDBBBDDEAAAC...   \n",
       "\n",
       "                                       Questoes Gerais  \\\n",
       "49   EEBADCADAECBEBBEEECDBDADBBACDDECBBEEEEAEBBAAAB...   \n",
       "58   DBEBEDBBACBCEABADCABDDDCDEADDDACACEADABEAEABAB...   \n",
       "62   DEEACBBDACBBEADEEABADDEDDEADDCACBCDAEEBACBABDA...   \n",
       "77   DADACEBCAEBAEABDEBAABCCCBBABCBBAABECEADEBAABAB...   \n",
       "82   EAEACABCACBECBBEAABEBDDCDABADBDCCBBDEAAABEABAB...   \n",
       "..                                                 ...   \n",
       "329  DEDBACDDAABEBAACCDDADADABBAADDBCADAEDBBDBBBBAE...   \n",
       "330  EDDACDBEEBABCADDBDCAEADCBAEADDDACCBEEAAABEBEAB...   \n",
       "339  EEBBADDCAEBECBDCDDAABDCCBBAECBAEBCBAECBDCEABCB...   \n",
       "347  DEDADCBAACDBEADCAADADDADBABDDDACBBDAEAAABCABDB...   \n",
       "379  DCDBCDBDACCEEABEADABDBCEBACDEBDCDCEEEDBEBDACEB...   \n",
       "\n",
       "                                  Gabarito Especificas  \\\n",
       "49   DDCEBADCBEBBADBAEDEBBAEABDABCEDEBEEBBCABEDDCBC...   \n",
       "58   DDCEBADCBEBBADBAEDEBBAEABDABCEDEBEEBBCABEDDCBC...   \n",
       "62   DDCEBADCBEBBADBAEDEBBAEABDABCEDEBEEBBCABEDDCBC...   \n",
       "77   DDCEBADCBEBBADBAEDEBBAEABDABCEDEBEEBBCABEDDCBC...   \n",
       "82   DDCEBADCBEBBADBAEDEBBAEABDABCEDEBEEBBCABEDDCBC...   \n",
       "..                                                 ...   \n",
       "329  DDCEBADCBEBBADBAEDEBBAEABDABCEDEBEEBBCABEDDCBC...   \n",
       "330  DDCEBADCBEBBADBAEDEBBAEABDABCEDEBEEBBCABEDDCBC...   \n",
       "339  DDCEBADCBEBBADBAEDEBBAEABDABCEDEBEEBBCABEDDCBC...   \n",
       "347  DDCEBADCBEBBADBAEDEBBAEABDABCEDEBEEBBCABEDDCBC...   \n",
       "379  DDCEBADCBEBBADBAEDEBBAEABDABCEDEBEEBBCABEDDCBC...   \n",
       "\n",
       "                                       Gabarito Gerais Acertos Gerais  \\\n",
       "49   DCEADABDACDCEABDADBEDDEBBACCDDDCBBBBEAAEBCABAB...           38.0   \n",
       "58   DCEADABDACDCEABDADBEDDEBBACCDDDCBBBBEAAEBCABAB...           32.0   \n",
       "62   DCEADABDACDCEABDADBEDDEBBACCDDDCBBBBEAAEBCABAB...           27.0   \n",
       "77   DCEADABDACDCEABDADBEDDEBBACCDDDCBBBBEAAEBCABAB...           27.0   \n",
       "82   DCEADABDACDCEABDADBEDDEBBACCDDDCBBBBEAAEBCABAB...           42.0   \n",
       "..                                                 ...            ...   \n",
       "329  DCEADABDACDCEABDADBEDDEBBACCDDDCBBBBEAAEBCABAB...           21.0   \n",
       "330  DCEADABDACDCEABDADBEDDEBBACCDDDCBBBBEAAEBCABAB...           30.0   \n",
       "339  DCEADABDACDCEABDADBEDDEBBACCDDDCBBBBEAAEBCABAB...           18.0   \n",
       "347  DCEADABDACDCEABDADBEDDEBBACCDDDCBBBBEAAEBCABAB...           46.0   \n",
       "379  DCEADABDACDCEABDADBEDDEBBACCDDDCBBBBEAAEBCABAB...           33.0   \n",
       "\n",
       "    Acertos Especificas   c_quest   c_prova  \n",
       "49                 42.0  0.918750  0.144531  \n",
       "58                 34.0  0.975000  0.181250  \n",
       "62                 17.0  0.968750  0.200781  \n",
       "77                 23.0  0.984375  0.225781  \n",
       "82                 40.0  0.956250  0.211719  \n",
       "..                  ...       ...       ...  \n",
       "329                26.0  0.896875  0.037500  \n",
       "330                23.0  0.893750  0.064844  \n",
       "339                20.0  0.943750  0.072656  \n",
       "347                68.0  0.912500  0.060156  \n",
       "379                36.0  0.753125  0.032813  \n",
       "\n",
       "[79 rows x 35 columns]"
      ]
     },
     "execution_count": 57,
     "metadata": {},
     "output_type": "execute_result"
    }
   ],
   "source": [
    "df_centrais_quest"
   ]
  },
  {
   "cell_type": "markdown",
   "id": "af42f4f3",
   "metadata": {},
   "source": [
    "## Exportando arquivos"
   ]
  },
  {
   "cell_type": "code",
   "execution_count": 58,
   "id": "54d70ae2",
   "metadata": {},
   "outputs": [],
   "source": [
    "processed_dir = DATA_DIR / 'processed'\n",
    "processed_dir.mkdir(parents=True, exist_ok=True)"
   ]
  },
  {
   "cell_type": "code",
   "execution_count": 59,
   "id": "bff3fe91",
   "metadata": {},
   "outputs": [],
   "source": [
    "processed_file_path_centrais = processed_dir / 'candidatos_centrais.pkl'"
   ]
  },
  {
   "cell_type": "code",
   "execution_count": 60,
   "id": "c95b1d4e",
   "metadata": {},
   "outputs": [],
   "source": [
    "with open(processed_file_path_centrais, 'wb') as file:\n",
    "    pickle.dump([df_centrais_prova, df_centrais_quest, df], file)"
   ]
  }
 ],
 "metadata": {
  "kernelspec": {
   "display_name": "Python 3 (ipykernel)",
   "language": "python",
   "name": "python3"
  },
  "language_info": {
   "codemirror_mode": {
    "name": "ipython",
    "version": 3
   },
   "file_extension": ".py",
   "mimetype": "text/x-python",
   "name": "python",
   "nbconvert_exporter": "python",
   "pygments_lexer": "ipython3",
   "version": "3.10.10"
  }
 },
 "nbformat": 4,
 "nbformat_minor": 5
}
