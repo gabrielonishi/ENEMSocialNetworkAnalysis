{
 "cells": [
  {
   "cell_type": "markdown",
   "id": "1ab45ba6",
   "metadata": {},
   "source": [
    "# Montagem da Rede"
   ]
  },
  {
   "cell_type": "code",
   "execution_count": 1,
   "id": "df8877f7",
   "metadata": {},
   "outputs": [
    {
     "data": {
      "text/html": [
       "\n",
       "    <script src=\"/files/netpixi.min.js\"></script>\n"
      ],
      "text/plain": [
       "<IPython.core.display.HTML object>"
      ]
     },
     "metadata": {},
     "output_type": "display_data"
    },
    {
     "name": "stderr",
     "output_type": "stream",
     "text": [
      "<frozen importlib._bootstrap>:914: ImportWarning: VendorImporter.find_spec() not found; falling back to find_module()\n"
     ]
    }
   ],
   "source": [
    "import pathlib\n",
    "import pickle\n",
    "import cpnet\n",
    "import netpixi\n",
    "import pandas as pd\n",
    "import seaborn as sns\n",
    "import numpy as np\n",
    "import networkx as nx\n",
    "import matplotlib.pyplot as plt\n",
    "from collections import Counter\n",
    "from netpixi.integration.gt import *\n",
    "from regression.integration.gt import *\n",
    "from graph_tool import spectral"
   ]
  },
  {
   "cell_type": "markdown",
   "id": "4204c517",
   "metadata": {},
   "source": [
    "## Leitura dos Dados Pré-Processados"
   ]
  },
  {
   "cell_type": "code",
   "execution_count": 2,
   "id": "a164c638",
   "metadata": {
    "scrolled": true
   },
   "outputs": [
    {
     "name": "stdout",
     "output_type": "stream",
     "text": [
      "/home/jupyter/notebooks/projeto/data\n"
     ]
    }
   ],
   "source": [
    "DATA_DIR = pathlib.Path.cwd().parent / 'projeto' / 'data'\n",
    "print(DATA_DIR)"
   ]
  },
  {
   "cell_type": "code",
   "execution_count": 3,
   "id": "fe238d48",
   "metadata": {},
   "outputs": [],
   "source": [
    "PROCESSED_FILE_PATH = DATA_DIR / 'processed' / 'enem_sampled.pkl'"
   ]
  },
  {
   "cell_type": "code",
   "execution_count": 4,
   "id": "50941dd0",
   "metadata": {
    "scrolled": true
   },
   "outputs": [
    {
     "name": "stdout",
     "output_type": "stream",
     "text": [
      "/home/jupyter/notebooks/projeto/data/processed/enem_sampled.pkl\n"
     ]
    }
   ],
   "source": [
    "print(PROCESSED_FILE_PATH)"
   ]
  },
  {
   "cell_type": "code",
   "execution_count": 5,
   "id": "b251ade4",
   "metadata": {},
   "outputs": [],
   "source": [
    "with open(PROCESSED_FILE_PATH, 'rb') as file:\n",
    "    (\n",
    "        data\n",
    "    ) = pickle.load(file)\n"
   ]
  },
  {
   "cell_type": "code",
   "execution_count": 6,
   "id": "d8b25d9e",
   "metadata": {},
   "outputs": [],
   "source": [
    "sampled_data = data.sample(1500)"
   ]
  },
  {
   "cell_type": "markdown",
   "id": "f2ed5c6a",
   "metadata": {},
   "source": [
    "Resetando os índices para facilitar identificação após montagem da rede"
   ]
  },
  {
   "cell_type": "code",
   "execution_count": 7,
   "id": "59f5242b",
   "metadata": {},
   "outputs": [],
   "source": [
    "df = sampled_data.reset_index()"
   ]
  },
  {
   "cell_type": "code",
   "execution_count": 8,
   "id": "3574f0b3",
   "metadata": {
    "scrolled": false
   },
   "outputs": [
    {
     "name": "stdout",
     "output_type": "stream",
     "text": [
      "(1500, 31)\n"
     ]
    },
    {
     "data": {
      "text/html": [
       "<div>\n",
       "<style scoped>\n",
       "    .dataframe tbody tr th:only-of-type {\n",
       "        vertical-align: middle;\n",
       "    }\n",
       "\n",
       "    .dataframe tbody tr th {\n",
       "        vertical-align: top;\n",
       "    }\n",
       "\n",
       "    .dataframe thead th {\n",
       "        text-align: right;\n",
       "    }\n",
       "</style>\n",
       "<table border=\"1\" class=\"dataframe\">\n",
       "  <thead>\n",
       "    <tr style=\"text-align: right;\">\n",
       "      <th></th>\n",
       "      <th>index</th>\n",
       "      <th>NU_INSCRICAO</th>\n",
       "      <th>TP_FAIXA_ETARIA</th>\n",
       "      <th>TP_SEXO</th>\n",
       "      <th>Q001</th>\n",
       "      <th>Q002</th>\n",
       "      <th>Q005</th>\n",
       "      <th>Q006</th>\n",
       "      <th>Q007</th>\n",
       "      <th>Q008</th>\n",
       "      <th>...</th>\n",
       "      <th>Q024</th>\n",
       "      <th>RESPOSTAS_PROVA</th>\n",
       "      <th>GABARITO_OFICIAL</th>\n",
       "      <th>Q005_str</th>\n",
       "      <th>RESPOSTAS_QUESTIONARIO</th>\n",
       "      <th>ACERTOS_TOTAIS</th>\n",
       "      <th>RESPOSTAS_ESPECIFICAS</th>\n",
       "      <th>RESPOSTAS_GERAIS</th>\n",
       "      <th>ACERTOS_GERAIS</th>\n",
       "      <th>ACERTOS_ESPECIFICAS</th>\n",
       "    </tr>\n",
       "  </thead>\n",
       "  <tbody>\n",
       "    <tr>\n",
       "      <th>0</th>\n",
       "      <td>2146868</td>\n",
       "      <td>210054238796</td>\n",
       "      <td>11</td>\n",
       "      <td>M</td>\n",
       "      <td>E</td>\n",
       "      <td>C</td>\n",
       "      <td>2.0</td>\n",
       "      <td>C</td>\n",
       "      <td>A</td>\n",
       "      <td>B</td>\n",
       "      <td>...</td>\n",
       "      <td>B</td>\n",
       "      <td>DCBECBBAAEBBCADAEBDCABDACDBABCDDDAACEBAEDBDAEC...</td>\n",
       "      <td>DCEADABDACDCEABDDADBEDDDEBBACCDDDCCEBBBBEBAAEA...</td>\n",
       "      <td>B</td>\n",
       "      <td>BECCABCAABAAAAABCB</td>\n",
       "      <td>60</td>\n",
       "      <td>AAACBCBDBAABEDBCECEBBACBDCABCBABDEBCADBBCCAEEA...</td>\n",
       "      <td>DCBECBBAAEBBCADEBDCABDCDBABCDDDAEBAEDDAEBEAAAB...</td>\n",
       "      <td>32</td>\n",
       "      <td>28</td>\n",
       "    </tr>\n",
       "    <tr>\n",
       "      <th>1</th>\n",
       "      <td>2822966</td>\n",
       "      <td>210052121926</td>\n",
       "      <td>3</td>\n",
       "      <td>F</td>\n",
       "      <td>B</td>\n",
       "      <td>B</td>\n",
       "      <td>8.0</td>\n",
       "      <td>D</td>\n",
       "      <td>A</td>\n",
       "      <td>D</td>\n",
       "      <td>...</td>\n",
       "      <td>C</td>\n",
       "      <td>DEEACCDDAEEBEAEAADCCDCDDBDBABCECDDABBCDEDECBAA...</td>\n",
       "      <td>DCEADABDACDCEABDDADBEDDDEBBACCDDDCCEBBBBEBAAEA...</td>\n",
       "      <td>E</td>\n",
       "      <td>EBBDADEAACCBBAACEC</td>\n",
       "      <td>51</td>\n",
       "      <td>ADDBEABACABBAEDBDCABEAEDCCCDDBEEAEDBDCEEEBBCAC...</td>\n",
       "      <td>DEEACCDDAEEBEAEADCCDCDBDBABCECDABCDEDCBACEAEAB...</td>\n",
       "      <td>30</td>\n",
       "      <td>21</td>\n",
       "    </tr>\n",
       "    <tr>\n",
       "      <th>2</th>\n",
       "      <td>2965833</td>\n",
       "      <td>210054081240</td>\n",
       "      <td>6</td>\n",
       "      <td>F</td>\n",
       "      <td>G</td>\n",
       "      <td>F</td>\n",
       "      <td>4.0</td>\n",
       "      <td>H</td>\n",
       "      <td>A</td>\n",
       "      <td>C</td>\n",
       "      <td>...</td>\n",
       "      <td>D</td>\n",
       "      <td>EEDBCAADADDBEABDDAEBDADAABDABCDCAACBABDAECAAAA...</td>\n",
       "      <td>DCEADABDACDCEABDDADBEDDDEBBACCDDDCCEBBBBEBAAEA...</td>\n",
       "      <td>D</td>\n",
       "      <td>DGFHACDABBBBBBABED</td>\n",
       "      <td>93</td>\n",
       "      <td>DAABCACEBEBBEECAEBEBBAEBAAABDEBDBECDACABEEAECC...</td>\n",
       "      <td>EEDBCAADADDBEABDAEBDADABDABCDCACABDAEAAABCABAB...</td>\n",
       "      <td>44</td>\n",
       "      <td>49</td>\n",
       "    </tr>\n",
       "    <tr>\n",
       "      <th>3</th>\n",
       "      <td>2322664</td>\n",
       "      <td>210051351311</td>\n",
       "      <td>10</td>\n",
       "      <td>M</td>\n",
       "      <td>D</td>\n",
       "      <td>F</td>\n",
       "      <td>5.0</td>\n",
       "      <td>G</td>\n",
       "      <td>A</td>\n",
       "      <td>B</td>\n",
       "      <td>...</td>\n",
       "      <td>B</td>\n",
       "      <td>DEEACCEBEAACBEDBBEADADDCCBDEACCEDABCDDDAEEBBAA...</td>\n",
       "      <td>DCEADABDACDCEABDDADBEDDDEBBACCDDDCCEBBBBEBAAEA...</td>\n",
       "      <td>E</td>\n",
       "      <td>EDFGABDBCBABABAAEB</td>\n",
       "      <td>55</td>\n",
       "      <td>BCACEACEADCBADCBBDCAEBDABEDBDBACBECCBAABEABEAB...</td>\n",
       "      <td>DEEACCEBEAACBEDBEADADDCBDEACCEDBDDDAEBBADDBAEE...</td>\n",
       "      <td>20</td>\n",
       "      <td>35</td>\n",
       "    </tr>\n",
       "    <tr>\n",
       "      <th>4</th>\n",
       "      <td>2660396</td>\n",
       "      <td>210054361898</td>\n",
       "      <td>17</td>\n",
       "      <td>F</td>\n",
       "      <td>A</td>\n",
       "      <td>B</td>\n",
       "      <td>2.0</td>\n",
       "      <td>B</td>\n",
       "      <td>A</td>\n",
       "      <td>B</td>\n",
       "      <td>...</td>\n",
       "      <td>A</td>\n",
       "      <td>ECBADDABAABAEBDDCDDAABADEDCECADBBEAABCEEDABCAA...</td>\n",
       "      <td>DCEADABDACDCEABDDADBEDDDEBBACCDDDCCEBBBBEBAAEA...</td>\n",
       "      <td>B</td>\n",
       "      <td>BABBABCAABAAAAABCA</td>\n",
       "      <td>55</td>\n",
       "      <td>DDEAAAECCDBCECDDDEEBBCEABDADAEEDBBECDDABEAAADD...</td>\n",
       "      <td>ECBADDABAABAEBDCDDAABAEDCECADBBABCEEDBCABCAAAB...</td>\n",
       "      <td>26</td>\n",
       "      <td>29</td>\n",
       "    </tr>\n",
       "  </tbody>\n",
       "</table>\n",
       "<p>5 rows × 31 columns</p>\n",
       "</div>"
      ],
      "text/plain": [
       "     index  NU_INSCRICAO  TP_FAIXA_ETARIA TP_SEXO Q001 Q002  Q005 Q006 Q007  \\\n",
       "0  2146868  210054238796               11       M    E    C   2.0    C    A   \n",
       "1  2822966  210052121926                3       F    B    B   8.0    D    A   \n",
       "2  2965833  210054081240                6       F    G    F   4.0    H    A   \n",
       "3  2322664  210051351311               10       M    D    F   5.0    G    A   \n",
       "4  2660396  210054361898               17       F    A    B   2.0    B    A   \n",
       "\n",
       "  Q008  ... Q024                                    RESPOSTAS_PROVA  \\\n",
       "0    B  ...    B  DCBECBBAAEBBCADAEBDCABDACDBABCDDDAACEBAEDBDAEC...   \n",
       "1    D  ...    C  DEEACCDDAEEBEAEAADCCDCDDBDBABCECDDABBCDEDECBAA...   \n",
       "2    C  ...    D  EEDBCAADADDBEABDDAEBDADAABDABCDCAACBABDAECAAAA...   \n",
       "3    B  ...    B  DEEACCEBEAACBEDBBEADADDCCBDEACCEDABCDDDAEEBBAA...   \n",
       "4    B  ...    A  ECBADDABAABAEBDDCDDAABADEDCECADBBEAABCEEDABCAA...   \n",
       "\n",
       "                                    GABARITO_OFICIAL Q005_str  \\\n",
       "0  DCEADABDACDCEABDDADBEDDDEBBACCDDDCCEBBBBEBAAEA...        B   \n",
       "1  DCEADABDACDCEABDDADBEDDDEBBACCDDDCCEBBBBEBAAEA...        E   \n",
       "2  DCEADABDACDCEABDDADBEDDDEBBACCDDDCCEBBBBEBAAEA...        D   \n",
       "3  DCEADABDACDCEABDDADBEDDDEBBACCDDDCCEBBBBEBAAEA...        E   \n",
       "4  DCEADABDACDCEABDDADBEDDDEBBACCDDDCCEBBBBEBAAEA...        B   \n",
       "\n",
       "  RESPOSTAS_QUESTIONARIO ACERTOS_TOTAIS  \\\n",
       "0     BECCABCAABAAAAABCB             60   \n",
       "1     EBBDADEAACCBBAACEC             51   \n",
       "2     DGFHACDABBBBBBABED             93   \n",
       "3     EDFGABDBCBABABAAEB             55   \n",
       "4     BABBABCAABAAAAABCA             55   \n",
       "\n",
       "                               RESPOSTAS_ESPECIFICAS  \\\n",
       "0  AAACBCBDBAABEDBCECEBBACBDCABCBABDEBCADBBCCAEEA...   \n",
       "1  ADDBEABACABBAEDBDCABEAEDCCCDDBEEAEDBDCEEEBBCAC...   \n",
       "2  DAABCACEBEBBEECAEBEBBAEBAAABDEBDBECDACABEEAECC...   \n",
       "3  BCACEACEADCBADCBBDCAEBDABEDBDBACBECCBAABEABEAB...   \n",
       "4  DDEAAAECCDBCECDDDEEBBCEABDADAEEDBBECDDABEAAADD...   \n",
       "\n",
       "                                    RESPOSTAS_GERAIS ACERTOS_GERAIS  \\\n",
       "0  DCBECBBAAEBBCADEBDCABDCDBABCDDDAEBAEDDAEBEAAAB...             32   \n",
       "1  DEEACCDDAEEBEAEADCCDCDBDBABCECDABCDEDCBACEAEAB...             30   \n",
       "2  EEDBCAADADDBEABDAEBDADABDABCDCACABDAEAAABCABAB...             44   \n",
       "3  DEEACCEBEAACBEDBEADADDCBDEACCEDBDDDAEBBADDBAEE...             20   \n",
       "4  ECBADDABAABAEBDCDDAABAEDCECADBBABCEEDBCABCAAAB...             26   \n",
       "\n",
       "  ACERTOS_ESPECIFICAS  \n",
       "0                  28  \n",
       "1                  21  \n",
       "2                  49  \n",
       "3                  35  \n",
       "4                  29  \n",
       "\n",
       "[5 rows x 31 columns]"
      ]
     },
     "execution_count": 8,
     "metadata": {},
     "output_type": "execute_result"
    }
   ],
   "source": [
    "print(df.shape)\n",
    "df.head(5)"
   ]
  },
  {
   "cell_type": "markdown",
   "id": "b6ea8867",
   "metadata": {},
   "source": [
    "## Montagem de Rede de Questionário Socioeconômico"
   ]
  },
  {
   "cell_type": "code",
   "execution_count": 9,
   "id": "b5f03a60",
   "metadata": {},
   "outputs": [
    {
     "data": {
      "text/plain": [
       "(1500, 18)"
      ]
     },
     "execution_count": 9,
     "metadata": {},
     "output_type": "execute_result"
    }
   ],
   "source": [
    "n_candidatos = df.shape[0]\n",
    "n_perguntas_questionario = len(df['RESPOSTAS_QUESTIONARIO'].iloc[0])\n",
    "n_candidatos, n_perguntas_questionario"
   ]
  },
  {
   "cell_type": "code",
   "execution_count": 10,
   "id": "9cf2ef3f",
   "metadata": {},
   "outputs": [],
   "source": [
    "respostas_questionario = df['RESPOSTAS_QUESTIONARIO'].tolist()"
   ]
  },
  {
   "cell_type": "markdown",
   "id": "146973f3",
   "metadata": {},
   "source": [
    "Antes de montar a rede por si só, precisamos dar uma olhada nos dados para ver qual a quantidade de perguntas respondidas em comum para que uma aresta possa ser formada"
   ]
  },
  {
   "cell_type": "code",
   "execution_count": 11,
   "id": "e75eed7b",
   "metadata": {},
   "outputs": [],
   "source": [
    "respostas_iguais_quest = list()\n",
    "for id_prova1 in range(n_candidatos):\n",
    "    for id_prova2 in range(id_prova1 + 1, n_candidatos):\n",
    "        n_respostas_iguais = 0\n",
    "        for i in range(n_perguntas_questionario):\n",
    "            if (respostas_questionario[id_prova1][i] == respostas_questionario[id_prova2][i]):\n",
    "                n_respostas_iguais+=1\n",
    "        respostas_iguais_quest.append(n_respostas_iguais)"
   ]
  },
  {
   "cell_type": "code",
   "execution_count": 12,
   "id": "d3ed8ac5",
   "metadata": {
    "scrolled": false
   },
   "outputs": [
    {
     "data": {
      "image/png": "[encoded data removed]",
      "text/plain": [
       "<Figure size 640x480 with 1 Axes>"
      ]
     },
     "metadata": {},
     "output_type": "display_data"
    }
   ],
   "source": [
    "freq_questionario = Counter(respostas_iguais_quest)\n",
    "plt.figure()\n",
    "plt.bar(freq_questionario.keys(), freq_questionario.values())\n",
    "plt.show()"
   ]
  },
  {
   "cell_type": "code",
   "execution_count": 13,
   "id": "7833c5db",
   "metadata": {},
   "outputs": [
    {
     "data": {
      "text/plain": [
       "8.497057593951522"
      ]
     },
     "execution_count": 13,
     "metadata": {},
     "output_type": "execute_result"
    }
   ],
   "source": [
    "np.mean(respostas_iguais_quest)"
   ]
  },
  {
   "cell_type": "code",
   "execution_count": 14,
   "id": "f93bf887",
   "metadata": {
    "scrolled": true
   },
   "outputs": [
    {
     "data": {
      "text/plain": [
       "9.0"
      ]
     },
     "execution_count": 14,
     "metadata": {},
     "output_type": "execute_result"
    }
   ],
   "source": [
    "np.median(respostas_iguais_quest)"
   ]
  },
  {
   "cell_type": "markdown",
   "id": "362dec0b",
   "metadata": {},
   "source": [
    "Como esse gráfico se assemelha bastante com uma normal, vamos tentar utilizar a média ~= mediana como threshold de criação de aresta. Contudo, também pode ser interessante usar um threshold mais restritivo, por isso vamos usar o 3° quartil para tanto."
   ]
  },
  {
   "cell_type": "code",
   "execution_count": 15,
   "id": "efcdcaa6",
   "metadata": {},
   "outputs": [],
   "source": [
    "def define_arestas(respostas, threshold):\n",
    "    arestas = list()\n",
    "    n_candidatos = len(respostas)\n",
    "    n_perguntas = len(respostas[0])\n",
    "    for candidato1 in range(n_candidatos):\n",
    "        for candidato2 in range(candidato1 + 1, n_candidatos):\n",
    "            n_respostas_iguais = 0\n",
    "            for pergunta in range(n_perguntas):\n",
    "                if (respostas[candidato1][pergunta] == respostas[candidato2][pergunta]):\n",
    "                    n_respostas_iguais += 1\n",
    "            if n_respostas_iguais >= threshold:\n",
    "                arestas.append((candidato1, candidato2))\n",
    "    return arestas"
   ]
  },
  {
   "cell_type": "code",
   "execution_count": 16,
   "id": "a849400b",
   "metadata": {},
   "outputs": [],
   "source": [
    "arestas_questionario_mean = define_arestas(respostas_questionario, np.mean(respostas_iguais_quest))"
   ]
  },
  {
   "cell_type": "code",
   "execution_count": 17,
   "id": "13cf5073",
   "metadata": {},
   "outputs": [],
   "source": [
    "arestas_questionario_restrict = define_arestas(respostas_questionario, np.quantile(respostas_iguais_quest, 0.75))"
   ]
  },
  {
   "cell_type": "code",
   "execution_count": 18,
   "id": "6e9682eb",
   "metadata": {},
   "outputs": [],
   "source": [
    "def cria_grafo_nao_dirigido(arestas):\n",
    "    g = Graph(directed=False)\n",
    "    for aresta in arestas:\n",
    "        if not(g.has_vertex(aresta[0])):\n",
    "            g.add_vertex(aresta[0])\n",
    "        if not(g.has_vertex(aresta[1])):\n",
    "            g.add_vertex(aresta[1])\n",
    "        if not (g.has_edge(aresta[0], aresta[1])):\n",
    "            g.add_edge(aresta[0], aresta[1])\n",
    "    return g"
   ]
  },
  {
   "cell_type": "code",
   "execution_count": 19,
   "id": "ba89acd8",
   "metadata": {},
   "outputs": [],
   "source": [
    "g_quest_mean = cria_grafo_nao_dirigido(arestas_questionario_mean)"
   ]
  },
  {
   "cell_type": "code",
   "execution_count": 20,
   "id": "93a31360",
   "metadata": {},
   "outputs": [],
   "source": [
    "g_quest_restrict = cria_grafo_nao_dirigido(arestas_questionario_restrict)"
   ]
  },
  {
   "cell_type": "markdown",
   "id": "dba678aa",
   "metadata": {},
   "source": [
    "Salvando grafo no diretório de resultados"
   ]
  },
  {
   "cell_type": "code",
   "execution_count": 21,
   "id": "fd2d8ec3",
   "metadata": {},
   "outputs": [],
   "source": [
    "RESULTS_DIR = pathlib.Path.cwd().parent / 'projeto' / 'results1500'\n",
    "RESULTS_DIR.mkdir(parents=True, exist_ok=True)"
   ]
  },
  {
   "cell_type": "code",
   "execution_count": 22,
   "id": "3f362586",
   "metadata": {},
   "outputs": [],
   "source": [
    "GRAFOS_DIR = RESULTS_DIR / 'grafos'\n",
    "GRAFOS_DIR.mkdir(parents=True, exist_ok=True)"
   ]
  },
  {
   "cell_type": "code",
   "execution_count": 23,
   "id": "8f853a8a",
   "metadata": {},
   "outputs": [],
   "source": [
    "gt_save(g_quest_mean, GRAFOS_DIR / 'g_quest_mean.net.gz')\n",
    "gt_save(g_quest_restrict, GRAFOS_DIR / 'g_quest_restrict.net.gz')"
   ]
  },
  {
   "cell_type": "code",
   "execution_count": 24,
   "id": "7174af3b",
   "metadata": {},
   "outputs": [],
   "source": [
    "def estatisticas_grafo_nao_dirigido(g):\n",
    "    stats = dict()\n",
    "    n = g.num_vertices()\n",
    "    m = g.num_edges()\n",
    "    max_edges = n * (n-1) // 2\n",
    "    d = m / max_edges\n",
    "    \n",
    "    stats['n'] = n\n",
    "    stats['m'] = m\n",
    "    stats['max_edges'] = max_edges\n",
    "    stats['d'] = d\n",
    "    \n",
    "    return stats"
   ]
  },
  {
   "cell_type": "code",
   "execution_count": 25,
   "id": "383dad6f",
   "metadata": {},
   "outputs": [],
   "source": [
    "g_quest_mean_stats = estatisticas_grafo_nao_dirigido(g_quest_mean)\n",
    "g_quest_restrict_stats = estatisticas_grafo_nao_dirigido(g_quest_restrict)"
   ]
  },
  {
   "cell_type": "code",
   "execution_count": 26,
   "id": "c6d37f81",
   "metadata": {},
   "outputs": [
    {
     "name": "stdout",
     "output_type": "stream",
     "text": [
      "{'n': 1500, 'm': 569015, 'max_edges': 1124250, 'd': 0.5061285301311986}\n"
     ]
    }
   ],
   "source": [
    "print(g_quest_mean_stats)"
   ]
  },
  {
   "cell_type": "code",
   "execution_count": 27,
   "id": "8e42024d",
   "metadata": {},
   "outputs": [
    {
     "name": "stdout",
     "output_type": "stream",
     "text": [
      "{'n': 1499, 'm': 400470, 'max_edges': 1122751, 'd': 0.35668638905687905}\n"
     ]
    }
   ],
   "source": [
    "print(g_quest_restrict_stats)"
   ]
  },
  {
   "cell_type": "code",
   "execution_count": 28,
   "id": "ed04ba5b",
   "metadata": {},
   "outputs": [],
   "source": [
    "def plot_degrees(g):\n",
    "    data_quest = gt_data(g)\n",
    "    degrees = []\n",
    "    for v in g.all_vertices():\n",
    "        degrees.append(v.total_degree())\n",
    "    data_quest['degree'] = degrees\n",
    "    print(data_quest['degree'].describe())\n",
    "    sns.histplot(data_quest['degree'])"
   ]
  },
  {
   "cell_type": "code",
   "execution_count": 29,
   "id": "97c98b5a",
   "metadata": {},
   "outputs": [
    {
     "name": "stdout",
     "output_type": "stream",
     "text": [
      "count    1500.000000\n",
      "mean      758.686667\n",
      "std       256.861977\n",
      "min         1.000000\n",
      "25%       637.000000\n",
      "50%       818.500000\n",
      "75%       939.000000\n",
      "max      1193.000000\n",
      "Name: degree, dtype: float64\n"
     ]
    },
    {
     "data": {
      "image/png": "[encoded data removed]",
      "text/plain": [
       "<Figure size 640x480 with 1 Axes>"
      ]
     },
     "metadata": {},
     "output_type": "display_data"
    }
   ],
   "source": [
    "plot_degrees(g_quest_mean)"
   ]
  },
  {
   "cell_type": "code",
   "execution_count": 30,
   "id": "5d545065",
   "metadata": {},
   "outputs": [
    {
     "name": "stdout",
     "output_type": "stream",
     "text": [
      "count    1499.000000\n",
      "mean      534.316211\n",
      "std       226.956187\n",
      "min         4.000000\n",
      "25%       392.000000\n",
      "50%       583.000000\n",
      "75%       705.000000\n",
      "max       959.000000\n",
      "Name: degree, dtype: float64\n"
     ]
    },
    {
     "data": {
      "image/png": "[encoded data removed]",
      "text/plain": [
       "<Figure size 640x480 with 1 Axes>"
      ]
     },
     "metadata": {},
     "output_type": "display_data"
    }
   ],
   "source": [
    "plot_degrees(g_quest_restrict)"
   ]
  },
  {
   "cell_type": "code",
   "execution_count": 31,
   "id": "8399bbf7",
   "metadata": {},
   "outputs": [],
   "source": [
    "def constroi_SFDP(g):\n",
    "    SFDP_g = gt_clean(g)\n",
    "    m = gt_draw.sfdp_layout(SFDP_g)\n",
    "    gt_move(SFDP_g, m)\n",
    "    return SFDP_g"
   ]
  },
  {
   "cell_type": "code",
   "execution_count": 32,
   "id": "5fe8f88f",
   "metadata": {},
   "outputs": [],
   "source": [
    "SFDP_quest_mean = constroi_SFDP(g_quest_mean)\n",
    "gt_save(SFDP_quest_mean, GRAFOS_DIR / 'SFDP_quest_mean.net.gz')"
   ]
  },
  {
   "cell_type": "code",
   "execution_count": 33,
   "id": "9cde02f9",
   "metadata": {},
   "outputs": [],
   "source": [
    "SFDP_quest_restrict = constroi_SFDP(g_quest_restrict)\n",
    "gt_save(SFDP_quest_restrict, GRAFOS_DIR / 'SFDP_quest_restrict.net.gz')"
   ]
  },
  {
   "cell_type": "code",
   "execution_count": 34,
   "id": "0f0d8de3",
   "metadata": {},
   "outputs": [],
   "source": [
    "# r = netpixi.render('./sample400/SFDP_quest_socioecon.net.gz', infinite=True)"
   ]
  },
  {
   "cell_type": "markdown",
   "id": "f9e17546",
   "metadata": {},
   "source": [
    "Usando coreness para identificar o \"quão de centro\" é cada vértice"
   ]
  },
  {
   "cell_type": "code",
   "execution_count": 35,
   "id": "28abd9c3",
   "metadata": {},
   "outputs": [],
   "source": [
    "def measure_coreness(g):\n",
    "    matrix = spectral.adjacency(g)\n",
    "    algorithm = cpnet.Rombach()\n",
    "    algorithm.detect(matrix)\n",
    "    c = algorithm.get_coreness()\n",
    "    return c"
   ]
  },
  {
   "cell_type": "code",
   "execution_count": 37,
   "id": "2b18fc69",
   "metadata": {},
   "outputs": [],
   "source": [
    "c_quest_mean = measure_coreness(SFDP_quest_mean)"
   ]
  },
  {
   "cell_type": "code",
   "execution_count": 38,
   "id": "7d6eb933",
   "metadata": {},
   "outputs": [],
   "source": [
    "df['c_quest'] = df.index.map(c_quest_mean.get)"
   ]
  },
  {
   "cell_type": "code",
   "execution_count": 39,
   "id": "f3f4a94b",
   "metadata": {},
   "outputs": [],
   "source": [
    "c_quest_restrict = measure_coreness(SFDP_quest_restrict)"
   ]
  },
  {
   "cell_type": "code",
   "execution_count": 40,
   "id": "b472df49",
   "metadata": {},
   "outputs": [],
   "source": [
    "df['c_quest_restrict'] = df.index.map(c_quest_restrict.get)"
   ]
  },
  {
   "cell_type": "code",
   "execution_count": 41,
   "id": "c83932ac",
   "metadata": {},
   "outputs": [],
   "source": [
    "# g_quest_SFDP.add_vp('coreness')\n",
    "# for i, coreness in c_quest.items():\n",
    "#     v = g_quest_SFDP.get_vertex_by_index(i)\n",
    "#     v['coreness'] = float(coreness)\n",
    "\n",
    "# for v in g_quest_SFDP.all_vertices():\n",
    "#     r.vertex(v['id'], size=(10 + 40 * v['coreness']))"
   ]
  },
  {
   "cell_type": "markdown",
   "id": "81e52cdb",
   "metadata": {},
   "source": [
    "## Montagem da Rede de Conhecimentos Gerais"
   ]
  },
  {
   "cell_type": "code",
   "execution_count": 42,
   "id": "ba27ea76",
   "metadata": {},
   "outputs": [],
   "source": [
    "respostas_gerais = df['RESPOSTAS_GERAIS'].tolist()"
   ]
  },
  {
   "cell_type": "code",
   "execution_count": 43,
   "id": "8d88984d",
   "metadata": {},
   "outputs": [],
   "source": [
    "respostas_iguais_prova = list()\n",
    "n_candidatos = len(respostas_gerais)\n",
    "n_questoes_gerais = len(respostas_gerais[0])\n",
    "\n",
    "for id_prova1 in range(n_candidatos):\n",
    "    for id_prova2 in range(id_prova1 + 1, n_candidatos):\n",
    "        n_respostas_iguais = 0\n",
    "        for i in range(n_questoes_gerais):\n",
    "            if (respostas_gerais[id_prova1][i] == respostas_gerais[id_prova2][i]):\n",
    "                n_respostas_iguais+=1\n",
    "        respostas_iguais_prova.append(n_respostas_iguais)"
   ]
  },
  {
   "cell_type": "code",
   "execution_count": 44,
   "id": "54fb01b4",
   "metadata": {},
   "outputs": [
    {
     "data": {
      "image/png": "[encoded data removed]",
      "text/plain": [
       "<Figure size 640x480 with 1 Axes>"
      ]
     },
     "metadata": {},
     "output_type": "display_data"
    }
   ],
   "source": [
    "freq_prova = Counter(respostas_iguais_prova)\n",
    "plt.figure()\n",
    "plt.bar(freq_prova.keys(), freq_prova.values())\n",
    "plt.show()"
   ]
  },
  {
   "cell_type": "code",
   "execution_count": 45,
   "id": "bae27257",
   "metadata": {},
   "outputs": [
    {
     "name": "stdout",
     "output_type": "stream",
     "text": [
      "Média: 21.732129864354015\n",
      "Mediana: 21.0\n",
      "Quartis: [ 1. 17. 21. 25. 60.]\n"
     ]
    }
   ],
   "source": [
    "print(f'Média: {np.mean(respostas_iguais_prova)}')\n",
    "print(f'Mediana: {np.median(respostas_iguais_prova)}')\n",
    "print(f'Quartis: {np.quantile(respostas_iguais_prova, [0,0.25,0.5,0.75,1])}')"
   ]
  },
  {
   "cell_type": "code",
   "execution_count": 46,
   "id": "2312eb85",
   "metadata": {},
   "outputs": [],
   "source": [
    "arestas_prova_mean = define_arestas(respostas_gerais, np.mean(respostas_iguais_prova))"
   ]
  },
  {
   "cell_type": "code",
   "execution_count": 47,
   "id": "eb0282bf",
   "metadata": {},
   "outputs": [],
   "source": [
    "arestas_prova_restrict = define_arestas(respostas_gerais, np.quantile(respostas_iguais_prova, 0.75))"
   ]
  },
  {
   "cell_type": "code",
   "execution_count": 48,
   "id": "b8ff56eb",
   "metadata": {},
   "outputs": [],
   "source": [
    "g_prova_mean = cria_grafo_nao_dirigido(arestas_prova_mean)"
   ]
  },
  {
   "cell_type": "code",
   "execution_count": 49,
   "id": "64cbe2ed",
   "metadata": {},
   "outputs": [],
   "source": [
    "g_prova_restrict = cria_grafo_nao_dirigido(arestas_prova_restrict)"
   ]
  },
  {
   "cell_type": "code",
   "execution_count": 50,
   "id": "4aaa5265",
   "metadata": {},
   "outputs": [],
   "source": [
    "gt_save(g_prova_mean, GRAFOS_DIR / 'g_prova_mean.net.gz')"
   ]
  },
  {
   "cell_type": "code",
   "execution_count": 51,
   "id": "87489271",
   "metadata": {},
   "outputs": [],
   "source": [
    "gt_save(g_prova_restrict, GRAFOS_DIR / 'g_prova_restrict.net.gz')"
   ]
  },
  {
   "cell_type": "code",
   "execution_count": 52,
   "id": "11fa8cc9",
   "metadata": {},
   "outputs": [],
   "source": [
    "g_prova_mean_stats = estatisticas_grafo_nao_dirigido(g_prova_mean)\n",
    "g_prova_restrict_stats = estatisticas_grafo_nao_dirigido(g_prova_restrict)"
   ]
  },
  {
   "cell_type": "code",
   "execution_count": 53,
   "id": "25f4792c",
   "metadata": {},
   "outputs": [
    {
     "name": "stdout",
     "output_type": "stream",
     "text": [
      "{'n': 1500, 'm': 518898, 'max_edges': 1124250, 'd': 0.46155036691127416}\n"
     ]
    }
   ],
   "source": [
    "print(g_prova_mean_stats)"
   ]
  },
  {
   "cell_type": "code",
   "execution_count": 54,
   "id": "4e5334ee",
   "metadata": {},
   "outputs": [
    {
     "name": "stdout",
     "output_type": "stream",
     "text": [
      "{'n': 1496, 'm': 327290, 'max_edges': 1118260, 'd': 0.29267791032496915}\n"
     ]
    }
   ],
   "source": [
    "print(g_prova_restrict_stats)"
   ]
  },
  {
   "cell_type": "code",
   "execution_count": 55,
   "id": "00436e08",
   "metadata": {},
   "outputs": [
    {
     "name": "stdout",
     "output_type": "stream",
     "text": [
      "count    1500.000000\n",
      "mean      691.864000\n",
      "std       344.975474\n",
      "min         2.000000\n",
      "25%       390.750000\n",
      "50%       809.000000\n",
      "75%       993.250000\n",
      "max      1201.000000\n",
      "Name: degree, dtype: float64\n"
     ]
    },
    {
     "data": {
      "image/png": "[encoded data removed]",
      "text/plain": [
       "<Figure size 640x480 with 1 Axes>"
      ]
     },
     "metadata": {},
     "output_type": "display_data"
    }
   ],
   "source": [
    "plot_degrees(g_prova_mean)"
   ]
  },
  {
   "cell_type": "code",
   "execution_count": 56,
   "id": "cef57429",
   "metadata": {},
   "outputs": [
    {
     "name": "stdout",
     "output_type": "stream",
     "text": [
      "count    1496.000000\n",
      "mean      437.553476\n",
      "std       313.609181\n",
      "min         1.000000\n",
      "25%       112.500000\n",
      "50%       445.000000\n",
      "75%       746.000000\n",
      "max       996.000000\n",
      "Name: degree, dtype: float64\n"
     ]
    },
    {
     "data": {
      "image/png": "[encoded data removed]",
      "text/plain": [
       "<Figure size 640x480 with 1 Axes>"
      ]
     },
     "metadata": {},
     "output_type": "display_data"
    }
   ],
   "source": [
    "plot_degrees(g_prova_restrict)"
   ]
  },
  {
   "cell_type": "code",
   "execution_count": 57,
   "id": "def11be8",
   "metadata": {},
   "outputs": [],
   "source": [
    "SFDP_prova_mean = constroi_SFDP(g_prova_mean)"
   ]
  },
  {
   "cell_type": "code",
   "execution_count": 58,
   "id": "bf196ce4",
   "metadata": {},
   "outputs": [],
   "source": [
    "SFDP_prova_restrict = constroi_SFDP(g_prova_restrict)"
   ]
  },
  {
   "cell_type": "code",
   "execution_count": 59,
   "id": "06a2530c",
   "metadata": {},
   "outputs": [],
   "source": [
    "gt_save(SFDP_prova_mean, GRAFOS_DIR / 'SFDP_prova_mean.net.gz')"
   ]
  },
  {
   "cell_type": "code",
   "execution_count": 61,
   "id": "04e49c81",
   "metadata": {},
   "outputs": [],
   "source": [
    "gt_save(SFDP_prova_restrict, GRAFOS_DIR / 'SFDP_prova_restrict.net.gz')"
   ]
  },
  {
   "cell_type": "code",
   "execution_count": 62,
   "id": "fe738bb6",
   "metadata": {},
   "outputs": [],
   "source": [
    "# r = netpixi.render('./sample400/SFPD_grafo_prova.net.gz', infinite=True)"
   ]
  },
  {
   "cell_type": "code",
   "execution_count": 63,
   "id": "07b2c86f",
   "metadata": {},
   "outputs": [],
   "source": [
    "c_prova_mean = measure_coreness(SFDP_prova_mean)"
   ]
  },
  {
   "cell_type": "code",
   "execution_count": 64,
   "id": "c0e5d337",
   "metadata": {},
   "outputs": [],
   "source": [
    "df['c_prova'] = df.index.map(c_prova_mean.get)"
   ]
  },
  {
   "cell_type": "code",
   "execution_count": 65,
   "id": "f001ce44",
   "metadata": {},
   "outputs": [],
   "source": [
    "c_quest_restrict = measure_coreness(SFDP_quest_restrict)"
   ]
  },
  {
   "cell_type": "code",
   "execution_count": 66,
   "id": "a1db0ae9",
   "metadata": {},
   "outputs": [],
   "source": [
    "df['c_prova_restrict'] = df.index.map(c_quest_restrict.get)"
   ]
  },
  {
   "cell_type": "code",
   "execution_count": 67,
   "id": "90ec9d57",
   "metadata": {},
   "outputs": [],
   "source": [
    "# for i, coreness in c_prova.items():\n",
    "#     v = g_prova_SFDP.get_vertex_by_index(i)\n",
    "#     v['coreness'] = float(coreness)\n",
    "\n",
    "# for v in g_prova_SFDP.all_vertices():\n",
    "#     r.vertex(v['id'], size=(10 + 40 * v['coreness']))"
   ]
  },
  {
   "cell_type": "code",
   "execution_count": 68,
   "id": "ca599074",
   "metadata": {},
   "outputs": [
    {
     "data": {
      "text/html": [
       "<div>\n",
       "<style scoped>\n",
       "    .dataframe tbody tr th:only-of-type {\n",
       "        vertical-align: middle;\n",
       "    }\n",
       "\n",
       "    .dataframe tbody tr th {\n",
       "        vertical-align: top;\n",
       "    }\n",
       "\n",
       "    .dataframe thead th {\n",
       "        text-align: right;\n",
       "    }\n",
       "</style>\n",
       "<table border=\"1\" class=\"dataframe\">\n",
       "  <thead>\n",
       "    <tr style=\"text-align: right;\">\n",
       "      <th></th>\n",
       "      <th>index</th>\n",
       "      <th>NU_INSCRICAO</th>\n",
       "      <th>TP_FAIXA_ETARIA</th>\n",
       "      <th>TP_SEXO</th>\n",
       "      <th>Q001</th>\n",
       "      <th>Q002</th>\n",
       "      <th>Q005</th>\n",
       "      <th>Q006</th>\n",
       "      <th>Q007</th>\n",
       "      <th>Q008</th>\n",
       "      <th>...</th>\n",
       "      <th>RESPOSTAS_QUESTIONARIO</th>\n",
       "      <th>ACERTOS_TOTAIS</th>\n",
       "      <th>RESPOSTAS_ESPECIFICAS</th>\n",
       "      <th>RESPOSTAS_GERAIS</th>\n",
       "      <th>ACERTOS_GERAIS</th>\n",
       "      <th>ACERTOS_ESPECIFICAS</th>\n",
       "      <th>c_quest</th>\n",
       "      <th>c_quest_restrict</th>\n",
       "      <th>c_prova</th>\n",
       "      <th>c_prova_restrict</th>\n",
       "    </tr>\n",
       "  </thead>\n",
       "  <tbody>\n",
       "    <tr>\n",
       "      <th>0</th>\n",
       "      <td>2146868</td>\n",
       "      <td>210054238796</td>\n",
       "      <td>11</td>\n",
       "      <td>M</td>\n",
       "      <td>E</td>\n",
       "      <td>C</td>\n",
       "      <td>2.0</td>\n",
       "      <td>C</td>\n",
       "      <td>A</td>\n",
       "      <td>B</td>\n",
       "      <td>...</td>\n",
       "      <td>BECCABCAABAAAAABCB</td>\n",
       "      <td>60</td>\n",
       "      <td>AAACBCBDBAABEDBCECEBBACBDCABCBABDEBCADBBCCAEEA...</td>\n",
       "      <td>DCBECBBAAEBBCADEBDCABDCDBABCDDDAEBAEDDAEBEAAAB...</td>\n",
       "      <td>32</td>\n",
       "      <td>28</td>\n",
       "      <td>0.859167</td>\n",
       "      <td>0.801667</td>\n",
       "      <td>0.176458</td>\n",
       "      <td>0.822500</td>\n",
       "    </tr>\n",
       "    <tr>\n",
       "      <th>1</th>\n",
       "      <td>2822966</td>\n",
       "      <td>210052121926</td>\n",
       "      <td>3</td>\n",
       "      <td>F</td>\n",
       "      <td>B</td>\n",
       "      <td>B</td>\n",
       "      <td>8.0</td>\n",
       "      <td>D</td>\n",
       "      <td>A</td>\n",
       "      <td>D</td>\n",
       "      <td>...</td>\n",
       "      <td>EBBDADEAACCBBAACEC</td>\n",
       "      <td>51</td>\n",
       "      <td>ADDBEABACABBAEDBDCABEAEDCCCDDBEEAEDBDCEEEBBCAC...</td>\n",
       "      <td>DEEACCDDAEEBEAEADCCDCDBDBABCECDABCDEDCBACEAEAB...</td>\n",
       "      <td>30</td>\n",
       "      <td>21</td>\n",
       "      <td>0.165417</td>\n",
       "      <td>0.244162</td>\n",
       "      <td>0.248125</td>\n",
       "      <td>0.813333</td>\n",
       "    </tr>\n",
       "    <tr>\n",
       "      <th>2</th>\n",
       "      <td>2965833</td>\n",
       "      <td>210054081240</td>\n",
       "      <td>6</td>\n",
       "      <td>F</td>\n",
       "      <td>G</td>\n",
       "      <td>F</td>\n",
       "      <td>4.0</td>\n",
       "      <td>H</td>\n",
       "      <td>A</td>\n",
       "      <td>C</td>\n",
       "      <td>...</td>\n",
       "      <td>DGFHACDABBBBBBABED</td>\n",
       "      <td>93</td>\n",
       "      <td>DAABCACEBEBBEECAEBEBBAEBAAABDEBDBECDACABEEAECC...</td>\n",
       "      <td>EEDBCAADADDBEABDAEBDADABDABCDCACABDAEAAABCABAB...</td>\n",
       "      <td>44</td>\n",
       "      <td>49</td>\n",
       "      <td>0.807500</td>\n",
       "      <td>0.976667</td>\n",
       "      <td>0.205417</td>\n",
       "      <td>0.906667</td>\n",
       "    </tr>\n",
       "    <tr>\n",
       "      <th>3</th>\n",
       "      <td>2322664</td>\n",
       "      <td>210051351311</td>\n",
       "      <td>10</td>\n",
       "      <td>M</td>\n",
       "      <td>D</td>\n",
       "      <td>F</td>\n",
       "      <td>5.0</td>\n",
       "      <td>G</td>\n",
       "      <td>A</td>\n",
       "      <td>B</td>\n",
       "      <td>...</td>\n",
       "      <td>EDFGABDBCBABABAAEB</td>\n",
       "      <td>55</td>\n",
       "      <td>BCACEACEADCBADCBBDCAEBDABEDBDBACBECCBAABEABEAB...</td>\n",
       "      <td>DEEACCEBEAACBEDBEADADDCBDEACCEDBDDDAEBBADDBAEE...</td>\n",
       "      <td>20</td>\n",
       "      <td>35</td>\n",
       "      <td>0.203958</td>\n",
       "      <td>0.180150</td>\n",
       "      <td>0.223333</td>\n",
       "      <td>0.157631</td>\n",
       "    </tr>\n",
       "    <tr>\n",
       "      <th>4</th>\n",
       "      <td>2660396</td>\n",
       "      <td>210054361898</td>\n",
       "      <td>17</td>\n",
       "      <td>F</td>\n",
       "      <td>A</td>\n",
       "      <td>B</td>\n",
       "      <td>2.0</td>\n",
       "      <td>B</td>\n",
       "      <td>A</td>\n",
       "      <td>B</td>\n",
       "      <td>...</td>\n",
       "      <td>BABBABCAABAAAAABCA</td>\n",
       "      <td>55</td>\n",
       "      <td>DDEAAAECCDBCECDDDEEBBCEABDADAEEDBBECDDABEAAADD...</td>\n",
       "      <td>ECBADDABAABAEBDCDDAABAEDCECADBBABCEEDBCABCAAAB...</td>\n",
       "      <td>26</td>\n",
       "      <td>29</td>\n",
       "      <td>0.213750</td>\n",
       "      <td>0.236239</td>\n",
       "      <td>0.174792</td>\n",
       "      <td>0.231651</td>\n",
       "    </tr>\n",
       "  </tbody>\n",
       "</table>\n",
       "<p>5 rows × 35 columns</p>\n",
       "</div>"
      ],
      "text/plain": [
       "     index  NU_INSCRICAO  TP_FAIXA_ETARIA TP_SEXO Q001 Q002  Q005 Q006 Q007  \\\n",
       "0  2146868  210054238796               11       M    E    C   2.0    C    A   \n",
       "1  2822966  210052121926                3       F    B    B   8.0    D    A   \n",
       "2  2965833  210054081240                6       F    G    F   4.0    H    A   \n",
       "3  2322664  210051351311               10       M    D    F   5.0    G    A   \n",
       "4  2660396  210054361898               17       F    A    B   2.0    B    A   \n",
       "\n",
       "  Q008  ... RESPOSTAS_QUESTIONARIO ACERTOS_TOTAIS  \\\n",
       "0    B  ...     BECCABCAABAAAAABCB             60   \n",
       "1    D  ...     EBBDADEAACCBBAACEC             51   \n",
       "2    C  ...     DGFHACDABBBBBBABED             93   \n",
       "3    B  ...     EDFGABDBCBABABAAEB             55   \n",
       "4    B  ...     BABBABCAABAAAAABCA             55   \n",
       "\n",
       "                               RESPOSTAS_ESPECIFICAS  \\\n",
       "0  AAACBCBDBAABEDBCECEBBACBDCABCBABDEBCADBBCCAEEA...   \n",
       "1  ADDBEABACABBAEDBDCABEAEDCCCDDBEEAEDBDCEEEBBCAC...   \n",
       "2  DAABCACEBEBBEECAEBEBBAEBAAABDEBDBECDACABEEAECC...   \n",
       "3  BCACEACEADCBADCBBDCAEBDABEDBDBACBECCBAABEABEAB...   \n",
       "4  DDEAAAECCDBCECDDDEEBBCEABDADAEEDBBECDDABEAAADD...   \n",
       "\n",
       "                                    RESPOSTAS_GERAIS ACERTOS_GERAIS  \\\n",
       "0  DCBECBBAAEBBCADEBDCABDCDBABCDDDAEBAEDDAEBEAAAB...             32   \n",
       "1  DEEACCDDAEEBEAEADCCDCDBDBABCECDABCDEDCBACEAEAB...             30   \n",
       "2  EEDBCAADADDBEABDAEBDADABDABCDCACABDAEAAABCABAB...             44   \n",
       "3  DEEACCEBEAACBEDBEADADDCBDEACCEDBDDDAEBBADDBAEE...             20   \n",
       "4  ECBADDABAABAEBDCDDAABAEDCECADBBABCEEDBCABCAAAB...             26   \n",
       "\n",
       "  ACERTOS_ESPECIFICAS   c_quest c_quest_restrict   c_prova c_prova_restrict  \n",
       "0                  28  0.859167         0.801667  0.176458         0.822500  \n",
       "1                  21  0.165417         0.244162  0.248125         0.813333  \n",
       "2                  49  0.807500         0.976667  0.205417         0.906667  \n",
       "3                  35  0.203958         0.180150  0.223333         0.157631  \n",
       "4                  29  0.213750         0.236239  0.174792         0.231651  \n",
       "\n",
       "[5 rows x 35 columns]"
      ]
     },
     "execution_count": 68,
     "metadata": {},
     "output_type": "execute_result"
    }
   ],
   "source": [
    "df.head()"
   ]
  },
  {
   "cell_type": "markdown",
   "id": "af42f4f3",
   "metadata": {},
   "source": [
    "## Exportando arquivos"
   ]
  },
  {
   "cell_type": "code",
   "execution_count": 69,
   "id": "54d70ae2",
   "metadata": {},
   "outputs": [],
   "source": [
    "processed_dir = DATA_DIR / 'processed'\n",
    "processed_dir.mkdir(parents=True, exist_ok=True)"
   ]
  },
  {
   "cell_type": "code",
   "execution_count": 70,
   "id": "bff3fe91",
   "metadata": {},
   "outputs": [],
   "source": [
    "processed_file_path_centrais = processed_dir / 'candidatos_centrais.pkl'"
   ]
  },
  {
   "cell_type": "code",
   "execution_count": 71,
   "id": "c95b1d4e",
   "metadata": {},
   "outputs": [],
   "source": [
    "with open(processed_file_path_centrais, 'wb') as file:\n",
    "    pickle.dump(df, file)"
   ]
  }
 ],
 "metadata": {
  "kernelspec": {
   "display_name": "Python 3 (ipykernel)",
   "language": "python",
   "name": "python3"
  },
  "language_info": {
   "codemirror_mode": {
    "name": "ipython",
    "version": 3
   },
   "file_extension": ".py",
   "mimetype": "text/x-python",
   "name": "python",
   "nbconvert_exporter": "python",
   "pygments_lexer": "ipython3",
   "version": "3.10.10"
  }
 },
 "nbformat": 4,
 "nbformat_minor": 5
}
