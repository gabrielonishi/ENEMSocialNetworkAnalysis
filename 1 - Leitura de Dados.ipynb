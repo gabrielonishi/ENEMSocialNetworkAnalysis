{
 "cells": [
  {
   "cell_type": "code",
   "execution_count": 1,
   "id": "f8be9945",
   "metadata": {},
   "outputs": [],
   "source": [
    "import pandas as pd\n",
    "import numpy as np\n",
    "import matplotlib as plt\n",
    "import pathlib\n",
    "import pickle"
   ]
  },
  {
   "cell_type": "markdown",
   "id": "b2e125ee",
   "metadata": {},
   "source": [
    "# Leitura de Dados"
   ]
  },
  {
   "cell_type": "markdown",
   "id": "ea5d7c21",
   "metadata": {},
   "source": [
    "O arquivo de dados é muito grande, fazendo com que carregá-lo seja custoso. Para reduzir um pouco isso, podemos optar por carregar apenas as colunas de interesse."
   ]
  },
  {
   "cell_type": "code",
   "execution_count": 2,
   "id": "a8f6ec43",
   "metadata": {},
   "outputs": [
    {
     "name": "stdout",
     "output_type": "stream",
     "text": [
      "/home/jupyter/notebooks/projeto/data\n"
     ]
    }
   ],
   "source": [
    "DATA_DIR = pathlib.Path.cwd().parent / 'projeto' / 'data'\n",
    "print(DATA_DIR)"
   ]
  },
  {
   "cell_type": "code",
   "execution_count": 3,
   "id": "08551438",
   "metadata": {},
   "outputs": [
    {
     "name": "stdout",
     "output_type": "stream",
     "text": [
      "/home/jupyter/notebooks/projeto/data/raw\n"
     ]
    }
   ],
   "source": [
    "RAW_DATA_DIR = DATA_DIR / 'raw'\n",
    "RAW_DATA_DIR.mkdir(parents=True, exist_ok=True)\n",
    "print(RAW_DATA_DIR)"
   ]
  },
  {
   "cell_type": "code",
   "execution_count": 4,
   "id": "62c37a83",
   "metadata": {},
   "outputs": [
    {
     "name": "stdout",
     "output_type": "stream",
     "text": [
      "/home/jupyter/notebooks/projeto/data/raw/MICRODADOS_ENEM_2021.csv\n"
     ]
    }
   ],
   "source": [
    "RAW_DATA_FILE_PATH = DATA_DIR / 'raw' / 'MICRODADOS_ENEM_2021.csv'\n",
    "print(RAW_DATA_FILE_PATH)"
   ]
  },
  {
   "cell_type": "code",
   "execution_count": 5,
   "id": "1f404150",
   "metadata": {},
   "outputs": [
    {
     "data": {
      "text/plain": [
       "Index(['NU_INSCRICAO', 'NU_ANO', 'TP_FAIXA_ETARIA', 'TP_SEXO',\n",
       "       'TP_ESTADO_CIVIL', 'TP_COR_RACA', 'TP_NACIONALIDADE', 'TP_ST_CONCLUSAO',\n",
       "       'TP_ANO_CONCLUIU', 'TP_ESCOLA', 'TP_ENSINO', 'IN_TREINEIRO',\n",
       "       'CO_MUNICIPIO_ESC', 'NO_MUNICIPIO_ESC', 'CO_UF_ESC', 'SG_UF_ESC',\n",
       "       'TP_DEPENDENCIA_ADM_ESC', 'TP_LOCALIZACAO_ESC', 'TP_SIT_FUNC_ESC',\n",
       "       'CO_MUNICIPIO_PROVA', 'NO_MUNICIPIO_PROVA', 'CO_UF_PROVA',\n",
       "       'SG_UF_PROVA', 'TP_PRESENCA_CN', 'TP_PRESENCA_CH', 'TP_PRESENCA_LC',\n",
       "       'TP_PRESENCA_MT', 'CO_PROVA_CN', 'CO_PROVA_CH', 'CO_PROVA_LC',\n",
       "       'CO_PROVA_MT', 'NU_NOTA_CN', 'NU_NOTA_CH', 'NU_NOTA_LC', 'NU_NOTA_MT',\n",
       "       'TX_RESPOSTAS_CN', 'TX_RESPOSTAS_CH', 'TX_RESPOSTAS_LC',\n",
       "       'TX_RESPOSTAS_MT', 'TP_LINGUA', 'TX_GABARITO_CN', 'TX_GABARITO_CH',\n",
       "       'TX_GABARITO_LC', 'TX_GABARITO_MT', 'TP_STATUS_REDACAO',\n",
       "       'NU_NOTA_COMP1', 'NU_NOTA_COMP2', 'NU_NOTA_COMP3', 'NU_NOTA_COMP4',\n",
       "       'NU_NOTA_COMP5', 'NU_NOTA_REDACAO', 'Q001', 'Q002', 'Q003', 'Q004',\n",
       "       'Q005', 'Q006', 'Q007', 'Q008', 'Q009', 'Q010', 'Q011', 'Q012', 'Q013',\n",
       "       'Q014', 'Q015', 'Q016', 'Q017', 'Q018', 'Q019', 'Q020', 'Q021', 'Q022',\n",
       "       'Q023', 'Q024', 'Q025'],\n",
       "      dtype='object')"
      ]
     },
     "execution_count": 5,
     "metadata": {},
     "output_type": "execute_result"
    }
   ],
   "source": [
    "trial_data = pd.read_csv(RAW_DATA_FILE_PATH, \n",
    "            encoding='latin-1', \n",
    "            sep=';',  \n",
    "            nrows=1)\n",
    "trial_data.columns"
   ]
  },
  {
   "cell_type": "markdown",
   "id": "e5311de9",
   "metadata": {},
   "source": [
    "Utilizarão-se as questões ordinais do questionário socioeconômico para entender melhor como vivem cada um dos candidatos"
   ]
  },
  {
   "cell_type": "code",
   "execution_count": 6,
   "id": "fc7dcdbc",
   "metadata": {},
   "outputs": [],
   "source": [
    "variaveis_de_interesse = ['NU_INSCRICAO', 'TP_FAIXA_ETARIA', 'TP_SEXO',\n",
    "                          'TX_RESPOSTAS_CN', 'TX_RESPOSTAS_CH', 'TX_RESPOSTAS_LC', 'TX_RESPOSTAS_MT',\n",
    "                          'TX_GABARITO_CN', 'TX_GABARITO_CH', 'TX_GABARITO_LC', 'TX_GABARITO_MT',\n",
    "                          'Q001', 'Q002','Q005', 'Q006', 'Q007', 'Q008', 'Q009', 'Q010', 'Q011', \n",
    "                          'Q012', 'Q013','Q014', 'Q015', 'Q016', 'Q017', 'Q019', 'Q022', 'Q024'\n",
    "                         ]"
   ]
  },
  {
   "cell_type": "code",
   "execution_count": 7,
   "id": "616fcd6c",
   "metadata": {},
   "outputs": [],
   "source": [
    "# Carregando arquivo inteiro\n",
    "raw_data = pd.read_csv(RAW_DATA_FILE_PATH, \n",
    "            usecols = variaveis_de_interesse,\n",
    "            encoding='latin-1', \n",
    "            sep=';')"
   ]
  },
  {
   "cell_type": "code",
   "execution_count": 8,
   "id": "8eedcd2a",
   "metadata": {},
   "outputs": [],
   "source": [
    "raw_data = raw_data.dropna()"
   ]
  },
  {
   "cell_type": "code",
   "execution_count": 9,
   "id": "8b142cff",
   "metadata": {},
   "outputs": [
    {
     "data": {
      "text/html": [
       "<div>\n",
       "<style scoped>\n",
       "    .dataframe tbody tr th:only-of-type {\n",
       "        vertical-align: middle;\n",
       "    }\n",
       "\n",
       "    .dataframe tbody tr th {\n",
       "        vertical-align: top;\n",
       "    }\n",
       "\n",
       "    .dataframe thead th {\n",
       "        text-align: right;\n",
       "    }\n",
       "</style>\n",
       "<table border=\"1\" class=\"dataframe\">\n",
       "  <thead>\n",
       "    <tr style=\"text-align: right;\">\n",
       "      <th></th>\n",
       "      <th>NU_INSCRICAO</th>\n",
       "      <th>TP_FAIXA_ETARIA</th>\n",
       "      <th>TP_SEXO</th>\n",
       "      <th>TX_RESPOSTAS_CN</th>\n",
       "      <th>TX_RESPOSTAS_CH</th>\n",
       "      <th>TX_RESPOSTAS_LC</th>\n",
       "      <th>TX_RESPOSTAS_MT</th>\n",
       "      <th>TX_GABARITO_CN</th>\n",
       "      <th>TX_GABARITO_CH</th>\n",
       "      <th>TX_GABARITO_LC</th>\n",
       "      <th>...</th>\n",
       "      <th>Q011</th>\n",
       "      <th>Q012</th>\n",
       "      <th>Q013</th>\n",
       "      <th>Q014</th>\n",
       "      <th>Q015</th>\n",
       "      <th>Q016</th>\n",
       "      <th>Q017</th>\n",
       "      <th>Q019</th>\n",
       "      <th>Q022</th>\n",
       "      <th>Q024</th>\n",
       "    </tr>\n",
       "  </thead>\n",
       "  <tbody>\n",
       "    <tr>\n",
       "      <th>1</th>\n",
       "      <td>210052384164</td>\n",
       "      <td>12</td>\n",
       "      <td>M</td>\n",
       "      <td>DCBCCBDBCCCCCCDDCDCCCACCABCCECCCCAADCCCBBCADE</td>\n",
       "      <td>ECCDAAEBCDACBDBDECABBEAACBCBCCCDACEABEBEBACAE</td>\n",
       "      <td>99999ACECCEEBACDABACBECBBCDBDEBDDCCCDECCDDCCCC...</td>\n",
       "      <td>CDCCBCCCDCCCCBEACEECAEABECCCDCBBCABACDAEDCCEC</td>\n",
       "      <td>DABCEDEBEEBBCABEDDCBCBECDADCDAACBDCCCDBBBEBAB</td>\n",
       "      <td>EBAAEADBCACBBABEECBAAEEBBBADCBADBCEDDEBBCAEAB</td>\n",
       "      <td>ACABBACAEADCEADABDACDCEABDDADBEDDDEBBACCDDDCCE...</td>\n",
       "      <td>...</td>\n",
       "      <td>A</td>\n",
       "      <td>B</td>\n",
       "      <td>A</td>\n",
       "      <td>A</td>\n",
       "      <td>A</td>\n",
       "      <td>A</td>\n",
       "      <td>A</td>\n",
       "      <td>B</td>\n",
       "      <td>C</td>\n",
       "      <td>A</td>\n",
       "    </tr>\n",
       "    <tr>\n",
       "      <th>3</th>\n",
       "      <td>210052128335</td>\n",
       "      <td>3</td>\n",
       "      <td>M</td>\n",
       "      <td>CCABBDAEDBEBEDDCAAABBDAADBDCACACEDAABCEABAEBC</td>\n",
       "      <td>CBBDABAABBAAEECEBAADADBEBCAEEBEDDEBBBADBCBEDC</td>\n",
       "      <td>ABBCA99999CDECCCBADCDBCEAEBBAAEADEEADDACAEDDAB...</td>\n",
       "      <td>EACDCEACDDDDCBDDCABADAEBACDCDDEDBBCDBECACCCCA</td>\n",
       "      <td>CDBBBCABEDEDEAAEBACCCBDABCDCBCBDECDADCDBBEEBB</td>\n",
       "      <td>BBBAAEECBBABEECEBAAEADBCACAEABEDDEBBBADBCBADC</td>\n",
       "      <td>ABBCAEAACADDCACDCADABBBBDEBBACEADCEBDDACEEDDDB...</td>\n",
       "      <td>...</td>\n",
       "      <td>A</td>\n",
       "      <td>B</td>\n",
       "      <td>A</td>\n",
       "      <td>A</td>\n",
       "      <td>A</td>\n",
       "      <td>A</td>\n",
       "      <td>A</td>\n",
       "      <td>B</td>\n",
       "      <td>B</td>\n",
       "      <td>B</td>\n",
       "    </tr>\n",
       "    <tr>\n",
       "      <th>4</th>\n",
       "      <td>210051353021</td>\n",
       "      <td>2</td>\n",
       "      <td>F</td>\n",
       "      <td>BABCDCCBEBCD.DEDCABCBDEDAABEDADBDBCDECCAEDBCB</td>\n",
       "      <td>CAE.ACDCAAEBBEDEBCADADEDADAACEBDABBCEABBCDEAC</td>\n",
       "      <td>99999EAACBDCBECCABADBEDADCDADDCDDECABAADEBBDAC...</td>\n",
       "      <td>ACEDEBECABDABDEECBDEEADDDDBEBCEADCCADCADEDCEB</td>\n",
       "      <td>DABCEDEBEEBBCABEDDCBCBECDADCDAACBDCCCDBBBEBAB</td>\n",
       "      <td>EBAAEADBCACBBABEECBAAEEBBBADCBADBCEDDEBBCAEAB</td>\n",
       "      <td>ACABBACAEADCEADABDACDCEABDDADBEDDDEBBACCDDDCCE...</td>\n",
       "      <td>...</td>\n",
       "      <td>A</td>\n",
       "      <td>B</td>\n",
       "      <td>A</td>\n",
       "      <td>B</td>\n",
       "      <td>A</td>\n",
       "      <td>B</td>\n",
       "      <td>A</td>\n",
       "      <td>B</td>\n",
       "      <td>E</td>\n",
       "      <td>B</td>\n",
       "    </tr>\n",
       "    <tr>\n",
       "      <th>8</th>\n",
       "      <td>210053417016</td>\n",
       "      <td>8</td>\n",
       "      <td>F</td>\n",
       "      <td>BBBDCCBDCCEDBBBCACEBCDADEEADCDEBEDDEBBEBEEECB</td>\n",
       "      <td>BDBCDAAEEBEAABEDEBAACCCCBABCCAAEBBCABAEAEDEDA</td>\n",
       "      <td>BADBB99999BDDEDAEEEDEDADEAEAEBAAECBCADADDCEDAB...</td>\n",
       "      <td>CBBCCDDEEEBCBCAEBBEDEACBCABCAEBADCEABEEBCBCEA</td>\n",
       "      <td>ADCDCDBBBECDCCDCBCBDABCAADCBEBABEEBBBCABEDEDE</td>\n",
       "      <td>BADCBADBCEDDEBBADBCABEECCAEABEBAAECBBABAAEEBB</td>\n",
       "      <td>CAABBCAEAABDCDEADCEDBEDDDABBBBDEBCEADABDBACACD...</td>\n",
       "      <td>...</td>\n",
       "      <td>A</td>\n",
       "      <td>B</td>\n",
       "      <td>A</td>\n",
       "      <td>A</td>\n",
       "      <td>A</td>\n",
       "      <td>B</td>\n",
       "      <td>A</td>\n",
       "      <td>B</td>\n",
       "      <td>B</td>\n",
       "      <td>A</td>\n",
       "    </tr>\n",
       "    <tr>\n",
       "      <th>9</th>\n",
       "      <td>210051128744</td>\n",
       "      <td>4</td>\n",
       "      <td>F</td>\n",
       "      <td>BAEDEBDECCEAEDDCBDEDAEECEEEDBDECBDCECBCCDABED</td>\n",
       "      <td>EEEBAABCBCDBEAEBEACEDDEDECACBDBCDACECDAECBCBD</td>\n",
       "      <td>99999ACAEEEEBDEACDACDEABCEABBDEDBAEEBDEEACDBAC...</td>\n",
       "      <td>BACEACDACBAAAEDCECABBACDCDBBA.CEABCDADADBECBE</td>\n",
       "      <td>EDECABEDABCBEBACCDCBBEEBBCBDAAECDCBDCDBBBADCD</td>\n",
       "      <td>BEECCAEABADBCAEBAAEEDDEBBBADBCBAAEEBBBADCCBBA</td>\n",
       "      <td>ABBACAAECACDBDDADEBDDCBDCEDBEDDBBBBDCEEAADABAC...</td>\n",
       "      <td>...</td>\n",
       "      <td>A</td>\n",
       "      <td>B</td>\n",
       "      <td>B</td>\n",
       "      <td>C</td>\n",
       "      <td>A</td>\n",
       "      <td>B</td>\n",
       "      <td>A</td>\n",
       "      <td>C</td>\n",
       "      <td>C</td>\n",
       "      <td>A</td>\n",
       "    </tr>\n",
       "  </tbody>\n",
       "</table>\n",
       "<p>5 rows × 29 columns</p>\n",
       "</div>"
      ],
      "text/plain": [
       "   NU_INSCRICAO  TP_FAIXA_ETARIA TP_SEXO  \\\n",
       "1  210052384164               12       M   \n",
       "3  210052128335                3       M   \n",
       "4  210051353021                2       F   \n",
       "8  210053417016                8       F   \n",
       "9  210051128744                4       F   \n",
       "\n",
       "                                 TX_RESPOSTAS_CN  \\\n",
       "1  DCBCCBDBCCCCCCDDCDCCCACCABCCECCCCAADCCCBBCADE   \n",
       "3  CCABBDAEDBEBEDDCAAABBDAADBDCACACEDAABCEABAEBC   \n",
       "4  BABCDCCBEBCD.DEDCABCBDEDAABEDADBDBCDECCAEDBCB   \n",
       "8  BBBDCCBDCCEDBBBCACEBCDADEEADCDEBEDDEBBEBEEECB   \n",
       "9  BAEDEBDECCEAEDDCBDEDAEECEEEDBDECBDCECBCCDABED   \n",
       "\n",
       "                                 TX_RESPOSTAS_CH  \\\n",
       "1  ECCDAAEBCDACBDBDECABBEAACBCBCCCDACEABEBEBACAE   \n",
       "3  CBBDABAABBAAEECEBAADADBEBCAEEBEDDEBBBADBCBEDC   \n",
       "4  CAE.ACDCAAEBBEDEBCADADEDADAACEBDABBCEABBCDEAC   \n",
       "8  BDBCDAAEEBEAABEDEBAACCCCBABCCAAEBBCABAEAEDEDA   \n",
       "9  EEEBAABCBCDBEAEBEACEDDEDECACBDBCDACECDAECBCBD   \n",
       "\n",
       "                                     TX_RESPOSTAS_LC  \\\n",
       "1  99999ACECCEEBACDABACBECBBCDBDEBDDCCCDECCDDCCCC...   \n",
       "3  ABBCA99999CDECCCBADCDBCEAEBBAAEADEEADDACAEDDAB...   \n",
       "4  99999EAACBDCBECCABADBEDADCDADDCDDECABAADEBBDAC...   \n",
       "8  BADBB99999BDDEDAEEEDEDADEAEAEBAAECBCADADDCEDAB...   \n",
       "9  99999ACAEEEEBDEACDACDEABCEABBDEDBAEEBDEEACDBAC...   \n",
       "\n",
       "                                 TX_RESPOSTAS_MT  \\\n",
       "1  CDCCBCCCDCCCCBEACEECAEABECCCDCBBCABACDAEDCCEC   \n",
       "3  EACDCEACDDDDCBDDCABADAEBACDCDDEDBBCDBECACCCCA   \n",
       "4  ACEDEBECABDABDEECBDEEADDDDBEBCEADCCADCADEDCEB   \n",
       "8  CBBCCDDEEEBCBCAEBBEDEACBCABCAEBADCEABEEBCBCEA   \n",
       "9  BACEACDACBAAAEDCECABBACDCDBBA.CEABCDADADBECBE   \n",
       "\n",
       "                                  TX_GABARITO_CN  \\\n",
       "1  DABCEDEBEEBBCABEDDCBCBECDADCDAACBDCCCDBBBEBAB   \n",
       "3  CDBBBCABEDEDEAAEBACCCBDABCDCBCBDECDADCDBBEEBB   \n",
       "4  DABCEDEBEEBBCABEDDCBCBECDADCDAACBDCCCDBBBEBAB   \n",
       "8  ADCDCDBBBECDCCDCBCBDABCAADCBEBABEEBBBCABEDEDE   \n",
       "9  EDECABEDABCBEBACCDCBBEEBBCBDAAECDCBDCDBBBADCD   \n",
       "\n",
       "                                  TX_GABARITO_CH  \\\n",
       "1  EBAAEADBCACBBABEECBAAEEBBBADCBADBCEDDEBBCAEAB   \n",
       "3  BBBAAEECBBABEECEBAAEADBCACAEABEDDEBBBADBCBADC   \n",
       "4  EBAAEADBCACBBABEECBAAEEBBBADCBADBCEDDEBBCAEAB   \n",
       "8  BADCBADBCEDDEBBADBCABEECCAEABEBAAECBBABAAEEBB   \n",
       "9  BEECCAEABADBCAEBAAEEDDEBBBADBCBAAEEBBBADCCBBA   \n",
       "\n",
       "                                      TX_GABARITO_LC  ... Q011 Q012 Q013  \\\n",
       "1  ACABBACAEADCEADABDACDCEABDDADBEDDDEBBACCDDDCCE...  ...    A    B    A   \n",
       "3  ABBCAEAACADDCACDCADABBBBDEBBACEADCEBDDACEEDDDB...  ...    A    B    A   \n",
       "4  ACABBACAEADCEADABDACDCEABDDADBEDDDEBBACCDDDCCE...  ...    A    B    A   \n",
       "8  CAABBCAEAABDCDEADCEDBEDDDABBBBDEBCEADABDBACACD...  ...    A    B    A   \n",
       "9  ABBACAAECACDBDDADEBDDCBDCEDBEDDBBBBDCEEAADABAC...  ...    A    B    B   \n",
       "\n",
       "   Q014 Q015 Q016 Q017 Q019 Q022 Q024  \n",
       "1     A    A    A    A    B    C    A  \n",
       "3     A    A    A    A    B    B    B  \n",
       "4     B    A    B    A    B    E    B  \n",
       "8     A    A    B    A    B    B    A  \n",
       "9     C    A    B    A    C    C    A  \n",
       "\n",
       "[5 rows x 29 columns]"
      ]
     },
     "execution_count": 9,
     "metadata": {},
     "output_type": "execute_result"
    }
   ],
   "source": [
    "raw_data.head(5)"
   ]
  },
  {
   "cell_type": "markdown",
   "id": "a5f1ba9f",
   "metadata": {},
   "source": [
    "## Normalizando pela mesma prova"
   ]
  },
  {
   "cell_type": "markdown",
   "id": "dca8a5a9",
   "metadata": {},
   "source": [
    "Para conseguir comparar as respostas entre os candidatos, todos eles tem que ter feito o mesmo tipo de prova. Nesse caso, selecionamos todos os candidatos que fizeram o mesmo tipo de prova que o candidato número 1 (NU_INSCRICAO = 210052384164)"
   ]
  },
  {
   "cell_type": "code",
   "execution_count": 10,
   "id": "0b010905",
   "metadata": {},
   "outputs": [],
   "source": [
    "gabarito_CN = raw_data.iloc[0]['TX_GABARITO_CN']\n",
    "gabarito_CH = raw_data.iloc[0]['TX_GABARITO_CH']\n",
    "gabarito_LC = raw_data.iloc[0]['TX_GABARITO_LC']\n",
    "gabarito_MT = raw_data.iloc[0]['TX_GABARITO_MT']"
   ]
  },
  {
   "cell_type": "code",
   "execution_count": 11,
   "id": "74289e73",
   "metadata": {},
   "outputs": [],
   "source": [
    "data = raw_data.loc[raw_data['TX_GABARITO_CN'] == gabarito_CN]\n",
    "data = data.loc[data['TX_GABARITO_CH'] == gabarito_CH]\n",
    "data = data.loc[data['TX_GABARITO_LC'] == gabarito_LC]\n",
    "data = data.loc[data['TX_GABARITO_MT'] == gabarito_MT]"
   ]
  },
  {
   "cell_type": "code",
   "execution_count": 12,
   "id": "aa9171e1",
   "metadata": {
    "scrolled": false
   },
   "outputs": [
    {
     "data": {
      "text/html": [
       "<div>\n",
       "<style scoped>\n",
       "    .dataframe tbody tr th:only-of-type {\n",
       "        vertical-align: middle;\n",
       "    }\n",
       "\n",
       "    .dataframe tbody tr th {\n",
       "        vertical-align: top;\n",
       "    }\n",
       "\n",
       "    .dataframe thead th {\n",
       "        text-align: right;\n",
       "    }\n",
       "</style>\n",
       "<table border=\"1\" class=\"dataframe\">\n",
       "  <thead>\n",
       "    <tr style=\"text-align: right;\">\n",
       "      <th></th>\n",
       "      <th>NU_INSCRICAO</th>\n",
       "      <th>TP_FAIXA_ETARIA</th>\n",
       "      <th>TP_SEXO</th>\n",
       "      <th>TX_RESPOSTAS_CN</th>\n",
       "      <th>TX_RESPOSTAS_CH</th>\n",
       "      <th>TX_RESPOSTAS_LC</th>\n",
       "      <th>TX_RESPOSTAS_MT</th>\n",
       "      <th>TX_GABARITO_CN</th>\n",
       "      <th>TX_GABARITO_CH</th>\n",
       "      <th>TX_GABARITO_LC</th>\n",
       "      <th>...</th>\n",
       "      <th>Q011</th>\n",
       "      <th>Q012</th>\n",
       "      <th>Q013</th>\n",
       "      <th>Q014</th>\n",
       "      <th>Q015</th>\n",
       "      <th>Q016</th>\n",
       "      <th>Q017</th>\n",
       "      <th>Q019</th>\n",
       "      <th>Q022</th>\n",
       "      <th>Q024</th>\n",
       "    </tr>\n",
       "  </thead>\n",
       "  <tbody>\n",
       "    <tr>\n",
       "      <th>1</th>\n",
       "      <td>210052384164</td>\n",
       "      <td>12</td>\n",
       "      <td>M</td>\n",
       "      <td>DCBCCBDBCCCCCCDDCDCCCACCABCCECCCCAADCCCBBCADE</td>\n",
       "      <td>ECCDAAEBCDACBDBDECABBEAACBCBCCCDACEABEBEBACAE</td>\n",
       "      <td>99999ACECCEEBACDABACBECBBCDBDEBDDCCCDECCDDCCCC...</td>\n",
       "      <td>CDCCBCCCDCCCCBEACEECAEABECCCDCBBCABACDAEDCCEC</td>\n",
       "      <td>DABCEDEBEEBBCABEDDCBCBECDADCDAACBDCCCDBBBEBAB</td>\n",
       "      <td>EBAAEADBCACBBABEECBAAEEBBBADCBADBCEDDEBBCAEAB</td>\n",
       "      <td>ACABBACAEADCEADABDACDCEABDDADBEDDDEBBACCDDDCCE...</td>\n",
       "      <td>...</td>\n",
       "      <td>A</td>\n",
       "      <td>B</td>\n",
       "      <td>A</td>\n",
       "      <td>A</td>\n",
       "      <td>A</td>\n",
       "      <td>A</td>\n",
       "      <td>A</td>\n",
       "      <td>B</td>\n",
       "      <td>C</td>\n",
       "      <td>A</td>\n",
       "    </tr>\n",
       "    <tr>\n",
       "      <th>4</th>\n",
       "      <td>210051353021</td>\n",
       "      <td>2</td>\n",
       "      <td>F</td>\n",
       "      <td>BABCDCCBEBCD.DEDCABCBDEDAABEDADBDBCDECCAEDBCB</td>\n",
       "      <td>CAE.ACDCAAEBBEDEBCADADEDADAACEBDABBCEABBCDEAC</td>\n",
       "      <td>99999EAACBDCBECCABADBEDADCDADDCDDECABAADEBBDAC...</td>\n",
       "      <td>ACEDEBECABDABDEECBDEEADDDDBEBCEADCCADCADEDCEB</td>\n",
       "      <td>DABCEDEBEEBBCABEDDCBCBECDADCDAACBDCCCDBBBEBAB</td>\n",
       "      <td>EBAAEADBCACBBABEECBAAEEBBBADCBADBCEDDEBBCAEAB</td>\n",
       "      <td>ACABBACAEADCEADABDACDCEABDDADBEDDDEBBACCDDDCCE...</td>\n",
       "      <td>...</td>\n",
       "      <td>A</td>\n",
       "      <td>B</td>\n",
       "      <td>A</td>\n",
       "      <td>B</td>\n",
       "      <td>A</td>\n",
       "      <td>B</td>\n",
       "      <td>A</td>\n",
       "      <td>B</td>\n",
       "      <td>E</td>\n",
       "      <td>B</td>\n",
       "    </tr>\n",
       "    <tr>\n",
       "      <th>18</th>\n",
       "      <td>210054206376</td>\n",
       "      <td>2</td>\n",
       "      <td>F</td>\n",
       "      <td>CCEBDBDBAEDECDDBCDACCDEDDAAEAEDAEABBCDCEBECAB</td>\n",
       "      <td>DEECECBAEAACDBCDCBABABACABACCDADBBAEDECACDDBB</td>\n",
       "      <td>99999CBBDEEEBAECBDAABACABCBAADABBDABBAADDCDAAB...</td>\n",
       "      <td>BCEDECBCDBDBCBACDBEBBCEEAEDABAABCDCABDBDCCBEE</td>\n",
       "      <td>DABCEDEBEEBBCABEDDCBCBECDADCDAACBDCCCDBBBEBAB</td>\n",
       "      <td>EBAAEADBCACBBABEECBAAEEBBBADCBADBCEDDEBBCAEAB</td>\n",
       "      <td>ACABBACAEADCEADABDACDCEABDDADBEDDDEBBACCDDDCCE...</td>\n",
       "      <td>...</td>\n",
       "      <td>B</td>\n",
       "      <td>B</td>\n",
       "      <td>A</td>\n",
       "      <td>A</td>\n",
       "      <td>A</td>\n",
       "      <td>A</td>\n",
       "      <td>A</td>\n",
       "      <td>B</td>\n",
       "      <td>C</td>\n",
       "      <td>A</td>\n",
       "    </tr>\n",
       "    <tr>\n",
       "      <th>21</th>\n",
       "      <td>210052118573</td>\n",
       "      <td>3</td>\n",
       "      <td>F</td>\n",
       "      <td>BCEDEACAEDCEDCBDDCCAADABADDEBEECBACDCCABBDCCA</td>\n",
       "      <td>AAEADCDCAAADCBBBAABBEAEDABCDAACDDCBDAAABAABBB</td>\n",
       "      <td>EDBEC99999DDAAEBBDCDBBAABDECAADAEACCDABCEABABE...</td>\n",
       "      <td>EBBEBDCCDDCDCBADABBBCCEABDADCBCCACBDACDCDADCE</td>\n",
       "      <td>DABCEDEBEEBBCABEDDCBCBECDADCDAACBDCCCDBBBEBAB</td>\n",
       "      <td>EBAAEADBCACBBABEECBAAEEBBBADCBADBCEDDEBBCAEAB</td>\n",
       "      <td>ACABBACAEADCEADABDACDCEABDDADBEDDDEBBACCDDDCCE...</td>\n",
       "      <td>...</td>\n",
       "      <td>A</td>\n",
       "      <td>B</td>\n",
       "      <td>A</td>\n",
       "      <td>B</td>\n",
       "      <td>B</td>\n",
       "      <td>B</td>\n",
       "      <td>A</td>\n",
       "      <td>B</td>\n",
       "      <td>B</td>\n",
       "      <td>B</td>\n",
       "    </tr>\n",
       "    <tr>\n",
       "      <th>24</th>\n",
       "      <td>210052019575</td>\n",
       "      <td>1</td>\n",
       "      <td>F</td>\n",
       "      <td>ADDBEABAECBCCADBEECBEDADDABACEEADCBDECDAACBCD</td>\n",
       "      <td>BADBECEAACDABACBAEEDCEBEADCABECEDAEEBAAECBEDC</td>\n",
       "      <td>99999EDAACDABCBBBDADABEDCBEADEDBBCDDEBBCADECAE...</td>\n",
       "      <td>EACEEDBCAADDCBEBAECADBEECEDCACCEABAADBEACEACB</td>\n",
       "      <td>DABCEDEBEEBBCABEDDCBCBECDADCDAACBDCCCDBBBEBAB</td>\n",
       "      <td>EBAAEADBCACBBABEECBAAEEBBBADCBADBCEDDEBBCAEAB</td>\n",
       "      <td>ACABBACAEADCEADABDACDCEABDDADBEDDDEBBACCDDDCCE...</td>\n",
       "      <td>...</td>\n",
       "      <td>B</td>\n",
       "      <td>B</td>\n",
       "      <td>A</td>\n",
       "      <td>A</td>\n",
       "      <td>A</td>\n",
       "      <td>A</td>\n",
       "      <td>A</td>\n",
       "      <td>B</td>\n",
       "      <td>C</td>\n",
       "      <td>A</td>\n",
       "    </tr>\n",
       "  </tbody>\n",
       "</table>\n",
       "<p>5 rows × 29 columns</p>\n",
       "</div>"
      ],
      "text/plain": [
       "    NU_INSCRICAO  TP_FAIXA_ETARIA TP_SEXO  \\\n",
       "1   210052384164               12       M   \n",
       "4   210051353021                2       F   \n",
       "18  210054206376                2       F   \n",
       "21  210052118573                3       F   \n",
       "24  210052019575                1       F   \n",
       "\n",
       "                                  TX_RESPOSTAS_CN  \\\n",
       "1   DCBCCBDBCCCCCCDDCDCCCACCABCCECCCCAADCCCBBCADE   \n",
       "4   BABCDCCBEBCD.DEDCABCBDEDAABEDADBDBCDECCAEDBCB   \n",
       "18  CCEBDBDBAEDECDDBCDACCDEDDAAEAEDAEABBCDCEBECAB   \n",
       "21  BCEDEACAEDCEDCBDDCCAADABADDEBEECBACDCCABBDCCA   \n",
       "24  ADDBEABAECBCCADBEECBEDADDABACEEADCBDECDAACBCD   \n",
       "\n",
       "                                  TX_RESPOSTAS_CH  \\\n",
       "1   ECCDAAEBCDACBDBDECABBEAACBCBCCCDACEABEBEBACAE   \n",
       "4   CAE.ACDCAAEBBEDEBCADADEDADAACEBDABBCEABBCDEAC   \n",
       "18  DEECECBAEAACDBCDCBABABACABACCDADBBAEDECACDDBB   \n",
       "21  AAEADCDCAAADCBBBAABBEAEDABCDAACDDCBDAAABAABBB   \n",
       "24  BADBECEAACDABACBAEEDCEBEADCABECEDAEEBAAECBEDC   \n",
       "\n",
       "                                      TX_RESPOSTAS_LC  \\\n",
       "1   99999ACECCEEBACDABACBECBBCDBDEBDDCCCDECCDDCCCC...   \n",
       "4   99999EAACBDCBECCABADBEDADCDADDCDDECABAADEBBDAC...   \n",
       "18  99999CBBDEEEBAECBDAABACABCBAADABBDABBAADDCDAAB...   \n",
       "21  EDBEC99999DDAAEBBDCDBBAABDECAADAEACCDABCEABABE...   \n",
       "24  99999EDAACDABCBBBDADABEDCBEADEDBBCDDEBBCADECAE...   \n",
       "\n",
       "                                  TX_RESPOSTAS_MT  \\\n",
       "1   CDCCBCCCDCCCCBEACEECAEABECCCDCBBCABACDAEDCCEC   \n",
       "4   ACEDEBECABDABDEECBDEEADDDDBEBCEADCCADCADEDCEB   \n",
       "18  BCEDECBCDBDBCBACDBEBBCEEAEDABAABCDCABDBDCCBEE   \n",
       "21  EBBEBDCCDDCDCBADABBBCCEABDADCBCCACBDACDCDADCE   \n",
       "24  EACEEDBCAADDCBEBAECADBEECEDCACCEABAADBEACEACB   \n",
       "\n",
       "                                   TX_GABARITO_CN  \\\n",
       "1   DABCEDEBEEBBCABEDDCBCBECDADCDAACBDCCCDBBBEBAB   \n",
       "4   DABCEDEBEEBBCABEDDCBCBECDADCDAACBDCCCDBBBEBAB   \n",
       "18  DABCEDEBEEBBCABEDDCBCBECDADCDAACBDCCCDBBBEBAB   \n",
       "21  DABCEDEBEEBBCABEDDCBCBECDADCDAACBDCCCDBBBEBAB   \n",
       "24  DABCEDEBEEBBCABEDDCBCBECDADCDAACBDCCCDBBBEBAB   \n",
       "\n",
       "                                   TX_GABARITO_CH  \\\n",
       "1   EBAAEADBCACBBABEECBAAEEBBBADCBADBCEDDEBBCAEAB   \n",
       "4   EBAAEADBCACBBABEECBAAEEBBBADCBADBCEDDEBBCAEAB   \n",
       "18  EBAAEADBCACBBABEECBAAEEBBBADCBADBCEDDEBBCAEAB   \n",
       "21  EBAAEADBCACBBABEECBAAEEBBBADCBADBCEDDEBBCAEAB   \n",
       "24  EBAAEADBCACBBABEECBAAEEBBBADCBADBCEDDEBBCAEAB   \n",
       "\n",
       "                                       TX_GABARITO_LC  ... Q011 Q012 Q013  \\\n",
       "1   ACABBACAEADCEADABDACDCEABDDADBEDDDEBBACCDDDCCE...  ...    A    B    A   \n",
       "4   ACABBACAEADCEADABDACDCEABDDADBEDDDEBBACCDDDCCE...  ...    A    B    A   \n",
       "18  ACABBACAEADCEADABDACDCEABDDADBEDDDEBBACCDDDCCE...  ...    B    B    A   \n",
       "21  ACABBACAEADCEADABDACDCEABDDADBEDDDEBBACCDDDCCE...  ...    A    B    A   \n",
       "24  ACABBACAEADCEADABDACDCEABDDADBEDDDEBBACCDDDCCE...  ...    B    B    A   \n",
       "\n",
       "    Q014 Q015 Q016 Q017 Q019 Q022 Q024  \n",
       "1      A    A    A    A    B    C    A  \n",
       "4      B    A    B    A    B    E    B  \n",
       "18     A    A    A    A    B    C    A  \n",
       "21     B    B    B    A    B    B    B  \n",
       "24     A    A    A    A    B    C    A  \n",
       "\n",
       "[5 rows x 29 columns]"
      ]
     },
     "execution_count": 12,
     "metadata": {},
     "output_type": "execute_result"
    }
   ],
   "source": [
    "data.head(5)"
   ]
  },
  {
   "cell_type": "markdown",
   "id": "bdf547ee",
   "metadata": {},
   "source": [
    "## Tratando tipo de dados"
   ]
  },
  {
   "cell_type": "markdown",
   "id": "c6f6f216",
   "metadata": {},
   "source": [
    "Vamos dar uma olhada nos tipos de dados"
   ]
  },
  {
   "cell_type": "code",
   "execution_count": 13,
   "id": "1ec48a18",
   "metadata": {
    "scrolled": true
   },
   "outputs": [
    {
     "data": {
      "text/plain": [
       "NU_INSCRICAO         int64\n",
       "TP_FAIXA_ETARIA      int64\n",
       "TP_SEXO             object\n",
       "TX_RESPOSTAS_CN     object\n",
       "TX_RESPOSTAS_CH     object\n",
       "TX_RESPOSTAS_LC     object\n",
       "TX_RESPOSTAS_MT     object\n",
       "TX_GABARITO_CN      object\n",
       "TX_GABARITO_CH      object\n",
       "TX_GABARITO_LC      object\n",
       "TX_GABARITO_MT      object\n",
       "Q001                object\n",
       "Q002                object\n",
       "Q005               float64\n",
       "Q006                object\n",
       "Q007                object\n",
       "Q008                object\n",
       "Q009                object\n",
       "Q010                object\n",
       "Q011                object\n",
       "Q012                object\n",
       "Q013                object\n",
       "Q014                object\n",
       "Q015                object\n",
       "Q016                object\n",
       "Q017                object\n",
       "Q019                object\n",
       "Q022                object\n",
       "Q024                object\n",
       "dtype: object"
      ]
     },
     "execution_count": 13,
     "metadata": {},
     "output_type": "execute_result"
    }
   ],
   "source": [
    "data.dtypes"
   ]
  },
  {
   "cell_type": "markdown",
   "id": "266a1dab",
   "metadata": {},
   "source": [
    "Todos os tipos `object` são na verdade `strings`. Vamos mudar isso."
   ]
  },
  {
   "cell_type": "code",
   "execution_count": 14,
   "id": "8759095b",
   "metadata": {},
   "outputs": [],
   "source": [
    "# Mudando tipo de argumento\n",
    "data_right_types = data.copy()\n",
    "colunas_string = ['TP_SEXO',\n",
    "                  'TX_RESPOSTAS_CN', 'TX_RESPOSTAS_CH', 'TX_RESPOSTAS_LC', 'TX_RESPOSTAS_MT',\n",
    "                  'TX_GABARITO_CN', 'TX_GABARITO_CH', 'TX_GABARITO_LC', 'TX_GABARITO_MT',\n",
    "                  'Q001', 'Q002', 'Q006', 'Q007', 'Q008', 'Q009', 'Q010', 'Q011', 'Q012', \n",
    "                  'Q013','Q014', 'Q015', 'Q016', 'Q017', 'Q019', 'Q022', 'Q024'\n",
    "                 ]\n",
    "for col in colunas_string:\n",
    "    data_right_types[col] = data[col].astype('string')"
   ]
  },
  {
   "cell_type": "code",
   "execution_count": 15,
   "id": "de720fad",
   "metadata": {},
   "outputs": [
    {
     "data": {
      "text/plain": [
       "NU_INSCRICAO         int64\n",
       "TP_FAIXA_ETARIA      int64\n",
       "TP_SEXO             string\n",
       "TX_RESPOSTAS_CN     string\n",
       "TX_RESPOSTAS_CH     string\n",
       "TX_RESPOSTAS_LC     string\n",
       "TX_RESPOSTAS_MT     string\n",
       "TX_GABARITO_CN      string\n",
       "TX_GABARITO_CH      string\n",
       "TX_GABARITO_LC      string\n",
       "TX_GABARITO_MT      string\n",
       "Q001                string\n",
       "Q002                string\n",
       "Q005               float64\n",
       "Q006                string\n",
       "Q007                string\n",
       "Q008                string\n",
       "Q009                string\n",
       "Q010                string\n",
       "Q011                string\n",
       "Q012                string\n",
       "Q013                string\n",
       "Q014                string\n",
       "Q015                string\n",
       "Q016                string\n",
       "Q017                string\n",
       "Q019                string\n",
       "Q022                string\n",
       "Q024                string\n",
       "dtype: object"
      ]
     },
     "execution_count": 15,
     "metadata": {},
     "output_type": "execute_result"
    }
   ],
   "source": [
    "data_right_types.dtypes"
   ]
  },
  {
   "cell_type": "markdown",
   "id": "c2d2fbde",
   "metadata": {},
   "source": [
    "# Tratamento de Dados"
   ]
  },
  {
   "cell_type": "markdown",
   "id": "12f36a0c",
   "metadata": {},
   "source": [
    "## 1. Retirando respostas para parte de Línguas Estrangeiras"
   ]
  },
  {
   "cell_type": "markdown",
   "id": "5b5555e9",
   "metadata": {},
   "source": [
    "Uma coisa estranha nesse conjunto de dados é a coluna 'TX_RESPOSTAS_LC'. Veja que os candidatos possuem uma série de '9's ou nas primeiras 5 questões ou nas 5 seguintes. Isso ocorre pois a prova de Linguagens e Códigos possuem 5 questões a respeito de uma língua estrangeira à escolha dos candidatos, logo existem questões que eles não precisam responder (asssinaladas com 9).\n",
    "\n",
    "Para normalizar os dados, escolheu-se remover essas 10 primeiras questões."
   ]
  },
  {
   "cell_type": "code",
   "execution_count": 16,
   "id": "93b826a3",
   "metadata": {},
   "outputs": [],
   "source": [
    "data_right_types['TX_RESPOSTAS_LC'] = data_right_types['TX_RESPOSTAS_LC'].str[10:]\n",
    "data_right_types['TX_GABARITO_LC'] = data_right_types['TX_GABARITO_LC'].str[10:]"
   ]
  },
  {
   "cell_type": "code",
   "execution_count": 17,
   "id": "effd9862",
   "metadata": {},
   "outputs": [
    {
     "data": {
      "text/plain": [
       "(40, 40)"
      ]
     },
     "execution_count": 17,
     "metadata": {},
     "output_type": "execute_result"
    }
   ],
   "source": [
    "len(data_right_types['TX_RESPOSTAS_LC'].iloc[0]), len(data_right_types['TX_GABARITO_LC'].iloc[0])"
   ]
  },
  {
   "cell_type": "markdown",
   "id": "88ecef68",
   "metadata": {},
   "source": [
    "Também vamos juntar as colunas de respostas e gabarito para facilitar a visualização"
   ]
  },
  {
   "cell_type": "code",
   "execution_count": 18,
   "id": "ba61fc0c",
   "metadata": {},
   "outputs": [],
   "source": [
    "data_right_types['Gabarito'] = (data_right_types['TX_RESPOSTAS_LC'] + \n",
    "                                data_right_types['TX_RESPOSTAS_CH'] + \n",
    "                                data_right_types['TX_RESPOSTAS_CN'] + \n",
    "                                data_right_types['TX_RESPOSTAS_MT'])"
   ]
  },
  {
   "cell_type": "code",
   "execution_count": 19,
   "id": "a02d9662",
   "metadata": {},
   "outputs": [],
   "source": [
    "data_right_types['Gabarito Oficial'] = (data_right_types['TX_GABARITO_LC'] + \n",
    "                                        data_right_types['TX_GABARITO_CH'] + \n",
    "                                        data_right_types['TX_GABARITO_CN'] + \n",
    "                                        data_right_types['TX_GABARITO_MT'])"
   ]
  },
  {
   "cell_type": "markdown",
   "id": "96b3fd12",
   "metadata": {},
   "source": [
    "Não usamos mais os tipos de prova. Vamos dropar essas colunas."
   ]
  },
  {
   "cell_type": "code",
   "execution_count": 20,
   "id": "c6fcf50a",
   "metadata": {},
   "outputs": [],
   "source": [
    "data_right_types = data_right_types.drop(columns = ['TX_RESPOSTAS_CN', 'TX_RESPOSTAS_CH', \n",
    "                                                    'TX_RESPOSTAS_LC', 'TX_RESPOSTAS_MT', \n",
    "                                                    'TX_GABARITO_CN', 'TX_GABARITO_MT', \n",
    "                                                    'TX_GABARITO_CH', 'TX_GABARITO_LC'])"
   ]
  },
  {
   "cell_type": "code",
   "execution_count": 21,
   "id": "e7a4d45f",
   "metadata": {},
   "outputs": [
    {
     "data": {
      "text/html": [
       "<div>\n",
       "<style scoped>\n",
       "    .dataframe tbody tr th:only-of-type {\n",
       "        vertical-align: middle;\n",
       "    }\n",
       "\n",
       "    .dataframe tbody tr th {\n",
       "        vertical-align: top;\n",
       "    }\n",
       "\n",
       "    .dataframe thead th {\n",
       "        text-align: right;\n",
       "    }\n",
       "</style>\n",
       "<table border=\"1\" class=\"dataframe\">\n",
       "  <thead>\n",
       "    <tr style=\"text-align: right;\">\n",
       "      <th></th>\n",
       "      <th>NU_INSCRICAO</th>\n",
       "      <th>TP_FAIXA_ETARIA</th>\n",
       "      <th>TP_SEXO</th>\n",
       "      <th>Q001</th>\n",
       "      <th>Q002</th>\n",
       "      <th>Q005</th>\n",
       "      <th>Q006</th>\n",
       "      <th>Q007</th>\n",
       "      <th>Q008</th>\n",
       "      <th>Q009</th>\n",
       "      <th>...</th>\n",
       "      <th>Q013</th>\n",
       "      <th>Q014</th>\n",
       "      <th>Q015</th>\n",
       "      <th>Q016</th>\n",
       "      <th>Q017</th>\n",
       "      <th>Q019</th>\n",
       "      <th>Q022</th>\n",
       "      <th>Q024</th>\n",
       "      <th>Gabarito</th>\n",
       "      <th>Gabarito Oficial</th>\n",
       "    </tr>\n",
       "  </thead>\n",
       "  <tbody>\n",
       "    <tr>\n",
       "      <th>1</th>\n",
       "      <td>210052384164</td>\n",
       "      <td>12</td>\n",
       "      <td>M</td>\n",
       "      <td>B</td>\n",
       "      <td>B</td>\n",
       "      <td>3.0</td>\n",
       "      <td>B</td>\n",
       "      <td>A</td>\n",
       "      <td>B</td>\n",
       "      <td>C</td>\n",
       "      <td>...</td>\n",
       "      <td>A</td>\n",
       "      <td>A</td>\n",
       "      <td>A</td>\n",
       "      <td>A</td>\n",
       "      <td>A</td>\n",
       "      <td>B</td>\n",
       "      <td>C</td>\n",
       "      <td>A</td>\n",
       "      <td>EEBACDABACBECBBCDBDEBDDCCCDECCDDCCCCDBCEECCDAA...</td>\n",
       "      <td>DCEADABDACDCEABDDADBEDDDEBBACCDDDCCEBBBBEBAAEA...</td>\n",
       "    </tr>\n",
       "    <tr>\n",
       "      <th>4</th>\n",
       "      <td>210051353021</td>\n",
       "      <td>2</td>\n",
       "      <td>F</td>\n",
       "      <td>D</td>\n",
       "      <td>E</td>\n",
       "      <td>4.0</td>\n",
       "      <td>C</td>\n",
       "      <td>A</td>\n",
       "      <td>B</td>\n",
       "      <td>C</td>\n",
       "      <td>...</td>\n",
       "      <td>A</td>\n",
       "      <td>B</td>\n",
       "      <td>A</td>\n",
       "      <td>B</td>\n",
       "      <td>A</td>\n",
       "      <td>B</td>\n",
       "      <td>E</td>\n",
       "      <td>B</td>\n",
       "      <td>DCBECCABADBEDADCDADDCDDECABAADEBBDACBCEECAE.AC...</td>\n",
       "      <td>DCEADABDACDCEABDDADBEDDDEBBACCDDDCCEBBBBEBAAEA...</td>\n",
       "    </tr>\n",
       "    <tr>\n",
       "      <th>18</th>\n",
       "      <td>210054206376</td>\n",
       "      <td>2</td>\n",
       "      <td>F</td>\n",
       "      <td>B</td>\n",
       "      <td>B</td>\n",
       "      <td>4.0</td>\n",
       "      <td>B</td>\n",
       "      <td>A</td>\n",
       "      <td>B</td>\n",
       "      <td>C</td>\n",
       "      <td>...</td>\n",
       "      <td>A</td>\n",
       "      <td>A</td>\n",
       "      <td>A</td>\n",
       "      <td>A</td>\n",
       "      <td>A</td>\n",
       "      <td>B</td>\n",
       "      <td>C</td>\n",
       "      <td>A</td>\n",
       "      <td>EEBAECBDAABACABCBAADABBDABBAADDCDAABBCDADEECEC...</td>\n",
       "      <td>DCEADABDACDCEABDDADBEDDDEBBACCDDDCCEBBBBEBAAEA...</td>\n",
       "    </tr>\n",
       "    <tr>\n",
       "      <th>21</th>\n",
       "      <td>210052118573</td>\n",
       "      <td>3</td>\n",
       "      <td>F</td>\n",
       "      <td>B</td>\n",
       "      <td>F</td>\n",
       "      <td>3.0</td>\n",
       "      <td>G</td>\n",
       "      <td>A</td>\n",
       "      <td>B</td>\n",
       "      <td>C</td>\n",
       "      <td>...</td>\n",
       "      <td>A</td>\n",
       "      <td>B</td>\n",
       "      <td>B</td>\n",
       "      <td>B</td>\n",
       "      <td>A</td>\n",
       "      <td>B</td>\n",
       "      <td>B</td>\n",
       "      <td>B</td>\n",
       "      <td>DDAAEBBDCDBBAABDECAADAEACCDABCEABABEABEAAAEADC...</td>\n",
       "      <td>DCEADABDACDCEABDDADBEDDDEBBACCDDDCCEBBBBEBAAEA...</td>\n",
       "    </tr>\n",
       "    <tr>\n",
       "      <th>24</th>\n",
       "      <td>210052019575</td>\n",
       "      <td>1</td>\n",
       "      <td>F</td>\n",
       "      <td>H</td>\n",
       "      <td>E</td>\n",
       "      <td>4.0</td>\n",
       "      <td>C</td>\n",
       "      <td>A</td>\n",
       "      <td>B</td>\n",
       "      <td>B</td>\n",
       "      <td>...</td>\n",
       "      <td>A</td>\n",
       "      <td>A</td>\n",
       "      <td>A</td>\n",
       "      <td>A</td>\n",
       "      <td>A</td>\n",
       "      <td>B</td>\n",
       "      <td>C</td>\n",
       "      <td>A</td>\n",
       "      <td>DABCBBBDADABEDCBEADEDBBCDDEBBCADECAECBDABADBEC...</td>\n",
       "      <td>DCEADABDACDCEABDDADBEDDDEBBACCDDDCCEBBBBEBAAEA...</td>\n",
       "    </tr>\n",
       "  </tbody>\n",
       "</table>\n",
       "<p>5 rows × 23 columns</p>\n",
       "</div>"
      ],
      "text/plain": [
       "    NU_INSCRICAO  TP_FAIXA_ETARIA TP_SEXO Q001 Q002  Q005 Q006 Q007 Q008 Q009  \\\n",
       "1   210052384164               12       M    B    B   3.0    B    A    B    C   \n",
       "4   210051353021                2       F    D    E   4.0    C    A    B    C   \n",
       "18  210054206376                2       F    B    B   4.0    B    A    B    C   \n",
       "21  210052118573                3       F    B    F   3.0    G    A    B    C   \n",
       "24  210052019575                1       F    H    E   4.0    C    A    B    B   \n",
       "\n",
       "    ... Q013 Q014 Q015 Q016 Q017 Q019 Q022 Q024  \\\n",
       "1   ...    A    A    A    A    A    B    C    A   \n",
       "4   ...    A    B    A    B    A    B    E    B   \n",
       "18  ...    A    A    A    A    A    B    C    A   \n",
       "21  ...    A    B    B    B    A    B    B    B   \n",
       "24  ...    A    A    A    A    A    B    C    A   \n",
       "\n",
       "                                             Gabarito  \\\n",
       "1   EEBACDABACBECBBCDBDEBDDCCCDECCDDCCCCDBCEECCDAA...   \n",
       "4   DCBECCABADBEDADCDADDCDDECABAADEBBDACBCEECAE.AC...   \n",
       "18  EEBAECBDAABACABCBAADABBDABBAADDCDAABBCDADEECEC...   \n",
       "21  DDAAEBBDCDBBAABDECAADAEACCDABCEABABEABEAAAEADC...   \n",
       "24  DABCBBBDADABEDCBEADEDBBCDDEBBCADECAECBDABADBEC...   \n",
       "\n",
       "                                     Gabarito Oficial  \n",
       "1   DCEADABDACDCEABDDADBEDDDEBBACCDDDCCEBBBBEBAAEA...  \n",
       "4   DCEADABDACDCEABDDADBEDDDEBBACCDDDCCEBBBBEBAAEA...  \n",
       "18  DCEADABDACDCEABDDADBEDDDEBBACCDDDCCEBBBBEBAAEA...  \n",
       "21  DCEADABDACDCEABDDADBEDDDEBBACCDDDCCEBBBBEBAAEA...  \n",
       "24  DCEADABDACDCEABDDADBEDDDEBBACCDDDCCEBBBBEBAAEA...  \n",
       "\n",
       "[5 rows x 23 columns]"
      ]
     },
     "execution_count": 21,
     "metadata": {},
     "output_type": "execute_result"
    }
   ],
   "source": [
    "data_right_types.head(5)"
   ]
  },
  {
   "cell_type": "markdown",
   "id": "ae9a2dc5",
   "metadata": {},
   "source": [
    "## 2. Tratando quantidade de pessoas na residência"
   ]
  },
  {
   "cell_type": "markdown",
   "id": "5debf2a3",
   "metadata": {},
   "source": [
    "Outra coisa interessante é a questão 5 do questionário socioeconômico. Trata-se da pergunta `Incluindo você, quantas pessoas moram atualmente em sua residência?`, o que pode ser respondido com um número entre 1 (moro sozinho) e 20 (moro com outras 19 pessoas).\n",
    "Vamos dar uma analisada na distribuição de respostas para essa pergunta."
   ]
  },
  {
   "cell_type": "code",
   "execution_count": 22,
   "id": "de99626b",
   "metadata": {},
   "outputs": [
    {
     "data": {
      "text/plain": [
       "array([[<AxesSubplot: title={'center': 'Q005'}>]], dtype=object)"
      ]
     },
     "execution_count": 22,
     "metadata": {},
     "output_type": "execute_result"
    },
    {
     "data": {
      "image/png": "[encoded data removed]",
      "text/plain": [
       "<Figure size 640x480 with 1 Axes>"
      ]
     },
     "metadata": {},
     "output_type": "display_data"
    }
   ],
   "source": [
    "data_right_types.hist(column='Q005', bins=20)"
   ]
  },
  {
   "cell_type": "markdown",
   "id": "0b6f772d",
   "metadata": {},
   "source": [
    "Optamos por agrupar a extremidade direita para facilitar análises futuras. Além disso, vamos transformar as respostas em alternativas alfabéticas para poder concatenar todas as respostas em uma só string."
   ]
  },
  {
   "cell_type": "code",
   "execution_count": 23,
   "id": "3c0d2dd2",
   "metadata": {},
   "outputs": [],
   "source": [
    "def number_to_letter(num):\n",
    "    num_int = int(num)\n",
    "    match num_int:\n",
    "        case 1:\n",
    "            return 'A'\n",
    "        case 2:\n",
    "            return 'B'\n",
    "        case 3:\n",
    "            return 'C'\n",
    "        case 4:\n",
    "            return 'D'\n",
    "        case 5:\n",
    "            return 'E'\n",
    "        case 6:\n",
    "            return 'F'\n",
    "        case _:\n",
    "            return 'E'"
   ]
  },
  {
   "cell_type": "code",
   "execution_count": 24,
   "id": "6a7b96dc",
   "metadata": {},
   "outputs": [],
   "source": [
    "data_right_types['Q005_str'] = data_right_types['Q005'].apply(number_to_letter)"
   ]
  },
  {
   "cell_type": "code",
   "execution_count": 25,
   "id": "ca8bd10b",
   "metadata": {},
   "outputs": [],
   "source": [
    "# Também temos que mudar o tipo de dado do Q005_str pra string\n",
    "data_right_types['Q005_str'] = data_right_types['Q005_str'].astype('string')"
   ]
  },
  {
   "cell_type": "markdown",
   "id": "c31c2a77",
   "metadata": {},
   "source": [
    "## 3. Tratando Salário da Família"
   ]
  },
  {
   "cell_type": "markdown",
   "id": "12b83705",
   "metadata": {},
   "source": [
    "Uma coluna que também pode ser problemática no futuro é a `Q006`. Trata-se da pergunta `Qual é a renda mensal de sua família? (Some a sua renda com a dos seus familiares.)`. Isso pode ser problemático porque as respostas variam de A até Q, o que pode dificultar na montagem de uma das redes."
   ]
  },
  {
   "cell_type": "code",
   "execution_count": 26,
   "id": "53ed97aa",
   "metadata": {},
   "outputs": [
    {
     "data": {
      "text/plain": [
       "<AxesSubplot: >"
      ]
     },
     "execution_count": 26,
     "metadata": {},
     "output_type": "execute_result"
    },
    {
     "data": {
      "image/png": "[encoded data removed]",
      "text/plain": [
       "<Figure size 640x480 with 1 Axes>"
      ]
     },
     "metadata": {},
     "output_type": "display_data"
    }
   ],
   "source": [
    "value_counts = data_right_types['Q006'].value_counts()\n",
    "\n",
    "value_counts.plot(kind='bar')"
   ]
  },
  {
   "cell_type": "markdown",
   "id": "2d554f22",
   "metadata": {},
   "source": [
    "Como a distribuição dessa alternativa é mais bem distribuida, optamos por mantê-la desse jeito"
   ]
  },
  {
   "cell_type": "markdown",
   "id": "8bffffcb",
   "metadata": {},
   "source": [
    "Para facilitar a comparação entre as respostas socioeconômicas, também é interessante juntá-las em uma só `string`"
   ]
  },
  {
   "cell_type": "code",
   "execution_count": 27,
   "id": "d4b1cc5c",
   "metadata": {
    "scrolled": true
   },
   "outputs": [
    {
     "data": {
      "text/plain": [
       "Index(['NU_INSCRICAO', 'TP_FAIXA_ETARIA', 'TP_SEXO', 'Q001', 'Q002', 'Q005',\n",
       "       'Q006', 'Q007', 'Q008', 'Q009', 'Q010', 'Q011', 'Q012', 'Q013', 'Q014',\n",
       "       'Q015', 'Q016', 'Q017', 'Q019', 'Q022', 'Q024', 'Gabarito',\n",
       "       'Gabarito Oficial', 'Q005_str'],\n",
       "      dtype='object')"
      ]
     },
     "execution_count": 27,
     "metadata": {},
     "output_type": "execute_result"
    }
   ],
   "source": [
    "data_right_types.columns"
   ]
  },
  {
   "cell_type": "code",
   "execution_count": 28,
   "id": "03f19bfe",
   "metadata": {},
   "outputs": [],
   "source": [
    "data_right_types['Respostas Questionario'] = data_right_types['Q005_str']"
   ]
  },
  {
   "cell_type": "code",
   "execution_count": 29,
   "id": "f21c7058",
   "metadata": {},
   "outputs": [],
   "source": [
    "questoes_questionario = ['Q001', 'Q002', 'Q006', 'Q007', 'Q008', 'Q009', 'Q010', 'Q011', 'Q012', \n",
    "                         'Q013', 'Q014', 'Q015', 'Q016', 'Q017', 'Q019', 'Q022', 'Q024']"
   ]
  },
  {
   "cell_type": "code",
   "execution_count": 30,
   "id": "3354666e",
   "metadata": {
    "scrolled": true
   },
   "outputs": [],
   "source": [
    "for column in questoes_questionario:\n",
    "    data_right_types['Respostas Questionario'] = data_right_types['Respostas Questionario'] + data_right_types[column]"
   ]
  },
  {
   "cell_type": "code",
   "execution_count": 31,
   "id": "702a0110",
   "metadata": {
    "scrolled": false
   },
   "outputs": [
    {
     "data": {
      "text/html": [
       "<div>\n",
       "<style scoped>\n",
       "    .dataframe tbody tr th:only-of-type {\n",
       "        vertical-align: middle;\n",
       "    }\n",
       "\n",
       "    .dataframe tbody tr th {\n",
       "        vertical-align: top;\n",
       "    }\n",
       "\n",
       "    .dataframe thead th {\n",
       "        text-align: right;\n",
       "    }\n",
       "</style>\n",
       "<table border=\"1\" class=\"dataframe\">\n",
       "  <thead>\n",
       "    <tr style=\"text-align: right;\">\n",
       "      <th></th>\n",
       "      <th>NU_INSCRICAO</th>\n",
       "      <th>TP_FAIXA_ETARIA</th>\n",
       "      <th>TP_SEXO</th>\n",
       "      <th>Q001</th>\n",
       "      <th>Q002</th>\n",
       "      <th>Q005</th>\n",
       "      <th>Q006</th>\n",
       "      <th>Q007</th>\n",
       "      <th>Q008</th>\n",
       "      <th>Q009</th>\n",
       "      <th>...</th>\n",
       "      <th>Q015</th>\n",
       "      <th>Q016</th>\n",
       "      <th>Q017</th>\n",
       "      <th>Q019</th>\n",
       "      <th>Q022</th>\n",
       "      <th>Q024</th>\n",
       "      <th>Gabarito</th>\n",
       "      <th>Gabarito Oficial</th>\n",
       "      <th>Q005_str</th>\n",
       "      <th>Respostas Questionario</th>\n",
       "    </tr>\n",
       "  </thead>\n",
       "  <tbody>\n",
       "    <tr>\n",
       "      <th>1</th>\n",
       "      <td>210052384164</td>\n",
       "      <td>12</td>\n",
       "      <td>M</td>\n",
       "      <td>B</td>\n",
       "      <td>B</td>\n",
       "      <td>3.0</td>\n",
       "      <td>B</td>\n",
       "      <td>A</td>\n",
       "      <td>B</td>\n",
       "      <td>C</td>\n",
       "      <td>...</td>\n",
       "      <td>A</td>\n",
       "      <td>A</td>\n",
       "      <td>A</td>\n",
       "      <td>B</td>\n",
       "      <td>C</td>\n",
       "      <td>A</td>\n",
       "      <td>EEBACDABACBECBBCDBDEBDDCCCDECCDDCCCCDBCEECCDAA...</td>\n",
       "      <td>DCEADABDACDCEABDDADBEDDDEBBACCDDDCCEBBBBEBAAEA...</td>\n",
       "      <td>C</td>\n",
       "      <td>CBBBABCAABAAAAABCA</td>\n",
       "    </tr>\n",
       "    <tr>\n",
       "      <th>4</th>\n",
       "      <td>210051353021</td>\n",
       "      <td>2</td>\n",
       "      <td>F</td>\n",
       "      <td>D</td>\n",
       "      <td>E</td>\n",
       "      <td>4.0</td>\n",
       "      <td>C</td>\n",
       "      <td>A</td>\n",
       "      <td>B</td>\n",
       "      <td>C</td>\n",
       "      <td>...</td>\n",
       "      <td>A</td>\n",
       "      <td>B</td>\n",
       "      <td>A</td>\n",
       "      <td>B</td>\n",
       "      <td>E</td>\n",
       "      <td>B</td>\n",
       "      <td>DCBECCABADBEDADCDADDCDDECABAADEBBDACBCEECAE.AC...</td>\n",
       "      <td>DCEADABDACDCEABDDADBEDDDEBBACCDDDCCEBBBBEBAAEA...</td>\n",
       "      <td>D</td>\n",
       "      <td>DDECABCAABABABABEB</td>\n",
       "    </tr>\n",
       "    <tr>\n",
       "      <th>18</th>\n",
       "      <td>210054206376</td>\n",
       "      <td>2</td>\n",
       "      <td>F</td>\n",
       "      <td>B</td>\n",
       "      <td>B</td>\n",
       "      <td>4.0</td>\n",
       "      <td>B</td>\n",
       "      <td>A</td>\n",
       "      <td>B</td>\n",
       "      <td>C</td>\n",
       "      <td>...</td>\n",
       "      <td>A</td>\n",
       "      <td>A</td>\n",
       "      <td>A</td>\n",
       "      <td>B</td>\n",
       "      <td>C</td>\n",
       "      <td>A</td>\n",
       "      <td>EEBAECBDAABACABCBAADABBDABBAADDCDAABBCDADEECEC...</td>\n",
       "      <td>DCEADABDACDCEABDDADBEDDDEBBACCDDDCCEBBBBEBAAEA...</td>\n",
       "      <td>D</td>\n",
       "      <td>DBBBABCABBAAAAABCA</td>\n",
       "    </tr>\n",
       "    <tr>\n",
       "      <th>21</th>\n",
       "      <td>210052118573</td>\n",
       "      <td>3</td>\n",
       "      <td>F</td>\n",
       "      <td>B</td>\n",
       "      <td>F</td>\n",
       "      <td>3.0</td>\n",
       "      <td>G</td>\n",
       "      <td>A</td>\n",
       "      <td>B</td>\n",
       "      <td>C</td>\n",
       "      <td>...</td>\n",
       "      <td>B</td>\n",
       "      <td>B</td>\n",
       "      <td>A</td>\n",
       "      <td>B</td>\n",
       "      <td>B</td>\n",
       "      <td>B</td>\n",
       "      <td>DDAAEBBDCDBBAABDECAADAEACCDABCEABABEABEAAAEADC...</td>\n",
       "      <td>DCEADABDACDCEABDDADBEDDDEBBACCDDDCCEBBBBEBAAEA...</td>\n",
       "      <td>C</td>\n",
       "      <td>CBFGABCBABABBBABBB</td>\n",
       "    </tr>\n",
       "    <tr>\n",
       "      <th>24</th>\n",
       "      <td>210052019575</td>\n",
       "      <td>1</td>\n",
       "      <td>F</td>\n",
       "      <td>H</td>\n",
       "      <td>E</td>\n",
       "      <td>4.0</td>\n",
       "      <td>C</td>\n",
       "      <td>A</td>\n",
       "      <td>B</td>\n",
       "      <td>B</td>\n",
       "      <td>...</td>\n",
       "      <td>A</td>\n",
       "      <td>A</td>\n",
       "      <td>A</td>\n",
       "      <td>B</td>\n",
       "      <td>C</td>\n",
       "      <td>A</td>\n",
       "      <td>DABCBBBDADABEDCBEADEDBBCDDEBBCADECAECBDABADBEC...</td>\n",
       "      <td>DCEADABDACDCEABDDADBEDDDEBBACCDDDCCEBBBBEBAAEA...</td>\n",
       "      <td>D</td>\n",
       "      <td>DHECABBABBAAAAABCA</td>\n",
       "    </tr>\n",
       "  </tbody>\n",
       "</table>\n",
       "<p>5 rows × 25 columns</p>\n",
       "</div>"
      ],
      "text/plain": [
       "    NU_INSCRICAO  TP_FAIXA_ETARIA TP_SEXO Q001 Q002  Q005 Q006 Q007 Q008 Q009  \\\n",
       "1   210052384164               12       M    B    B   3.0    B    A    B    C   \n",
       "4   210051353021                2       F    D    E   4.0    C    A    B    C   \n",
       "18  210054206376                2       F    B    B   4.0    B    A    B    C   \n",
       "21  210052118573                3       F    B    F   3.0    G    A    B    C   \n",
       "24  210052019575                1       F    H    E   4.0    C    A    B    B   \n",
       "\n",
       "    ... Q015 Q016 Q017 Q019 Q022 Q024  \\\n",
       "1   ...    A    A    A    B    C    A   \n",
       "4   ...    A    B    A    B    E    B   \n",
       "18  ...    A    A    A    B    C    A   \n",
       "21  ...    B    B    A    B    B    B   \n",
       "24  ...    A    A    A    B    C    A   \n",
       "\n",
       "                                             Gabarito  \\\n",
       "1   EEBACDABACBECBBCDBDEBDDCCCDECCDDCCCCDBCEECCDAA...   \n",
       "4   DCBECCABADBEDADCDADDCDDECABAADEBBDACBCEECAE.AC...   \n",
       "18  EEBAECBDAABACABCBAADABBDABBAADDCDAABBCDADEECEC...   \n",
       "21  DDAAEBBDCDBBAABDECAADAEACCDABCEABABEABEAAAEADC...   \n",
       "24  DABCBBBDADABEDCBEADEDBBCDDEBBCADECAECBDABADBEC...   \n",
       "\n",
       "                                     Gabarito Oficial Q005_str  \\\n",
       "1   DCEADABDACDCEABDDADBEDDDEBBACCDDDCCEBBBBEBAAEA...        C   \n",
       "4   DCEADABDACDCEABDDADBEDDDEBBACCDDDCCEBBBBEBAAEA...        D   \n",
       "18  DCEADABDACDCEABDDADBEDDDEBBACCDDDCCEBBBBEBAAEA...        D   \n",
       "21  DCEADABDACDCEABDDADBEDDDEBBACCDDDCCEBBBBEBAAEA...        C   \n",
       "24  DCEADABDACDCEABDDADBEDDDEBBACCDDDCCEBBBBEBAAEA...        D   \n",
       "\n",
       "   Respostas Questionario  \n",
       "1      CBBBABCAABAAAAABCA  \n",
       "4      DDECABCAABABABABEB  \n",
       "18     DBBBABCABBAAAAABCA  \n",
       "21     CBFGABCBABABBBABBB  \n",
       "24     DHECABBABBAAAAABCA  \n",
       "\n",
       "[5 rows x 25 columns]"
      ]
     },
     "execution_count": 31,
     "metadata": {},
     "output_type": "execute_result"
    }
   ],
   "source": [
    "data_right_types.head(5)"
   ]
  },
  {
   "cell_type": "code",
   "execution_count": 32,
   "id": "486709d4",
   "metadata": {
    "scrolled": false
   },
   "outputs": [
    {
     "name": "stdout",
     "output_type": "stream",
     "text": [
      "18 17\n"
     ]
    }
   ],
   "source": [
    "print(len(data_right_types['Respostas Questionario'].iloc[0]), len(questoes_questionario))"
   ]
  },
  {
   "cell_type": "markdown",
   "id": "68e37d12",
   "metadata": {},
   "source": [
    "## Corrigindo todas as provas"
   ]
  },
  {
   "cell_type": "code",
   "execution_count": 33,
   "id": "c883e697",
   "metadata": {},
   "outputs": [
    {
     "data": {
      "text/plain": [
       "'DCEADABDACDCEABDDADBEDDDEBBACCDDDCCEBBBBEBAAEADBCACBBABEECBAAEEBBBADCBADBCEDDEBBCAEABDABCEDEBEEBBCABEDDCBCBECDADCDAACBDCCCDBBBEBABDCCAEBABDDCABEECCBCCEXADDCEECDEBADCABBDBDEDCE'"
      ]
     },
     "execution_count": 33,
     "metadata": {},
     "output_type": "execute_result"
    }
   ],
   "source": [
    "gabarito_oficial = data_right_types['Gabarito Oficial'].iloc[0]\n",
    "gabarito_oficial"
   ]
  },
  {
   "cell_type": "code",
   "execution_count": 40,
   "id": "30d27ee8",
   "metadata": {},
   "outputs": [],
   "source": [
    "def corrige_prova(respostas):\n",
    "    i = 0\n",
    "    for questao in range(len(gabarito_oficial)):\n",
    "        if gabarito_oficial[questao] == respostas[questao]:\n",
    "            i+=1\n",
    "    return i"
   ]
  },
  {
   "cell_type": "code",
   "execution_count": 45,
   "id": "066f882e",
   "metadata": {},
   "outputs": [],
   "source": [
    "data_right_types['Acertos Totias'] = data_right_types.apply(lambda x: corrige_prova(x['Gabarito']), axis=1)"
   ]
  },
  {
   "cell_type": "markdown",
   "id": "22942137",
   "metadata": {},
   "source": [
    "## 4. Separação entre questões de conhecimento específico e geral"
   ]
  },
  {
   "cell_type": "markdown",
   "id": "8c096e4c",
   "metadata": {},
   "source": [
    "Vimos manualmente quais questões de prova são de conhecimento geral e quais são de conhecimento específico (no sentido de ser necessário atender à escola para ter acesso ao conhecimento em questão). Essas informações estão dispostas em um arquivo `txt` no diretório `data`."
   ]
  },
  {
   "cell_type": "code",
   "execution_count": 47,
   "id": "5359b89d",
   "metadata": {},
   "outputs": [],
   "source": [
    "with open(DATA_DIR / 'divisao_perguntas' / 'Geral.txt') as f:\n",
    "    linhas_questao = f.readlines()"
   ]
  },
  {
   "cell_type": "markdown",
   "id": "8adb4ca6",
   "metadata": {},
   "source": [
    "Vamos dar uma olhada em como está esse documento"
   ]
  },
  {
   "cell_type": "code",
   "execution_count": 48,
   "id": "6041aada",
   "metadata": {},
   "outputs": [
    {
     "data": {
      "text/plain": [
       "['Q6: G\\n',\n",
       " 'Q7: G\\n',\n",
       " 'Q8: G \\n',\n",
       " 'Q9: G\\n',\n",
       " 'Q10: G\\n',\n",
       " 'Q11: G\\n',\n",
       " 'Q12: G\\n',\n",
       " 'Q13: G\\n',\n",
       " 'Q14: G\\n',\n",
       " 'Q15: G\\n',\n",
       " 'Q16: G \\n',\n",
       " 'Q17: G\\n',\n",
       " 'Q18: G \\n',\n",
       " 'Q19: G\\n',\n",
       " 'Q20: G \\n',\n",
       " 'Q21: E \\n',\n",
       " 'Q22: G\\n',\n",
       " 'Q23: G\\n',\n",
       " 'Q24: G\\n',\n",
       " 'Q25: G\\n',\n",
       " 'Q26: G \\n',\n",
       " 'Q27: G\\n',\n",
       " 'Q28: G\\n',\n",
       " 'Q29: E\\n',\n",
       " 'Q30: G\\n',\n",
       " 'Q31: G\\n',\n",
       " 'Q32: G\\n',\n",
       " 'Q33: G\\n',\n",
       " 'Q34: G\\n',\n",
       " 'Q35: G\\n',\n",
       " 'Q36: G\\n',\n",
       " 'Q37: G\\n',\n",
       " 'Q38: G\\n',\n",
       " 'Q39: E\\n',\n",
       " 'Q40: G\\n',\n",
       " 'Q41: E\\n',\n",
       " 'Q42: G\\n',\n",
       " 'Q43: G \\n',\n",
       " 'Q44: G \\n',\n",
       " 'Q45: G \\n',\n",
       " 'Q46: G\\n',\n",
       " 'Q47: E\\n',\n",
       " 'Q48: G\\n',\n",
       " 'Q49: G\\n',\n",
       " 'Q50: G\\n',\n",
       " 'Q51: E\\n',\n",
       " 'Q52: E\\n',\n",
       " 'Q53: G\\n',\n",
       " 'Q54: G\\n',\n",
       " 'Q55: G \\n',\n",
       " 'Q56: E\\n',\n",
       " 'Q57: G\\n',\n",
       " 'Q58: E\\n',\n",
       " 'Q59: G\\n',\n",
       " 'Q60: G\\n',\n",
       " 'Q61: G\\n',\n",
       " 'Q62: G\\n',\n",
       " 'Q63: G\\n',\n",
       " 'Q64: G\\n',\n",
       " 'Q65: G\\n',\n",
       " 'Q66: G\\n',\n",
       " 'Q67: E\\n',\n",
       " 'Q68: G\\n',\n",
       " 'Q69: E\\n',\n",
       " 'Q70: E\\n',\n",
       " 'Q71: G\\n',\n",
       " 'Q72: E\\n',\n",
       " 'Q73: E\\n',\n",
       " 'Q74: G\\n',\n",
       " 'Q75: E\\n',\n",
       " 'Q76: E\\n',\n",
       " 'Q77: G\\n',\n",
       " 'Q78: G\\n',\n",
       " 'Q79: G\\n',\n",
       " 'Q80: E\\n',\n",
       " 'Q81: E\\n',\n",
       " 'Q82: G\\n',\n",
       " 'Q83: E\\n',\n",
       " 'Q84: E\\n',\n",
       " 'Q85: E\\n',\n",
       " 'Q86: G\\n',\n",
       " 'Q87: E\\n',\n",
       " 'Q88: E\\n',\n",
       " 'Q89: E\\n',\n",
       " 'Q90: E\\n',\n",
       " 'Q91: E\\n',\n",
       " 'Q92: E\\n',\n",
       " 'Q93: E\\n',\n",
       " 'Q94: E\\n',\n",
       " 'Q95: E\\n',\n",
       " 'Q96: E\\n',\n",
       " 'Q97: E\\n',\n",
       " 'Q98: E\\n',\n",
       " 'Q99: E\\n',\n",
       " 'Q100: E\\n',\n",
       " 'Q101: E\\n',\n",
       " 'Q102: E\\n',\n",
       " 'Q103: E\\n',\n",
       " 'Q104: E\\n',\n",
       " 'Q105: E\\n',\n",
       " 'Q106: E\\n',\n",
       " 'Q107: E\\n',\n",
       " 'Q108: E\\n',\n",
       " 'Q109: E\\n',\n",
       " 'Q110: E\\n',\n",
       " 'Q111: E\\n',\n",
       " 'Q112: E\\n',\n",
       " 'Q113: E\\n',\n",
       " 'Q114: G\\n',\n",
       " 'Q115: E\\n',\n",
       " 'Q116: E\\n',\n",
       " 'Q117: E\\n',\n",
       " 'Q118: E\\n',\n",
       " 'Q119: E\\n',\n",
       " 'Q120: E\\n',\n",
       " 'Q121: E\\n',\n",
       " 'Q122: E\\n',\n",
       " 'Q123: G\\n',\n",
       " 'Q124: G\\n',\n",
       " 'Q125: E\\n',\n",
       " 'Q126: E\\n',\n",
       " 'Q127: G\\n',\n",
       " 'Q128: E\\n',\n",
       " 'Q129: E\\n',\n",
       " 'Q130: E\\n',\n",
       " 'Q131: E\\n',\n",
       " 'Q132: E\\n',\n",
       " 'Q133: E\\n',\n",
       " 'Q134: E\\n',\n",
       " 'Q135: E\\n',\n",
       " 'Q136: G\\n',\n",
       " 'Q137: G\\n',\n",
       " 'Q138: G\\n',\n",
       " 'Q139: E\\n',\n",
       " 'Q140: G\\n',\n",
       " 'Q141: G\\n',\n",
       " 'Q142: E\\n',\n",
       " 'Q143: E\\n',\n",
       " 'Q144: E\\n',\n",
       " 'Q145: E\\n',\n",
       " 'Q146: E\\n',\n",
       " 'Q147: E\\n',\n",
       " 'Q148: G\\n',\n",
       " 'Q149: E\\n',\n",
       " 'Q150: E\\n',\n",
       " 'Q151: E\\n',\n",
       " 'Q152: E\\n',\n",
       " 'Q153: E\\n',\n",
       " 'Q154: E\\n',\n",
       " 'Q155: E\\n',\n",
       " 'Q156: E\\n',\n",
       " 'Q157: E\\n',\n",
       " 'Q158: E\\n',\n",
       " 'Q159: E\\n',\n",
       " 'Q160: E\\n',\n",
       " 'Q161: E\\n',\n",
       " 'Q162: E\\n',\n",
       " 'Q163: E\\n',\n",
       " 'Q164: E\\n',\n",
       " 'Q165: E\\n',\n",
       " 'Q166: E\\n',\n",
       " 'Q167: E\\n',\n",
       " 'Q168: E\\n',\n",
       " 'Q169: E\\n',\n",
       " 'Q170: E\\n',\n",
       " 'Q171: E\\n',\n",
       " 'Q172: E\\n',\n",
       " 'Q173: E\\n',\n",
       " 'Q174: E\\n',\n",
       " 'Q175: E\\n',\n",
       " 'Q176: E\\n',\n",
       " 'Q177: G\\n',\n",
       " 'Q178: E\\n',\n",
       " 'Q179: E\\n',\n",
       " 'Q180: E']"
      ]
     },
     "execution_count": 48,
     "metadata": {},
     "output_type": "execute_result"
    }
   ],
   "source": [
    "linhas_questao"
   ]
  },
  {
   "cell_type": "markdown",
   "id": "c49aeea5",
   "metadata": {},
   "source": [
    "A ideia é abrigar o índice das questões em listas de seus respectivos tipos. Felizmente na hora de concatenar as respostas já levamos em conta a ordem original da prova rosa (LC > CH > CN > MT), então poderemos reutilizar esses índices."
   ]
  },
  {
   "cell_type": "code",
   "execution_count": 49,
   "id": "31d0b10c",
   "metadata": {
    "scrolled": true
   },
   "outputs": [
    {
     "name": "stdout",
     "output_type": "stream",
     "text": [
      "175\n"
     ]
    }
   ],
   "source": [
    "# Verificando se olhamos todas as questões\n",
    "print(len(linhas_questao))"
   ]
  },
  {
   "cell_type": "code",
   "execution_count": 50,
   "id": "5116f4de",
   "metadata": {},
   "outputs": [],
   "source": [
    "questoes_gerais = list()\n",
    "questoes_especificas = list()\n",
    "for n, linha in enumerate(linhas_questao):\n",
    "    if 'G' in linha:\n",
    "        questoes_gerais.append(n)\n",
    "    elif 'E' in linha:\n",
    "        questoes_especificas.append(n)"
   ]
  },
  {
   "cell_type": "code",
   "execution_count": 51,
   "id": "a1afd7f4",
   "metadata": {},
   "outputs": [
    {
     "data": {
      "text/plain": [
       "[0, 1, 2, 3, 4, 5, 6, 7, 8, 9]"
      ]
     },
     "execution_count": 51,
     "metadata": {},
     "output_type": "execute_result"
    }
   ],
   "source": [
    "questoes_gerais[:10]"
   ]
  },
  {
   "cell_type": "code",
   "execution_count": 52,
   "id": "72a2eef5",
   "metadata": {},
   "outputs": [],
   "source": [
    "data_right_types['Questoes Especificas'] = data_right_types['Gabarito'].apply(lambda resposta: ''.join([resposta[i] for i in questoes_especificas]))\n",
    "data_right_types['Questoes Gerais'] = data_right_types['Gabarito'].apply(lambda resposta: ''.join([resposta[i] for i in questoes_gerais]))"
   ]
  },
  {
   "cell_type": "code",
   "execution_count": 53,
   "id": "f04e03d5",
   "metadata": {},
   "outputs": [],
   "source": [
    "data_right_types['Gabarito Especificas'] = data_right_types['Gabarito Oficial'].apply(lambda resposta: ''.join([resposta[i] for i in questoes_especificas]))\n",
    "data_right_types['Gabarito Gerais'] = data_right_types['Gabarito Oficial'].apply(lambda resposta: ''.join([resposta[i] for i in questoes_gerais]))"
   ]
  },
  {
   "cell_type": "code",
   "execution_count": 54,
   "id": "c4477ca3",
   "metadata": {},
   "outputs": [
    {
     "data": {
      "text/plain": [
       "(71, 104)"
      ]
     },
     "execution_count": 54,
     "metadata": {},
     "output_type": "execute_result"
    }
   ],
   "source": [
    "len(data_right_types['Questoes Gerais'].iloc[0]), len(data_right_types['Questoes Especificas'].iloc[0])"
   ]
  },
  {
   "cell_type": "code",
   "execution_count": 55,
   "id": "fdd20025",
   "metadata": {},
   "outputs": [
    {
     "data": {
      "text/plain": [
       "(71, 104)"
      ]
     },
     "execution_count": 55,
     "metadata": {},
     "output_type": "execute_result"
    }
   ],
   "source": [
    "len(data_right_types['Gabarito Gerais'].iloc[0]), len(data_right_types['Gabarito Especificas'].iloc[0])"
   ]
  },
  {
   "cell_type": "markdown",
   "id": "9742ce87",
   "metadata": {},
   "source": [
    "## 5. Pegando número de acertos em cada número de prova"
   ]
  },
  {
   "cell_type": "code",
   "execution_count": 56,
   "id": "23ba8d10",
   "metadata": {},
   "outputs": [],
   "source": [
    "data_right_types['Acertos Gerais'] = np.nan\n",
    "data_right_types['Acertos Especificas'] = np.nan"
   ]
  },
  {
   "cell_type": "code",
   "execution_count": 57,
   "id": "a4b93654",
   "metadata": {},
   "outputs": [],
   "source": [
    "gabarito_especificas = data_right_types['Gabarito Especificas'].iloc[0]\n",
    "gabarito_gerais = data_right_types['Gabarito Gerais'].iloc[0]"
   ]
  },
  {
   "cell_type": "code",
   "execution_count": 58,
   "id": "78a9ffc9",
   "metadata": {
    "scrolled": true
   },
   "outputs": [
    {
     "data": {
      "text/plain": [
       "'DDCEBADCBEBBADBAEDEBBAEABDABCEDEBEEBBCABEDDCBCBEDADCDAACCCDBBBEBABAABDDCAEECCBCCEXADDCEECDEBADCABBDBDDCE'"
      ]
     },
     "execution_count": 58,
     "metadata": {},
     "output_type": "execute_result"
    }
   ],
   "source": [
    "gabarito_especificas"
   ]
  },
  {
   "cell_type": "code",
   "execution_count": 59,
   "id": "d6c9cc36",
   "metadata": {},
   "outputs": [],
   "source": [
    "sampled_data = data_right_types.sample(1500)"
   ]
  },
  {
   "cell_type": "code",
   "execution_count": 60,
   "id": "3c79f6dc",
   "metadata": {
    "scrolled": true
   },
   "outputs": [
    {
     "name": "stderr",
     "output_type": "stream",
     "text": [
      "/tmp/ipykernel_348/2134128971.py:10: SettingWithCopyWarning: \n",
      "A value is trying to be set on a copy of a slice from a DataFrame\n",
      "\n",
      "See the caveats in the documentation: https://pandas.pydata.org/pandas-docs/stable/user_guide/indexing.html#returning-a-view-versus-a-copy\n",
      "  sampled_data['Acertos Gerais'].iloc[n_candidato] = n_acertos_gerais\n",
      "/tmp/ipykernel_348/2134128971.py:11: SettingWithCopyWarning: \n",
      "A value is trying to be set on a copy of a slice from a DataFrame\n",
      "\n",
      "See the caveats in the documentation: https://pandas.pydata.org/pandas-docs/stable/user_guide/indexing.html#returning-a-view-versus-a-copy\n",
      "  sampled_data['Acertos Especificas'].iloc[n_candidato] = n_acertos_esp\n"
     ]
    }
   ],
   "source": [
    "for n_candidato in range(len(sampled_data)):\n",
    "    n_acertos_esp = 0\n",
    "    n_acertos_gerais = 0\n",
    "    for n_questao in range(len(gabarito_especificas)):\n",
    "        if gabarito_especificas[n_questao] == sampled_data['Questoes Especificas'].iloc[n_candidato][n_questao]:\n",
    "            n_acertos_esp += 1\n",
    "    for n_questao in range(len(gabarito_gerais)):\n",
    "        if gabarito_gerais[n_questao] == sampled_data['Questoes Gerais'].iloc[n_candidato][n_questao]:\n",
    "            n_acertos_gerais += 1\n",
    "    sampled_data['Acertos Gerais'].iloc[n_candidato] = n_acertos_gerais\n",
    "    sampled_data['Acertos Especificas'].iloc[n_candidato] = n_acertos_esp\n",
    "    "
   ]
  },
  {
   "cell_type": "code",
   "execution_count": 61,
   "id": "09a3d583",
   "metadata": {
    "scrolled": true
   },
   "outputs": [
    {
     "data": {
      "text/html": [
       "<div>\n",
       "<style scoped>\n",
       "    .dataframe tbody tr th:only-of-type {\n",
       "        vertical-align: middle;\n",
       "    }\n",
       "\n",
       "    .dataframe tbody tr th {\n",
       "        vertical-align: top;\n",
       "    }\n",
       "\n",
       "    .dataframe thead th {\n",
       "        text-align: right;\n",
       "    }\n",
       "</style>\n",
       "<table border=\"1\" class=\"dataframe\">\n",
       "  <thead>\n",
       "    <tr style=\"text-align: right;\">\n",
       "      <th></th>\n",
       "      <th>NU_INSCRICAO</th>\n",
       "      <th>TP_FAIXA_ETARIA</th>\n",
       "      <th>TP_SEXO</th>\n",
       "      <th>Q001</th>\n",
       "      <th>Q002</th>\n",
       "      <th>Q005</th>\n",
       "      <th>Q006</th>\n",
       "      <th>Q007</th>\n",
       "      <th>Q008</th>\n",
       "      <th>Q009</th>\n",
       "      <th>...</th>\n",
       "      <th>Gabarito Oficial</th>\n",
       "      <th>Q005_str</th>\n",
       "      <th>Respostas Questionario</th>\n",
       "      <th>Acertos Totias</th>\n",
       "      <th>Questoes Especificas</th>\n",
       "      <th>Questoes Gerais</th>\n",
       "      <th>Gabarito Especificas</th>\n",
       "      <th>Gabarito Gerais</th>\n",
       "      <th>Acertos Gerais</th>\n",
       "      <th>Acertos Especificas</th>\n",
       "    </tr>\n",
       "  </thead>\n",
       "  <tbody>\n",
       "    <tr>\n",
       "      <th>1336671</th>\n",
       "      <td>210053301118</td>\n",
       "      <td>2</td>\n",
       "      <td>F</td>\n",
       "      <td>E</td>\n",
       "      <td>E</td>\n",
       "      <td>3.0</td>\n",
       "      <td>D</td>\n",
       "      <td>A</td>\n",
       "      <td>C</td>\n",
       "      <td>D</td>\n",
       "      <td>...</td>\n",
       "      <td>DCEADABDACDCEABDDADBEDDDEBBACCDDDCCEBBBBEBAAEA...</td>\n",
       "      <td>C</td>\n",
       "      <td>CEEDACDAABABABABDB</td>\n",
       "      <td>70</td>\n",
       "      <td>CCADAABDBCDCBDDAEBEBBABCADACCBBEBEBEAABBEDECAC...</td>\n",
       "      <td>EADBECADDEDBEBBCAABADADCDABCDBCCBBDEECAADCABEB...</td>\n",
       "      <td>DDCEBADCBEBBADBAEDEBBAEABDABCEDEBEEBBCABEDDCBC...</td>\n",
       "      <td>DCEADABDACDCEABDADBEDDEBBACCDDDCBBBBEAAEBCABAB...</td>\n",
       "      <td>32.0</td>\n",
       "      <td>38.0</td>\n",
       "    </tr>\n",
       "    <tr>\n",
       "      <th>569900</th>\n",
       "      <td>210053182266</td>\n",
       "      <td>11</td>\n",
       "      <td>F</td>\n",
       "      <td>H</td>\n",
       "      <td>E</td>\n",
       "      <td>1.0</td>\n",
       "      <td>A</td>\n",
       "      <td>A</td>\n",
       "      <td>B</td>\n",
       "      <td>C</td>\n",
       "      <td>...</td>\n",
       "      <td>DCEADABDACDCEABDDADBEDDDEBBACCDDDCCEBBBBEBAAEA...</td>\n",
       "      <td>A</td>\n",
       "      <td>AHEAABCAABAAAAABBA</td>\n",
       "      <td>41</td>\n",
       "      <td>BAACADCCAABABDDBAD..BEAAEDAADEBBCEC*B*DBDABCAA...</td>\n",
       "      <td>EBCAAABACABAEAECBBCBABDCBDADBDEEEBBDBAD.EDADAC...</td>\n",
       "      <td>DDCEBADCBEBBADBAEDEBBAEABDABCEDEBEEBBCABEDDCBC...</td>\n",
       "      <td>DCEADABDACDCEABDADBEDDEBBACCDDDCBBBBEAAEBCABAB...</td>\n",
       "      <td>16.0</td>\n",
       "      <td>25.0</td>\n",
       "    </tr>\n",
       "    <tr>\n",
       "      <th>2580388</th>\n",
       "      <td>210052805249</td>\n",
       "      <td>5</td>\n",
       "      <td>F</td>\n",
       "      <td>B</td>\n",
       "      <td>E</td>\n",
       "      <td>8.0</td>\n",
       "      <td>C</td>\n",
       "      <td>A</td>\n",
       "      <td>B</td>\n",
       "      <td>C</td>\n",
       "      <td>...</td>\n",
       "      <td>DCEADABDACDCEABDDADBEDDDEBBACCDDDCCEBBBBEBAAEA...</td>\n",
       "      <td>E</td>\n",
       "      <td>EBECABCAABBBABABCB</td>\n",
       "      <td>29</td>\n",
       "      <td>BEDCBCCCDADADADABBAAECADDEADDDACADDEBBEEDCBDAC...</td>\n",
       "      <td>DBDEBDBBDABEDAACEACEDBCEAADEDDEADCDADEEEACABBE...</td>\n",
       "      <td>DDCEBADCBEBBADBAEDEBBAEABDABCEDEBEEBBCABEDDCBC...</td>\n",
       "      <td>DCEADABDACDCEABDADBEDDEBBACCDDDCBBBBEAAEBCABAB...</td>\n",
       "      <td>15.0</td>\n",
       "      <td>14.0</td>\n",
       "    </tr>\n",
       "    <tr>\n",
       "      <th>712484</th>\n",
       "      <td>210052690160</td>\n",
       "      <td>4</td>\n",
       "      <td>F</td>\n",
       "      <td>D</td>\n",
       "      <td>E</td>\n",
       "      <td>4.0</td>\n",
       "      <td>B</td>\n",
       "      <td>A</td>\n",
       "      <td>B</td>\n",
       "      <td>D</td>\n",
       "      <td>...</td>\n",
       "      <td>DCEADABDACDCEABDDADBEDDDEBBACCDDDCCEBBBBEBAAEA...</td>\n",
       "      <td>D</td>\n",
       "      <td>DDEBABDBABBBABAADA</td>\n",
       "      <td>76</td>\n",
       "      <td>DCAEAACEBADBBDCBBAABBEECBDCEABADBECDCBBBEADCAC...</td>\n",
       "      <td>DEBADCBDABDCEABEADDDDBDBBACCDCCEBBDAEEBABEABAB...</td>\n",
       "      <td>DDCEBADCBEBBADBAEDEBBAEABDABCEDEBEEBBCABEDDCBC...</td>\n",
       "      <td>DCEADABDACDCEABDADBEDDEBBACCDDDCBBBBEAAEBCABAB...</td>\n",
       "      <td>43.0</td>\n",
       "      <td>33.0</td>\n",
       "    </tr>\n",
       "    <tr>\n",
       "      <th>943620</th>\n",
       "      <td>210054349672</td>\n",
       "      <td>2</td>\n",
       "      <td>M</td>\n",
       "      <td>G</td>\n",
       "      <td>G</td>\n",
       "      <td>4.0</td>\n",
       "      <td>Q</td>\n",
       "      <td>C</td>\n",
       "      <td>E</td>\n",
       "      <td>D</td>\n",
       "      <td>...</td>\n",
       "      <td>DCEADABDACDCEABDDADBEDDDEBBACCDDDCCEBBBBEBAAEA...</td>\n",
       "      <td>D</td>\n",
       "      <td>DGGQCEDCABBBBBBDEE</td>\n",
       "      <td>118</td>\n",
       "      <td>ADC.BACABEBBADEAEDEBBAEABDABABDECEEBEDABEDBCBC...</td>\n",
       "      <td>DABADCBDACCCEABDAEC.DDECBDACECD.CBCAEAAEBCABAB...</td>\n",
       "      <td>DDCEBADCBEBBADBAEDEBBAEABDABCEDEBEEBBCABEDDCBC...</td>\n",
       "      <td>DCEADABDACDCEABDADBEDDEBBACCDDDCBBBBEAAEBCABAB...</td>\n",
       "      <td>48.0</td>\n",
       "      <td>70.0</td>\n",
       "    </tr>\n",
       "    <tr>\n",
       "      <th>2722694</th>\n",
       "      <td>210054198196</td>\n",
       "      <td>3</td>\n",
       "      <td>F</td>\n",
       "      <td>B</td>\n",
       "      <td>B</td>\n",
       "      <td>6.0</td>\n",
       "      <td>B</td>\n",
       "      <td>A</td>\n",
       "      <td>B</td>\n",
       "      <td>C</td>\n",
       "      <td>...</td>\n",
       "      <td>DCEADABDACDCEABDDADBEDDDEBBACCDDDCCEBBBBEBAAEA...</td>\n",
       "      <td>F</td>\n",
       "      <td>FBBBABCAABAAAAABBA</td>\n",
       "      <td>25</td>\n",
       "      <td>BCBAACBBBAADDBABDCDEEAAAADDEBABAACBECBBAEBAADC...</td>\n",
       "      <td>ABDAAABBACCDCAACBDADADBADDEEBBABAACDCEBAABAADE...</td>\n",
       "      <td>DDCEBADCBEBBADBAEDEBBAEABDABCEDEBEEBBCABEDDCBC...</td>\n",
       "      <td>DCEADABDACDCEABDADBEDDEBBACCDDDCBBBBEAAEBCABAB...</td>\n",
       "      <td>13.0</td>\n",
       "      <td>12.0</td>\n",
       "    </tr>\n",
       "    <tr>\n",
       "      <th>792972</th>\n",
       "      <td>210051412986</td>\n",
       "      <td>8</td>\n",
       "      <td>M</td>\n",
       "      <td>A</td>\n",
       "      <td>E</td>\n",
       "      <td>4.0</td>\n",
       "      <td>A</td>\n",
       "      <td>A</td>\n",
       "      <td>B</td>\n",
       "      <td>C</td>\n",
       "      <td>...</td>\n",
       "      <td>DCEADABDACDCEABDDADBEDDDEBBACCDDDCCEBBBBEBAAEA...</td>\n",
       "      <td>D</td>\n",
       "      <td>DAEAABCAAAAAAAAAAA</td>\n",
       "      <td>61</td>\n",
       "      <td>DBDEBEBADDEBEDDADECBBACADDADDEEDBEDBACCBBEDAAC...</td>\n",
       "      <td>DCDEDBABAEDABADEAEDDDAECAAECDCBCBCEAEACAAEABDB...</td>\n",
       "      <td>DDCEBADCBEBBADBAEDEBBAEABDABCEDEBEEBBCABEDDCBC...</td>\n",
       "      <td>DCEADABDACDCEABDADBEDDEBBACCDDDCBBBBEAAEBCABAB...</td>\n",
       "      <td>29.0</td>\n",
       "      <td>32.0</td>\n",
       "    </tr>\n",
       "    <tr>\n",
       "      <th>955261</th>\n",
       "      <td>210051403537</td>\n",
       "      <td>2</td>\n",
       "      <td>M</td>\n",
       "      <td>E</td>\n",
       "      <td>G</td>\n",
       "      <td>4.0</td>\n",
       "      <td>M</td>\n",
       "      <td>D</td>\n",
       "      <td>D</td>\n",
       "      <td>D</td>\n",
       "      <td>...</td>\n",
       "      <td>DCEADABDACDCEABDDADBEDDDEBBACCDDDCCEBBBBEBAAEA...</td>\n",
       "      <td>D</td>\n",
       "      <td>DEGMDDDBBBBBBAABDB</td>\n",
       "      <td>74</td>\n",
       "      <td>DDCAAAEEBBBBADDADAABECABCDABDEAEBECADBACBDDABC...</td>\n",
       "      <td>DCBADDBDEEBEAABDCBEADBDADECABEACBBEECEAECEDBEB...</td>\n",
       "      <td>DDCEBADCBEBBADBAEDEBBAEABDABCEDEBEEBBCABEDDCBC...</td>\n",
       "      <td>DCEADABDACDCEABDADBEDDEBBACCDDDCBBBBEAAEBCABAB...</td>\n",
       "      <td>29.0</td>\n",
       "      <td>45.0</td>\n",
       "    </tr>\n",
       "    <tr>\n",
       "      <th>2452878</th>\n",
       "      <td>210054184312</td>\n",
       "      <td>3</td>\n",
       "      <td>M</td>\n",
       "      <td>B</td>\n",
       "      <td>E</td>\n",
       "      <td>5.0</td>\n",
       "      <td>D</td>\n",
       "      <td>A</td>\n",
       "      <td>C</td>\n",
       "      <td>D</td>\n",
       "      <td>...</td>\n",
       "      <td>DCEADABDACDCEABDDADBEDDDEBBACCDDDCCEBBBBEBAAEA...</td>\n",
       "      <td>E</td>\n",
       "      <td>EBEDACDBBBBAAAACDB</td>\n",
       "      <td>40</td>\n",
       "      <td>BADEDBECEACBADECDECEEAEBCDACDDEBAADECDBACECEAC...</td>\n",
       "      <td>DABEBCBDEAACDBEBCEAACDEBAACBDCABCACDCAECCBADDB...</td>\n",
       "      <td>DDCEBADCBEBBADBAEDEBBAEABDABCEDEBEEBBCABEDDCBC...</td>\n",
       "      <td>DCEADABDACDCEABDADBEDDEBBACCDDDCBBBBEAAEBCABAB...</td>\n",
       "      <td>21.0</td>\n",
       "      <td>19.0</td>\n",
       "    </tr>\n",
       "    <tr>\n",
       "      <th>1755659</th>\n",
       "      <td>210054132923</td>\n",
       "      <td>3</td>\n",
       "      <td>M</td>\n",
       "      <td>G</td>\n",
       "      <td>G</td>\n",
       "      <td>4.0</td>\n",
       "      <td>M</td>\n",
       "      <td>A</td>\n",
       "      <td>B</td>\n",
       "      <td>D</td>\n",
       "      <td>...</td>\n",
       "      <td>DCEADABDACDCEABDDADBEDDDEBBACCDDDCCEBBBBEBAAEA...</td>\n",
       "      <td>D</td>\n",
       "      <td>DGGMABDBACABACACEE</td>\n",
       "      <td>60</td>\n",
       "      <td>DDCAECCDBDBAABDABADABCCBCBCDABBCAECAEEBCDDDDCC...</td>\n",
       "      <td>DCBAECBBACCDEABDADCDADEBBCCCDEDCDBEEDBBADCAAAA...</td>\n",
       "      <td>DDCEBADCBEBBADBAEDEBBAEABDABCEDEBEEBBCABEDDCBC...</td>\n",
       "      <td>DCEADABDACDCEABDADBEDDEBBACCDDDCBBBBEAAEBCABAB...</td>\n",
       "      <td>38.0</td>\n",
       "      <td>22.0</td>\n",
       "    </tr>\n",
       "  </tbody>\n",
       "</table>\n",
       "<p>10 rows × 32 columns</p>\n",
       "</div>"
      ],
      "text/plain": [
       "         NU_INSCRICAO  TP_FAIXA_ETARIA TP_SEXO Q001 Q002  Q005 Q006 Q007 Q008  \\\n",
       "1336671  210053301118                2       F    E    E   3.0    D    A    C   \n",
       "569900   210053182266               11       F    H    E   1.0    A    A    B   \n",
       "2580388  210052805249                5       F    B    E   8.0    C    A    B   \n",
       "712484   210052690160                4       F    D    E   4.0    B    A    B   \n",
       "943620   210054349672                2       M    G    G   4.0    Q    C    E   \n",
       "2722694  210054198196                3       F    B    B   6.0    B    A    B   \n",
       "792972   210051412986                8       M    A    E   4.0    A    A    B   \n",
       "955261   210051403537                2       M    E    G   4.0    M    D    D   \n",
       "2452878  210054184312                3       M    B    E   5.0    D    A    C   \n",
       "1755659  210054132923                3       M    G    G   4.0    M    A    B   \n",
       "\n",
       "        Q009  ...                                   Gabarito Oficial Q005_str  \\\n",
       "1336671    D  ...  DCEADABDACDCEABDDADBEDDDEBBACCDDDCCEBBBBEBAAEA...        C   \n",
       "569900     C  ...  DCEADABDACDCEABDDADBEDDDEBBACCDDDCCEBBBBEBAAEA...        A   \n",
       "2580388    C  ...  DCEADABDACDCEABDDADBEDDDEBBACCDDDCCEBBBBEBAAEA...        E   \n",
       "712484     D  ...  DCEADABDACDCEABDDADBEDDDEBBACCDDDCCEBBBBEBAAEA...        D   \n",
       "943620     D  ...  DCEADABDACDCEABDDADBEDDDEBBACCDDDCCEBBBBEBAAEA...        D   \n",
       "2722694    C  ...  DCEADABDACDCEABDDADBEDDDEBBACCDDDCCEBBBBEBAAEA...        F   \n",
       "792972     C  ...  DCEADABDACDCEABDDADBEDDDEBBACCDDDCCEBBBBEBAAEA...        D   \n",
       "955261     D  ...  DCEADABDACDCEABDDADBEDDDEBBACCDDDCCEBBBBEBAAEA...        D   \n",
       "2452878    D  ...  DCEADABDACDCEABDDADBEDDDEBBACCDDDCCEBBBBEBAAEA...        E   \n",
       "1755659    D  ...  DCEADABDACDCEABDDADBEDDDEBBACCDDDCCEBBBBEBAAEA...        D   \n",
       "\n",
       "        Respostas Questionario Acertos Totias  \\\n",
       "1336671     CEEDACDAABABABABDB             70   \n",
       "569900      AHEAABCAABAAAAABBA             41   \n",
       "2580388     EBECABCAABBBABABCB             29   \n",
       "712484      DDEBABDBABBBABAADA             76   \n",
       "943620      DGGQCEDCABBBBBBDEE            118   \n",
       "2722694     FBBBABCAABAAAAABBA             25   \n",
       "792972      DAEAABCAAAAAAAAAAA             61   \n",
       "955261      DEGMDDDBBBBBBAABDB             74   \n",
       "2452878     EBEDACDBBBBAAAACDB             40   \n",
       "1755659     DGGMABDBACABACACEE             60   \n",
       "\n",
       "                                      Questoes Especificas  \\\n",
       "1336671  CCADAABDBCDCBDDAEBEBBABCADACCBBEBEBEAABBEDECAC...   \n",
       "569900   BAACADCCAABABDDBAD..BEAAEDAADEBBCEC*B*DBDABCAA...   \n",
       "2580388  BEDCBCCCDADADADABBAAECADDEADDDACADDEBBEEDCBDAC...   \n",
       "712484   DCAEAACEBADBBDCBBAABBEECBDCEABADBECDCBBBEADCAC...   \n",
       "943620   ADC.BACABEBBADEAEDEBBAEABDABABDECEEBEDABEDBCBC...   \n",
       "2722694  BCBAACBBBAADDBABDCDEEAAAADDEBABAACBECBBAEBAADC...   \n",
       "792972   DBDEBEBADDEBEDDADECBBACADDADDEEDBEDBACCBBEDAAC...   \n",
       "955261   DDCAAAEEBBBBADDADAABECABCDABDEAEBECADBACBDDABC...   \n",
       "2452878  BADEDBECEACBADECDECEEAEBCDACDDEBAADECDBACECEAC...   \n",
       "1755659  DDCAECCDBDBAABDABADABCCBCBCDABBCAECAEEBCDDDDCC...   \n",
       "\n",
       "                                           Questoes Gerais  \\\n",
       "1336671  EADBECADDEDBEBBCAABADADCDABCDBCCBBDEECAADCABEB...   \n",
       "569900   EBCAAABACABAEAECBBCBABDCBDADBDEEEBBDBAD.EDADAC...   \n",
       "2580388  DBDEBDBBDABEDAACEACEDBCEAADEDDEADCDADEEEACABBE...   \n",
       "712484   DEBADCBDABDCEABEADDDDBDBBACCDCCEBBDAEEBABEABAB...   \n",
       "943620   DABADCBDACCCEABDAEC.DDECBDACECD.CBCAEAAEBCABAB...   \n",
       "2722694  ABDAAABBACCDCAACBDADADBADDEEBBABAACDCEBAABAADE...   \n",
       "792972   DCDEDBABAEDABADEAEDDDAECAAECDCBCBCEAEACAAEABDB...   \n",
       "955261   DCBADDBDEEBEAABDCBEADBDADECABEACBBEECEAECEDBEB...   \n",
       "2452878  DABEBCBDEAACDBEBCEAACDEBAACBDCABCACDCAECCBADDB...   \n",
       "1755659  DCBAECBBACCDEABDADCDADEBBCCCDEDCDBEEDBBADCAAAA...   \n",
       "\n",
       "                                      Gabarito Especificas  \\\n",
       "1336671  DDCEBADCBEBBADBAEDEBBAEABDABCEDEBEEBBCABEDDCBC...   \n",
       "569900   DDCEBADCBEBBADBAEDEBBAEABDABCEDEBEEBBCABEDDCBC...   \n",
       "2580388  DDCEBADCBEBBADBAEDEBBAEABDABCEDEBEEBBCABEDDCBC...   \n",
       "712484   DDCEBADCBEBBADBAEDEBBAEABDABCEDEBEEBBCABEDDCBC...   \n",
       "943620   DDCEBADCBEBBADBAEDEBBAEABDABCEDEBEEBBCABEDDCBC...   \n",
       "2722694  DDCEBADCBEBBADBAEDEBBAEABDABCEDEBEEBBCABEDDCBC...   \n",
       "792972   DDCEBADCBEBBADBAEDEBBAEABDABCEDEBEEBBCABEDDCBC...   \n",
       "955261   DDCEBADCBEBBADBAEDEBBAEABDABCEDEBEEBBCABEDDCBC...   \n",
       "2452878  DDCEBADCBEBBADBAEDEBBAEABDABCEDEBEEBBCABEDDCBC...   \n",
       "1755659  DDCEBADCBEBBADBAEDEBBAEABDABCEDEBEEBBCABEDDCBC...   \n",
       "\n",
       "                                           Gabarito Gerais Acertos Gerais  \\\n",
       "1336671  DCEADABDACDCEABDADBEDDEBBACCDDDCBBBBEAAEBCABAB...           32.0   \n",
       "569900   DCEADABDACDCEABDADBEDDEBBACCDDDCBBBBEAAEBCABAB...           16.0   \n",
       "2580388  DCEADABDACDCEABDADBEDDEBBACCDDDCBBBBEAAEBCABAB...           15.0   \n",
       "712484   DCEADABDACDCEABDADBEDDEBBACCDDDCBBBBEAAEBCABAB...           43.0   \n",
       "943620   DCEADABDACDCEABDADBEDDEBBACCDDDCBBBBEAAEBCABAB...           48.0   \n",
       "2722694  DCEADABDACDCEABDADBEDDEBBACCDDDCBBBBEAAEBCABAB...           13.0   \n",
       "792972   DCEADABDACDCEABDADBEDDEBBACCDDDCBBBBEAAEBCABAB...           29.0   \n",
       "955261   DCEADABDACDCEABDADBEDDEBBACCDDDCBBBBEAAEBCABAB...           29.0   \n",
       "2452878  DCEADABDACDCEABDADBEDDEBBACCDDDCBBBBEAAEBCABAB...           21.0   \n",
       "1755659  DCEADABDACDCEABDADBEDDEBBACCDDDCBBBBEAAEBCABAB...           38.0   \n",
       "\n",
       "        Acertos Especificas  \n",
       "1336671                38.0  \n",
       "569900                 25.0  \n",
       "2580388                14.0  \n",
       "712484                 33.0  \n",
       "943620                 70.0  \n",
       "2722694                12.0  \n",
       "792972                 32.0  \n",
       "955261                 45.0  \n",
       "2452878                19.0  \n",
       "1755659                22.0  \n",
       "\n",
       "[10 rows x 32 columns]"
      ]
     },
     "execution_count": 61,
     "metadata": {},
     "output_type": "execute_result"
    }
   ],
   "source": [
    "sampled_data.head(10)"
   ]
  },
  {
   "cell_type": "code",
   "execution_count": 62,
   "id": "536a948a",
   "metadata": {},
   "outputs": [],
   "source": [
    "processed_dir = DATA_DIR / 'processed'\n",
    "processed_dir.mkdir(parents=True, exist_ok=True)"
   ]
  },
  {
   "cell_type": "code",
   "execution_count": 63,
   "id": "b3dc8bde",
   "metadata": {},
   "outputs": [],
   "source": [
    "processed_file_path = processed_dir / 'enem_sampled.pkl'"
   ]
  },
  {
   "cell_type": "code",
   "execution_count": 64,
   "id": "760c5b22",
   "metadata": {},
   "outputs": [],
   "source": [
    "with open(processed_file_path, 'wb') as file:\n",
    "    pickle.dump(sampled_data, file)"
   ]
  },
  {
   "cell_type": "code",
   "execution_count": 79,
   "id": "36c38ef9",
   "metadata": {},
   "outputs": [
    {
     "data": {
      "image/png": "[encoded data removed]",
      "text/plain": [
       "<Figure size 640x480 with 1 Axes>"
      ]
     },
     "metadata": {},
     "output_type": "display_data"
    },
    {
     "data": {
      "image/png": "[encoded data removed]",
      "text/plain": [
       "<Figure size 640x480 with 1 Axes>"
      ]
     },
     "metadata": {},
     "output_type": "display_data"
    },
    {
     "data": {
      "image/png": "[encoded data removed]",
      "text/plain": [
       "<Figure size 640x480 with 1 Axes>"
      ]
     },
     "metadata": {},
     "output_type": "display_data"
    }
   ],
   "source": [
    "import matplotlib.pyplot as plt\n",
    "\n",
    "plt.figure()\n",
    "plt.hist(sampled_data['Acertos Totias'], bins=50, edgecolor='black')\n",
    "plt.show()\n",
    "plt.hist(sampled_data['Acertos Gerais'], bins=50, edgecolor='black')\n",
    "plt.show()\n",
    "plt.hist(sampled_data['Acertos Especificas'], bins=50, edgecolor='black')\n",
    "plt.show()"
   ]
  }
 ],
 "metadata": {
  "kernelspec": {
   "display_name": "Python 3 (ipykernel)",
   "language": "python",
   "name": "python3"
  },
  "language_info": {
   "codemirror_mode": {
    "name": "ipython",
    "version": 3
   },
   "file_extension": ".py",
   "mimetype": "text/x-python",
   "name": "python",
   "nbconvert_exporter": "python",
   "pygments_lexer": "ipython3",
   "version": "3.10.10"
  }
 },
 "nbformat": 4,
 "nbformat_minor": 5
}
