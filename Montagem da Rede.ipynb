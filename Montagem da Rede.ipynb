{
 "cells": [
  {
   "cell_type": "markdown",
   "id": "1ab45ba6",
   "metadata": {},
   "source": [
    "# Montagem da Rede"
   ]
  },
  {
   "cell_type": "code",
   "execution_count": 1,
   "id": "df8877f7",
   "metadata": {},
   "outputs": [
    {
     "data": {
      "text/html": [
       "\n",
       "    <script src=\"/files/netpixi.min.js\"></script>\n"
      ],
      "text/plain": [
       "<IPython.core.display.HTML object>"
      ]
     },
     "metadata": {},
     "output_type": "display_data"
    },
    {
     "name": "stderr",
     "output_type": "stream",
     "text": [
      "<frozen importlib._bootstrap>:914: ImportWarning: VendorImporter.find_spec() not found; falling back to find_module()\n"
     ]
    }
   ],
   "source": [
    "import pathlib\n",
    "import pickle\n",
    "import cpnet\n",
    "import netpixi\n",
    "import pandas as pd\n",
    "import seaborn as sns\n",
    "import numpy as np\n",
    "import networkx as nx\n",
    "import matplotlib.pyplot as plt\n",
    "from collections import Counter\n",
    "from netpixi.integration.gt import *\n",
    "from regression.integration.gt import *\n",
    "from graph_tool import spectral"
   ]
  },
  {
   "cell_type": "markdown",
   "id": "4204c517",
   "metadata": {},
   "source": [
    "## Leitura dos Dados Pré-Processados"
   ]
  },
  {
   "cell_type": "code",
   "execution_count": 2,
   "id": "a164c638",
   "metadata": {
    "scrolled": true
   },
   "outputs": [
    {
     "name": "stdout",
     "output_type": "stream",
     "text": [
      "/home/jupyter/notebooks/projeto/data\n"
     ]
    }
   ],
   "source": [
    "DATA_DIR = pathlib.Path.cwd().parent / 'projeto' / 'data'\n",
    "print(DATA_DIR)"
   ]
  },
  {
   "cell_type": "code",
   "execution_count": 3,
   "id": "fe238d48",
   "metadata": {},
   "outputs": [],
   "source": [
    "PROCESSED_FILE_PATH = DATA_DIR / 'processed' / 'enem_sampled.pkl'"
   ]
  },
  {
   "cell_type": "code",
   "execution_count": 4,
   "id": "50941dd0",
   "metadata": {
    "scrolled": true
   },
   "outputs": [
    {
     "name": "stdout",
     "output_type": "stream",
     "text": [
      "/home/jupyter/notebooks/projeto/data/processed/enem_sampled.pkl\n"
     ]
    }
   ],
   "source": [
    "print(PROCESSED_FILE_PATH)"
   ]
  },
  {
   "cell_type": "code",
   "execution_count": 5,
   "id": "b251ade4",
   "metadata": {},
   "outputs": [],
   "source": [
    "with open(PROCESSED_FILE_PATH, 'rb') as file:\n",
    "    (\n",
    "        sampled_data\n",
    "    ) = pickle.load(file)\n"
   ]
  },
  {
   "cell_type": "code",
   "execution_count": 6,
   "id": "3574f0b3",
   "metadata": {
    "scrolled": false
   },
   "outputs": [
    {
     "name": "stdout",
     "output_type": "stream",
     "text": [
      "(1500, 34)\n"
     ]
    },
    {
     "data": {
      "text/html": [
       "<div>\n",
       "<style scoped>\n",
       "    .dataframe tbody tr th:only-of-type {\n",
       "        vertical-align: middle;\n",
       "    }\n",
       "\n",
       "    .dataframe tbody tr th {\n",
       "        vertical-align: top;\n",
       "    }\n",
       "\n",
       "    .dataframe thead th {\n",
       "        text-align: right;\n",
       "    }\n",
       "</style>\n",
       "<table border=\"1\" class=\"dataframe\">\n",
       "  <thead>\n",
       "    <tr style=\"text-align: right;\">\n",
       "      <th></th>\n",
       "      <th>NU_INSCRICAO</th>\n",
       "      <th>TX_RESPOSTAS_CN</th>\n",
       "      <th>TX_RESPOSTAS_CH</th>\n",
       "      <th>TX_RESPOSTAS_LC</th>\n",
       "      <th>TX_RESPOSTAS_MT</th>\n",
       "      <th>TX_GABARITO_CN</th>\n",
       "      <th>TX_GABARITO_CH</th>\n",
       "      <th>TX_GABARITO_LC</th>\n",
       "      <th>TX_GABARITO_MT</th>\n",
       "      <th>Q001</th>\n",
       "      <th>...</th>\n",
       "      <th>Q019</th>\n",
       "      <th>Q022</th>\n",
       "      <th>Q024</th>\n",
       "      <th>Q025</th>\n",
       "      <th>Gabarito</th>\n",
       "      <th>Gabarito Oficial</th>\n",
       "      <th>Q005_str</th>\n",
       "      <th>Respostas Questionario</th>\n",
       "      <th>Questoes Especificas</th>\n",
       "      <th>Questoes Gerais</th>\n",
       "    </tr>\n",
       "  </thead>\n",
       "  <tbody>\n",
       "    <tr>\n",
       "      <th>2033384</th>\n",
       "      <td>210051501130</td>\n",
       "      <td>CABBBBECEDBADACBEDEACBCCDABCADEDEAACCCBBBCEDE</td>\n",
       "      <td>EDAAAADBCAEBBABEECBBAEEDBBBDCBAABAEDBEBBCAEDB</td>\n",
       "      <td>DCDADCBDAEDBEBBDDBDBBDDAEBBACCDCDBCEBBEB</td>\n",
       "      <td>ACEAEBABDDCDADBACBCBEAADDCEDCDEBEDCABBDBDCDCE</td>\n",
       "      <td>DABCEDEBEEBBCABEDDCBCBECDADCDAACBDCCCDBBBEBAB</td>\n",
       "      <td>EBAAEADBCACBBABEECBAAEEBBBADCBADBCEDDEBBCAEAB</td>\n",
       "      <td>DBEBBDDBDBBDDAEBBACCDCDBCEBBEB</td>\n",
       "      <td>DCCAEBABDDCABEECCBCCEXADDCEECDEBADCABBDBDEDCE</td>\n",
       "      <td>G</td>\n",
       "      <td>...</td>\n",
       "      <td>E</td>\n",
       "      <td>E</td>\n",
       "      <td>C</td>\n",
       "      <td>B</td>\n",
       "      <td>DCDADCBDAEDBEBBDDBDBBDDAEBBACCDCDBCEBBEBEDAAAA...</td>\n",
       "      <td>DABCEDEBEEBBCABEDDCBCBECDADCDAACBDCCCDBBBEBABE...</td>\n",
       "      <td>D</td>\n",
       "      <td>DGFOBEDCACBBBBBEECB</td>\n",
       "      <td>DABEDADEBEDBBDBAEDEBBAEDBCABBBBECEDBADACBEDEAC...</td>\n",
       "      <td>DCDADCBDAEDBEBBDBDBBDDEBBACCDCDCBBEBEAAABCABAB...</td>\n",
       "    </tr>\n",
       "    <tr>\n",
       "      <th>964551</th>\n",
       "      <td>210054214735</td>\n",
       "      <td>BDABAAAEADCAECEAAAAABECAAABAAAACEBEAABABEABAD</td>\n",
       "      <td>ABAAAAEBBDACAACCAABABBCCABCAAEACAAEAABAAAEAAC</td>\n",
       "      <td>EAAAEAAABADADDDBDBDBAAAEAABAAEAAAAABDEAA</td>\n",
       "      <td>AEABADDEACBBDDAACEAEAAAECABEACACDDAABBBDAEAAA</td>\n",
       "      <td>DABCEDEBEEBBCABEDDCBCBECDADCDAACBDCCCDBBBEBAB</td>\n",
       "      <td>EBAAEADBCACBBABEECBAAEEBBBADCBADBCEDDEBBCAEAB</td>\n",
       "      <td>DADDDBDBDBAAAEAABAAEAAAAABDEAA</td>\n",
       "      <td>DCCAEBABDDCABEECCBCCEXADDCEECDEBADCABBDBDEDCE</td>\n",
       "      <td>C</td>\n",
       "      <td>...</td>\n",
       "      <td>B</td>\n",
       "      <td>B</td>\n",
       "      <td>A</td>\n",
       "      <td>A</td>\n",
       "      <td>EAAAEAAABADADDDBDBDBAAAEAABAAEAAAAABDEAAABAAAA...</td>\n",
       "      <td>DABCEDEBEEBBCABEDDCBCBECDADCDAACBDCCCDBBBEBABE...</td>\n",
       "      <td>D</td>\n",
       "      <td>DCDBABCAABAAABABBAA</td>\n",
       "      <td>BEABBAEAABCACAEAEABAAEAACBDABAAAEADCAECEAAAAAB...</td>\n",
       "      <td>EAAAEAAABADADDDDBDBAAAAABAAEAAAADEAAAAAABBDCAC...</td>\n",
       "    </tr>\n",
       "    <tr>\n",
       "      <th>424267</th>\n",
       "      <td>210051721631</td>\n",
       "      <td>DABCBDEBEBADDABDEDDBCCDCAACADEACDECBCCADBEBCB</td>\n",
       "      <td>EBAAEADBCAEBBABEECBAAEEDBBEECCADBCEDBEBBCAEBB</td>\n",
       "      <td>DEBADABDACDEEABDDADBADDDBBBACDDCDECBBBCE</td>\n",
       "      <td>DCEAEBADDBEADCECCBCCEAADDCEDCDEAADDEBBEADEDCE</td>\n",
       "      <td>DABCEDEBEEBBCABEDDCBCBECDADCDAACBDCCCDBBBEBAB</td>\n",
       "      <td>EBAAEADBCACBBABEECBAAEEBBBADCBADBCEDDEBBCAEAB</td>\n",
       "      <td>DEEABDDADBADDDBBBACDDCDECBBBCE</td>\n",
       "      <td>DCCAEBABDDCABEECCBCCEXADDCEECDEBADCABBDBDEDCE</td>\n",
       "      <td>F</td>\n",
       "      <td>...</td>\n",
       "      <td>C</td>\n",
       "      <td>D</td>\n",
       "      <td>D</td>\n",
       "      <td>B</td>\n",
       "      <td>DEBADABDACDEEABDDADBADDDBBBACDDCDECBBBCEEBAAEA...</td>\n",
       "      <td>DABCEDEBEEBBCABEDDCBCBECDADCDAACBDCCCDBBBEBABE...</td>\n",
       "      <td>C</td>\n",
       "      <td>CFFGADDBABBBABACDDB</td>\n",
       "      <td>DDEBBADEBEDBEECAEDEBBAEBBDABCBDEBEBADDABDEDDBC...</td>\n",
       "      <td>DEBADABDACDEEABDADBADDBBBACDDCDCBBCEEAAEBCABAB...</td>\n",
       "    </tr>\n",
       "    <tr>\n",
       "      <th>935461</th>\n",
       "      <td>210053821250</td>\n",
       "      <td>DACBAEBAECBBDEAEBCDCACDBADECAABDAEACDDEACBECC</td>\n",
       "      <td>EACECCBABEEBDDCCADEDBBACBBAEDDBCEEDDACEBBCACD</td>\n",
       "      <td>DEBECBCBDEBBAAABDDEBCEEAEDAAEAADBBCDDDBE</td>\n",
       "      <td>ADCBBEABEDCBEAABDEBABACEDACBDDADACDBEACDBBDCE</td>\n",
       "      <td>DABCEDEBEEBBCABEDDCBCBECDADCDAACBDCCCDBBBEBAB</td>\n",
       "      <td>EBAAEADBCACBBABEECBAAEEBBBADCBADBCEDDEBBCAEAB</td>\n",
       "      <td>BBAAABDDEBCEEAEDAAEAADBBCDDDBE</td>\n",
       "      <td>DCCAEBABDDCABEECCBCCEXADDCEECDEBADCABBDBDEDCE</td>\n",
       "      <td>B</td>\n",
       "      <td>...</td>\n",
       "      <td>B</td>\n",
       "      <td>B</td>\n",
       "      <td>A</td>\n",
       "      <td>B</td>\n",
       "      <td>DEBECBCBDEBBAAABDDEBCEEAEDAAEAADBBCDDDBEEACECC...</td>\n",
       "      <td>DABCEDEBEEBBCABEDDCBCBECDADCDAACBDCCCDBBBEBABE...</td>\n",
       "      <td>F</td>\n",
       "      <td>FBBCABCBBBAAABABBAB</td>\n",
       "      <td>BABDACBEDBCBAEDBDDCEBCACDDACBAEBAECBBDEAEBCDCA...</td>\n",
       "      <td>DEBECBCBDEBBAAADDEBCEEEDAAEAADBCDDBEECECABEBDC...</td>\n",
       "    </tr>\n",
       "    <tr>\n",
       "      <th>2691453</th>\n",
       "      <td>210052779578</td>\n",
       "      <td>EDBCACBAECAECBAEEDACCADBCDDEAEBDBCCEDCABBCCAE</td>\n",
       "      <td>CABEEACDBCEADCBACBDEACCAEABEBDEECADBEBCADAECC</td>\n",
       "      <td>EECBCDBBDABBEDCBCBECDADEACACEABDADCABADA</td>\n",
       "      <td>CACDBAEBADBBECAACCDEABDACDDBACCCADEBBCADBBCAE</td>\n",
       "      <td>DABCEDEBEEBBCABEDDCBCBECDADCDAACBDCCCDBBBEBAB</td>\n",
       "      <td>EBAAEADBCACBBABEECBAAEEBBBADCBADBCEDDEBBCAEAB</td>\n",
       "      <td>BBEDCBCBECDADEACACEABDADCABADA</td>\n",
       "      <td>DCCAEBABDDCABEECCBCCEXADDCEECDEBADCABBDBDEDCE</td>\n",
       "      <td>E</td>\n",
       "      <td>...</td>\n",
       "      <td>B</td>\n",
       "      <td>E</td>\n",
       "      <td>B</td>\n",
       "      <td>B</td>\n",
       "      <td>EECBCDBBDABBEDCBCBECDADEACACEABDADCABADACABEEA...</td>\n",
       "      <td>DABCEDEBEEBBCABEDDCBCBECDADCDAACBDCCCDBBBEBABE...</td>\n",
       "      <td>D</td>\n",
       "      <td>DEFCADDBACBBABABEBB</td>\n",
       "      <td>BEDAAACEDCAEBEDEDBBCAAECCEDBCACBAECAECBAEEDACC...</td>\n",
       "      <td>EECBCDBBDABBEDCCBECDADACACEABDACBADACBEEDBCACB...</td>\n",
       "    </tr>\n",
       "  </tbody>\n",
       "</table>\n",
       "<p>5 rows × 34 columns</p>\n",
       "</div>"
      ],
      "text/plain": [
       "         NU_INSCRICAO                                TX_RESPOSTAS_CN  \\\n",
       "2033384  210051501130  CABBBBECEDBADACBEDEACBCCDABCADEDEAACCCBBBCEDE   \n",
       "964551   210054214735  BDABAAAEADCAECEAAAAABECAAABAAAACEBEAABABEABAD   \n",
       "424267   210051721631  DABCBDEBEBADDABDEDDBCCDCAACADEACDECBCCADBEBCB   \n",
       "935461   210053821250  DACBAEBAECBBDEAEBCDCACDBADECAABDAEACDDEACBECC   \n",
       "2691453  210052779578  EDBCACBAECAECBAEEDACCADBCDDEAEBDBCCEDCABBCCAE   \n",
       "\n",
       "                                       TX_RESPOSTAS_CH  \\\n",
       "2033384  EDAAAADBCAEBBABEECBBAEEDBBBDCBAABAEDBEBBCAEDB   \n",
       "964551   ABAAAAEBBDACAACCAABABBCCABCAAEACAAEAABAAAEAAC   \n",
       "424267   EBAAEADBCAEBBABEECBAAEEDBBEECCADBCEDBEBBCAEBB   \n",
       "935461   EACECCBABEEBDDCCADEDBBACBBAEDDBCEEDDACEBBCACD   \n",
       "2691453  CABEEACDBCEADCBACBDEACCAEABEBDEECADBEBCADAECC   \n",
       "\n",
       "                                  TX_RESPOSTAS_LC  \\\n",
       "2033384  DCDADCBDAEDBEBBDDBDBBDDAEBBACCDCDBCEBBEB   \n",
       "964551   EAAAEAAABADADDDBDBDBAAAEAABAAEAAAAABDEAA   \n",
       "424267   DEBADABDACDEEABDDADBADDDBBBACDDCDECBBBCE   \n",
       "935461   DEBECBCBDEBBAAABDDEBCEEAEDAAEAADBBCDDDBE   \n",
       "2691453  EECBCDBBDABBEDCBCBECDADEACACEABDADCABADA   \n",
       "\n",
       "                                       TX_RESPOSTAS_MT  \\\n",
       "2033384  ACEAEBABDDCDADBACBCBEAADDCEDCDEBEDCABBDBDCDCE   \n",
       "964551   AEABADDEACBBDDAACEAEAAAECABEACACDDAABBBDAEAAA   \n",
       "424267   DCEAEBADDBEADCECCBCCEAADDCEDCDEAADDEBBEADEDCE   \n",
       "935461   ADCBBEABEDCBEAABDEBABACEDACBDDADACDBEACDBBDCE   \n",
       "2691453  CACDBAEBADBBECAACCDEABDACDDBACCCADEBBCADBBCAE   \n",
       "\n",
       "                                        TX_GABARITO_CN  \\\n",
       "2033384  DABCEDEBEEBBCABEDDCBCBECDADCDAACBDCCCDBBBEBAB   \n",
       "964551   DABCEDEBEEBBCABEDDCBCBECDADCDAACBDCCCDBBBEBAB   \n",
       "424267   DABCEDEBEEBBCABEDDCBCBECDADCDAACBDCCCDBBBEBAB   \n",
       "935461   DABCEDEBEEBBCABEDDCBCBECDADCDAACBDCCCDBBBEBAB   \n",
       "2691453  DABCEDEBEEBBCABEDDCBCBECDADCDAACBDCCCDBBBEBAB   \n",
       "\n",
       "                                        TX_GABARITO_CH  \\\n",
       "2033384  EBAAEADBCACBBABEECBAAEEBBBADCBADBCEDDEBBCAEAB   \n",
       "964551   EBAAEADBCACBBABEECBAAEEBBBADCBADBCEDDEBBCAEAB   \n",
       "424267   EBAAEADBCACBBABEECBAAEEBBBADCBADBCEDDEBBCAEAB   \n",
       "935461   EBAAEADBCACBBABEECBAAEEBBBADCBADBCEDDEBBCAEAB   \n",
       "2691453  EBAAEADBCACBBABEECBAAEEBBBADCBADBCEDDEBBCAEAB   \n",
       "\n",
       "                         TX_GABARITO_LC  \\\n",
       "2033384  DBEBBDDBDBBDDAEBBACCDCDBCEBBEB   \n",
       "964551   DADDDBDBDBAAAEAABAAEAAAAABDEAA   \n",
       "424267   DEEABDDADBADDDBBBACDDCDECBBBCE   \n",
       "935461   BBAAABDDEBCEEAEDAAEAADBBCDDDBE   \n",
       "2691453  BBEDCBCBECDADEACACEABDADCABADA   \n",
       "\n",
       "                                        TX_GABARITO_MT Q001  ... Q019  Q022  \\\n",
       "2033384  DCCAEBABDDCABEECCBCCEXADDCEECDEBADCABBDBDEDCE    G  ...    E     E   \n",
       "964551   DCCAEBABDDCABEECCBCCEXADDCEECDEBADCABBDBDEDCE    C  ...    B     B   \n",
       "424267   DCCAEBABDDCABEECCBCCEXADDCEECDEBADCABBDBDEDCE    F  ...    C     D   \n",
       "935461   DCCAEBABDDCABEECCBCCEXADDCEECDEBADCABBDBDEDCE    B  ...    B     B   \n",
       "2691453  DCCAEBABDDCABEECCBCCEXADDCEECDEBADCABBDBDEDCE    E  ...    B     E   \n",
       "\n",
       "        Q024 Q025                                           Gabarito  \\\n",
       "2033384    C    B  DCDADCBDAEDBEBBDDBDBBDDAEBBACCDCDBCEBBEBEDAAAA...   \n",
       "964551     A    A  EAAAEAAABADADDDBDBDBAAAEAABAAEAAAAABDEAAABAAAA...   \n",
       "424267     D    B  DEBADABDACDEEABDDADBADDDBBBACDDCDECBBBCEEBAAEA...   \n",
       "935461     A    B  DEBECBCBDEBBAAABDDEBCEEAEDAAEAADBBCDDDBEEACECC...   \n",
       "2691453    B    B  EECBCDBBDABBEDCBCBECDADEACACEABDADCABADACABEEA...   \n",
       "\n",
       "                                          Gabarito Oficial Q005_str  \\\n",
       "2033384  DABCEDEBEEBBCABEDDCBCBECDADCDAACBDCCCDBBBEBABE...        D   \n",
       "964551   DABCEDEBEEBBCABEDDCBCBECDADCDAACBDCCCDBBBEBABE...        D   \n",
       "424267   DABCEDEBEEBBCABEDDCBCBECDADCDAACBDCCCDBBBEBABE...        C   \n",
       "935461   DABCEDEBEEBBCABEDDCBCBECDADCDAACBDCCCDBBBEBABE...        F   \n",
       "2691453  DABCEDEBEEBBCABEDDCBCBECDADCDAACBDCCCDBBBEBABE...        D   \n",
       "\n",
       "        Respostas Questionario  \\\n",
       "2033384    DGFOBEDCACBBBBBEECB   \n",
       "964551     DCDBABCAABAAABABBAA   \n",
       "424267     CFFGADDBABBBABACDDB   \n",
       "935461     FBBCABCBBBAAABABBAB   \n",
       "2691453    DEFCADDBACBBABABEBB   \n",
       "\n",
       "                                      Questoes Especificas  \\\n",
       "2033384  DABEDADEBEDBBDBAEDEBBAEDBCABBBBECEDBADACBEDEAC...   \n",
       "964551   BEABBAEAABCACAEAEABAAEAACBDABAAAEADCAECEAAAAAB...   \n",
       "424267   DDEBBADEBEDBEECAEDEBBAEBBDABCBDEBEBADDABDEDDBC...   \n",
       "935461   BABDACBEDBCBAEDBDDCEBCACDDACBAEBAECBBDEAEBCDCA...   \n",
       "2691453  BEDAAACEDCAEBEDEDBBCAAECCEDBCACBAECAECBAEEDACC...   \n",
       "\n",
       "                                           Questoes Gerais  \n",
       "2033384  DCDADCBDAEDBEBBDBDBBDDEBBACCDCDCBBEBEAAABCABAB...  \n",
       "964551   EAAAEAAABADADDDDBDBAAAAABAAEAAAADEAAAAAABBDCAC...  \n",
       "424267   DEBADABDACDEEABDADBADDBBBACDDCDCBBCEEAAEBCABAB...  \n",
       "935461   DEBECBCBDEBBAAADDEBCEEEDAAEAADBCDDBEECECABEBDC...  \n",
       "2691453  EECBCDBBDABBEDCCBECDADACACEABDACBADACBEEDBCACB...  \n",
       "\n",
       "[5 rows x 34 columns]"
      ]
     },
     "execution_count": 6,
     "metadata": {},
     "output_type": "execute_result"
    }
   ],
   "source": [
    "print(sampled_data.shape)\n",
    "sampled_data.head(5)"
   ]
  },
  {
   "cell_type": "markdown",
   "id": "b6ea8867",
   "metadata": {},
   "source": [
    "## Montagem de Rede de Questionário Socioeconômico"
   ]
  },
  {
   "cell_type": "code",
   "execution_count": 7,
   "id": "b5f03a60",
   "metadata": {},
   "outputs": [
    {
     "data": {
      "text/plain": [
       "(1500, 19)"
      ]
     },
     "execution_count": 7,
     "metadata": {},
     "output_type": "execute_result"
    }
   ],
   "source": [
    "quant_candidatos = sampled_data.shape[0]\n",
    "quant_perguntas = len(sampled_data['Respostas Questionario'].iloc[0])\n",
    "quant_candidatos, quant_perguntas"
   ]
  },
  {
   "cell_type": "code",
   "execution_count": 8,
   "id": "9cf2ef3f",
   "metadata": {},
   "outputs": [],
   "source": [
    "respostas_questionario_list = sampled_data['Respostas Questionario'].tolist()"
   ]
  },
  {
   "cell_type": "markdown",
   "id": "146973f3",
   "metadata": {},
   "source": [
    "Antes de montar a rede por si só, precisamos dar uma olhada nos dados para ver qual a quantidade de perguntas respondidas em comum para que uma aresta possa ser formada"
   ]
  },
  {
   "cell_type": "code",
   "execution_count": 9,
   "id": "e75eed7b",
   "metadata": {},
   "outputs": [],
   "source": [
    "lista_questionario = list()\n",
    "for id_prova1 in range(quant_candidatos):\n",
    "    for id_prova2 in range(id_prova1 + 1, quant_candidatos):\n",
    "        i = 0\n",
    "        for i_pergunta in range(quant_perguntas):\n",
    "            if (respostas_questionario_list[id_prova1][i_pergunta] == respostas_questionario_list[id_prova2][i_pergunta]):\n",
    "                i+=1\n",
    "        lista_questionario.append(i)"
   ]
  },
  {
   "cell_type": "code",
   "execution_count": 10,
   "id": "d3ed8ac5",
   "metadata": {
    "scrolled": false
   },
   "outputs": [
    {
     "data": {
      "image/png": "[encoded data removed]",
      "text/plain": [
       "<Figure size 640x480 with 1 Axes>"
      ]
     },
     "metadata": {},
     "output_type": "display_data"
    }
   ],
   "source": [
    "freq_questionario = Counter(lista_questionario)\n",
    "plt.figure()\n",
    "plt.bar(freq_questionario.keys(), freq_questionario.values())\n",
    "plt.show()"
   ]
  },
  {
   "cell_type": "code",
   "execution_count": 11,
   "id": "704f6b02",
   "metadata": {},
   "outputs": [
    {
     "name": "stdout",
     "output_type": "stream",
     "text": [
      "Média: 9.325327106960195\n",
      "Quartis: [ 0.  8.  9. 11. 19.]\n"
     ]
    }
   ],
   "source": [
    "print(f'Média: {np.mean(lista_questionario)}')\n",
    "print(f'Quartis: {np.quantile(lista_questionario, [0,0.25,0.5,0.75,1])}')"
   ]
  },
  {
   "cell_type": "code",
   "execution_count": 12,
   "id": "431feb04",
   "metadata": {
    "scrolled": true
   },
   "outputs": [
    {
     "data": {
      "text/plain": [
       "Counter({3: 12141,\n",
       "         7: 105214,\n",
       "         2: 5318,\n",
       "         10: 169929,\n",
       "         9: 163907,\n",
       "         6: 72740,\n",
       "         5: 45409,\n",
       "         4: 25316,\n",
       "         8: 139157,\n",
       "         11: 150764,\n",
       "         1: 1522,\n",
       "         12: 111841,\n",
       "         0: 166,\n",
       "         14: 33976,\n",
       "         15: 13089,\n",
       "         13: 69066,\n",
       "         16: 3815,\n",
       "         17: 776,\n",
       "         18: 99,\n",
       "         19: 5})"
      ]
     },
     "execution_count": 12,
     "metadata": {},
     "output_type": "execute_result"
    }
   ],
   "source": [
    "freq_questionario"
   ]
  },
  {
   "cell_type": "markdown",
   "id": "88d352cb",
   "metadata": {},
   "source": [
    "A máquina disponível começa a travar depois de 50.000 arestas... vamos ver então o número mínimo de resostas iguais para fazer com que seja essa a quantidade de arestas"
   ]
  },
  {
   "cell_type": "code",
   "execution_count": 13,
   "id": "eaee3521",
   "metadata": {},
   "outputs": [
    {
     "name": "stdout",
     "output_type": "stream",
     "text": [
      "Travou em 14 com 51760\n"
     ]
    }
   ],
   "source": [
    "quant_arestas = 0\n",
    "max_resps_iguais = 0\n",
    "for i in range(len(freq_questionario)):\n",
    "    quant_arestas += freq_questionario[quant_perguntas - i]\n",
    "    if quant_arestas > 50000:\n",
    "        print(f'Travou em {19 - i} com {quant_arestas}')\n",
    "        max_resps_iguais = 19 - i\n",
    "        break"
   ]
  },
  {
   "cell_type": "markdown",
   "id": "4cd29b9f",
   "metadata": {},
   "source": [
    "Vamos tentar fazer um grafo em que há vértices se as dupla de candidatos respondeu à mais de 14 perguntas do questionário socioeconômico da mesma forma"
   ]
  },
  {
   "cell_type": "code",
   "execution_count": 14,
   "id": "a849400b",
   "metadata": {},
   "outputs": [],
   "source": [
    "arestas_questionario = list()\n",
    "for id_prova1 in range(quant_candidatos):\n",
    "    for id_prova2 in range(id_prova1 + 1, quant_candidatos):\n",
    "        i = 0\n",
    "        for i_pergunta in range(quant_perguntas):\n",
    "            if (respostas_questionario_list[id_prova1][i_pergunta] == respostas_questionario_list[id_prova2][i_pergunta]):\n",
    "                i+=1\n",
    "        if i >= max_resps_iguais:\n",
    "            arestas_questionario.append((id_prova1, id_prova2))"
   ]
  },
  {
   "cell_type": "code",
   "execution_count": 15,
   "id": "4f59cb03",
   "metadata": {},
   "outputs": [],
   "source": [
    "g_quest = Graph(directed=False) # Não-dirigido\n",
    "\n",
    "for aresta in arestas_questionario:\n",
    "    if not(g_quest.has_vertex(aresta[0])):\n",
    "        g_quest.add_vertex(aresta[0])\n",
    "    if not(g_quest.has_vertex(aresta[1])):\n",
    "        g_quest.add_vertex(aresta[1])\n",
    "    if not (g_quest.has_edge(aresta[0], aresta[1])):\n",
    "        g_quest.add_edge(aresta[0], aresta[1])"
   ]
  },
  {
   "cell_type": "code",
   "execution_count": 16,
   "id": "e7f076d2",
   "metadata": {},
   "outputs": [],
   "source": [
    "gt_save(g_quest, 'grafo_questionario1500.net.gz')"
   ]
  },
  {
   "cell_type": "code",
   "execution_count": 17,
   "id": "fe076413",
   "metadata": {},
   "outputs": [
    {
     "name": "stdout",
     "output_type": "stream",
     "text": [
      "Número de vértices: 1464\n",
      "Número de arestas: 51760\n",
      "Número máximo de arestas (gráfico não dirigido): 1070916\n",
      "Densidade: 0.048332455580082846\n"
     ]
    }
   ],
   "source": [
    "n = g_quest.num_vertices()\n",
    "m = g_quest.num_edges()\n",
    "max_edges = n * (n - 1) // 2\n",
    "d = m / max_edges\n",
    "\n",
    "print(f'Número de vértices: {n}')\n",
    "print(f'Número de arestas: {m}')\n",
    "print(f'Número máximo de arestas (gráfico não dirigido): {max_edges}')\n",
    "print(f'Densidade: {d}')"
   ]
  },
  {
   "cell_type": "code",
   "execution_count": 18,
   "id": "c9b280e7",
   "metadata": {},
   "outputs": [
    {
     "data": {
      "text/plain": [
       "count    1464.000000\n",
       "mean       70.710383\n",
       "std        62.348519\n",
       "min         1.000000\n",
       "25%        21.000000\n",
       "50%        53.500000\n",
       "75%       104.000000\n",
       "max       327.000000\n",
       "Name: degree, dtype: float64"
      ]
     },
     "execution_count": 18,
     "metadata": {},
     "output_type": "execute_result"
    },
    {
     "data": {
      "image/png": "[encoded data removed]",
      "text/plain": [
       "<Figure size 640x480 with 1 Axes>"
      ]
     },
     "metadata": {},
     "output_type": "display_data"
    }
   ],
   "source": [
    "# Função para formatar propriedades dos vértices\n",
    "data = gt_data(g_quest)\n",
    "\n",
    "# Soma do in-degree com o out-degree\n",
    "degrees = []\n",
    "for v in g_quest.all_vertices():\n",
    "    degrees.append(v.total_degree())\n",
    "\n",
    "# Adicionando métricas ao df\n",
    "data['degree'] = degrees\n",
    "\n",
    "# Visualizando histograma do degree\n",
    "sns.histplot(data['degree'])\n",
    "data['degree'].describe()"
   ]
  },
  {
   "cell_type": "code",
   "execution_count": 19,
   "id": "63f70f25",
   "metadata": {},
   "outputs": [],
   "source": [
    "# Método que aproxima e afasta vértices dependendo se estão ou não conectados, respectivamente\n",
    "g_quest_SFDP = gt_load('grafo_questionario1500.net.gz')\n",
    "g_quest_SFDP = gt_clean(g_quest_SFDP)\n",
    "m = gt_draw.sfdp_layout(g_quest_SFDP)\n",
    "gt_move(g_quest_SFDP, m)\n",
    "gt_save(g_quest_SFDP, 'SFDP_grafo_questionario1500.net.gz')"
   ]
  },
  {
   "cell_type": "code",
   "execution_count": 20,
   "id": "2d667687",
   "metadata": {},
   "outputs": [],
   "source": [
    "#r = netpixi.render('SFDP_grafo_questionario1500.net.gz', infinite=True)"
   ]
  },
  {
   "cell_type": "markdown",
   "id": "f9e17546",
   "metadata": {},
   "source": [
    "Alterando o tamanho dos vértices para evidenciar quem é mais de centro"
   ]
  },
  {
   "cell_type": "code",
   "execution_count": 39,
   "id": "fb8ca333",
   "metadata": {},
   "outputs": [],
   "source": [
    "# matrix = spectral.adjacency(g_quest_SFDP)\n",
    "\n",
    "# algorithm = cpnet.Rombach()\n",
    "# algorithm.detect(matrix)\n",
    "# c = algorithm.get_coreness()\n",
    "\n",
    "# g_quest_SFDP.add_vp('coreness')\n",
    "# for i, coreness in c.items():\n",
    "#     v = g_quest_SFDP.get_vertex_by_index(i)\n",
    "#     v['coreness'] = float(coreness)\n",
    "\n",
    "# for v in g_quest_SFDP.all_vertices():\n",
    "#     r.vertex(v['id'], size=(10 + 40 * v['coreness']))"
   ]
  },
  {
   "cell_type": "markdown",
   "id": "ed028e13",
   "metadata": {},
   "source": [
    "Observando novamente o grafo, observa-se que há pessoas que são mais centrais do que outras. Podemos investigar quem são."
   ]
  },
  {
   "cell_type": "code",
   "execution_count": 22,
   "id": "4872df69",
   "metadata": {},
   "outputs": [],
   "source": [
    "# c"
   ]
  },
  {
   "cell_type": "markdown",
   "id": "81e52cdb",
   "metadata": {},
   "source": [
    "## Montagem da Rede de Conhecimentos Gerais"
   ]
  },
  {
   "cell_type": "code",
   "execution_count": 23,
   "id": "34d30e70",
   "metadata": {},
   "outputs": [
    {
     "data": {
      "text/plain": [
       "Index(['NU_INSCRICAO', 'TX_RESPOSTAS_CN', 'TX_RESPOSTAS_CH', 'TX_RESPOSTAS_LC',\n",
       "       'TX_RESPOSTAS_MT', 'TX_GABARITO_CN', 'TX_GABARITO_CH', 'TX_GABARITO_LC',\n",
       "       'TX_GABARITO_MT', 'Q001', 'Q002', 'Q005', 'Q006', 'Q007', 'Q008',\n",
       "       'Q009', 'Q010', 'Q011', 'Q012', 'Q013', 'Q014', 'Q015', 'Q016', 'Q017',\n",
       "       'Q019', 'Q022', 'Q024', 'Q025', 'Gabarito', 'Gabarito Oficial',\n",
       "       'Q005_str', 'Respostas Questionario', 'Questoes Especificas',\n",
       "       'Questoes Gerais'],\n",
       "      dtype='object')"
      ]
     },
     "execution_count": 23,
     "metadata": {},
     "output_type": "execute_result"
    }
   ],
   "source": [
    "sampled_data.columns"
   ]
  },
  {
   "cell_type": "code",
   "execution_count": 24,
   "id": "e8d60d0c",
   "metadata": {
    "scrolled": true
   },
   "outputs": [
    {
     "data": {
      "text/plain": [
       "(1500, 71)"
      ]
     },
     "execution_count": 24,
     "metadata": {},
     "output_type": "execute_result"
    }
   ],
   "source": [
    "quant_questoes_gerais = len(sampled_data['Questoes Gerais'].iloc[0])\n",
    "quant_candidatos, quant_questoes_gerais"
   ]
  },
  {
   "cell_type": "code",
   "execution_count": 25,
   "id": "ba27ea76",
   "metadata": {},
   "outputs": [],
   "source": [
    "questoes_gerais = sampled_data['Questoes Gerais'].tolist()"
   ]
  },
  {
   "cell_type": "code",
   "execution_count": 26,
   "id": "8d88984d",
   "metadata": {},
   "outputs": [],
   "source": [
    "lista_n_respostas_iguais = list()\n",
    "for id_prova1 in range(quant_candidatos):\n",
    "    for id_prova2 in range(id_prova1 + 1, quant_candidatos):\n",
    "        i = 0\n",
    "        for i_pergunta in range(quant_questoes_gerais):\n",
    "            if (questoes_gerais[id_prova1][i_pergunta] == questoes_gerais[id_prova2][i_pergunta]):\n",
    "                i+=1\n",
    "        lista_n_respostas_iguais.append(i)"
   ]
  },
  {
   "cell_type": "code",
   "execution_count": 27,
   "id": "54fb01b4",
   "metadata": {},
   "outputs": [
    {
     "data": {
      "image/png": "[encoded data removed]",
      "text/plain": [
       "<Figure size 640x480 with 1 Axes>"
      ]
     },
     "metadata": {},
     "output_type": "display_data"
    }
   ],
   "source": [
    "freq_prova = Counter(lista_n_respostas_iguais)\n",
    "plt.figure()\n",
    "plt.bar(freq_prova.keys(), freq_prova.values())\n",
    "plt.show()"
   ]
  },
  {
   "cell_type": "code",
   "execution_count": 28,
   "id": "bae27257",
   "metadata": {},
   "outputs": [
    {
     "name": "stdout",
     "output_type": "stream",
     "text": [
      "Média: 21.477320880587058\n",
      "Quartis: [ 0. 17. 20. 25. 62.]\n"
     ]
    }
   ],
   "source": [
    "print(f'Média: {np.mean(lista_n_respostas_iguais)}')\n",
    "print(f'Quartis: {np.quantile(lista_n_respostas_iguais, [0,0.25,0.5,0.75,1])}')"
   ]
  },
  {
   "cell_type": "code",
   "execution_count": 29,
   "id": "1565887a",
   "metadata": {
    "scrolled": false
   },
   "outputs": [
    {
     "data": {
      "text/plain": [
       "62"
      ]
     },
     "execution_count": 29,
     "metadata": {},
     "output_type": "execute_result"
    }
   ],
   "source": [
    "max(freq_prova)"
   ]
  },
  {
   "cell_type": "code",
   "execution_count": 30,
   "id": "0d4424bd",
   "metadata": {},
   "outputs": [
    {
     "data": {
      "text/plain": [
       "14"
      ]
     },
     "execution_count": 30,
     "metadata": {},
     "output_type": "execute_result"
    }
   ],
   "source": [
    "freq_prova[0]"
   ]
  },
  {
   "cell_type": "code",
   "execution_count": 31,
   "id": "96b2cca1",
   "metadata": {},
   "outputs": [
    {
     "name": "stdout",
     "output_type": "stream",
     "text": [
      "Travou em 35 com 52056\n"
     ]
    }
   ],
   "source": [
    "quant_arestas_geral = 0\n",
    "threshold = 0\n",
    "for i in range(len(freq_prova)):\n",
    "    quant_arestas_geral += freq_prova[max(freq_prova) - i]\n",
    "    if quant_arestas_geral > 50000:\n",
    "        print(f'Travou em {max(freq_prova) - i} com {quant_arestas_geral}')\n",
    "        threshold = max(freq_prova) - i\n",
    "        break"
   ]
  },
  {
   "cell_type": "code",
   "execution_count": 32,
   "id": "1476f747",
   "metadata": {},
   "outputs": [],
   "source": [
    "arestas_geral = list()\n",
    "for id_prova1 in range(quant_candidatos):\n",
    "    for id_prova2 in range(id_prova1 + 1, quant_candidatos):\n",
    "        i = 0\n",
    "        for i_pergunta in range(quant_questoes_gerais):\n",
    "            if (questoes_gerais[id_prova1][i_pergunta] == questoes_gerais[id_prova2][i_pergunta]):\n",
    "                i+=1\n",
    "        if i >= threshold:\n",
    "            arestas_geral.append((id_prova1, id_prova2))"
   ]
  },
  {
   "cell_type": "code",
   "execution_count": 33,
   "id": "4af31507",
   "metadata": {},
   "outputs": [
    {
     "data": {
      "text/plain": [
       "52056"
      ]
     },
     "execution_count": 33,
     "metadata": {},
     "output_type": "execute_result"
    }
   ],
   "source": [
    "len(arestas_geral)"
   ]
  },
  {
   "cell_type": "code",
   "execution_count": 34,
   "id": "80b6c087",
   "metadata": {},
   "outputs": [],
   "source": [
    "g_geral = Graph(directed=False)\n",
    "\n",
    "for aresta in arestas_geral:\n",
    "    if not(g_geral.has_vertex(aresta[0])):\n",
    "        g_geral.add_vertex(aresta[0])\n",
    "    if not(g_geral.has_vertex(aresta[1])):\n",
    "        g_geral.add_vertex(aresta[1])\n",
    "    if not (g_geral.has_edge(aresta[0], aresta[1])):\n",
    "        g_geral.add_edge(aresta[0], aresta[1])"
   ]
  },
  {
   "cell_type": "code",
   "execution_count": 35,
   "id": "4aaa5265",
   "metadata": {},
   "outputs": [],
   "source": [
    "gt_save(g_geral, 'grafo_geral.net.gz')"
   ]
  },
  {
   "cell_type": "code",
   "execution_count": 36,
   "id": "1c8d7caf",
   "metadata": {},
   "outputs": [
    {
     "name": "stdout",
     "output_type": "stream",
     "text": [
      "Número de vértices: 828\n",
      "Número de arestas: 52056\n",
      "Número máximo de arestas (gráfico não dirigido): 342378\n",
      "Densidade: 0.15204247936491247\n"
     ]
    }
   ],
   "source": [
    "n = g_geral.num_vertices()\n",
    "m = g_geral.num_edges()\n",
    "max_edges = n * (n - 1) // 2\n",
    "d = m / max_edges\n",
    "\n",
    "print(f'Número de vértices: {n}')\n",
    "print(f'Número de arestas: {m}')\n",
    "print(f'Número máximo de arestas (gráfico não dirigido): {max_edges}')\n",
    "print(f'Densidade: {d}')"
   ]
  },
  {
   "cell_type": "code",
   "execution_count": 37,
   "id": "ac6914c8",
   "metadata": {},
   "outputs": [
    {
     "data": {
      "text/plain": [
       "count    828.000000\n",
       "mean     125.739130\n",
       "std      131.355162\n",
       "min        1.000000\n",
       "25%        8.000000\n",
       "50%       78.000000\n",
       "75%      223.000000\n",
       "max      453.000000\n",
       "Name: degree, dtype: float64"
      ]
     },
     "execution_count": 37,
     "metadata": {},
     "output_type": "execute_result"
    },
    {
     "data": {
      "image/png": "[encoded data removed]",
      "text/plain": [
       "<Figure size 640x480 with 1 Axes>"
      ]
     },
     "metadata": {},
     "output_type": "display_data"
    }
   ],
   "source": [
    "# Função para formatar propriedades dos vértices\n",
    "data = gt_data(g_geral)\n",
    "\n",
    "# Soma do in-degree com o out-degree\n",
    "degrees = []\n",
    "for v in g_geral.all_vertices():\n",
    "    degrees.append(v.total_degree())\n",
    "\n",
    "# Adicionando métricas ao df\n",
    "data['degree'] = degrees\n",
    "\n",
    "# Visualizando histograma do degree\n",
    "sns.histplot(data['degree'])\n",
    "data['degree'].describe()"
   ]
  },
  {
   "cell_type": "code",
   "execution_count": 38,
   "id": "3d58dfc5",
   "metadata": {},
   "outputs": [],
   "source": [
    "# Método que aproxima e afasta vértices dependendo se estão ou não conectados, respectivamente\n",
    "g_geral_SFDP = gt_load('grafo_geral.net.gz')\n",
    "g_geral_SFDP = gt_clean(g_geral_SFDP)\n",
    "m = gt_draw.sfdp_layout(g_geral_SFDP)\n",
    "gt_move(g_geral_SFDP, m)\n",
    "gt_save(g_geral_SFDP, 'SFDP_grafo_geral.net.gz')"
   ]
  },
  {
   "cell_type": "code",
   "execution_count": null,
   "id": "fe738bb6",
   "metadata": {},
   "outputs": [],
   "source": [
    "# r = netpixi.render('SFDP_grafo_questionario.net.gz', infinite=True)"
   ]
  },
  {
   "cell_type": "code",
   "execution_count": 40,
   "id": "e4456069",
   "metadata": {},
   "outputs": [],
   "source": [
    "# matrix = spectral.adjacency(g_geral_SFDP)\n",
    "\n",
    "# algorithm = cpnet.Rombach()\n",
    "# algorithm.detect(matrix)\n",
    "# c = algorithm.get_coreness()\n",
    "\n",
    "# g_geral_SFDP.add_vp('coreness')\n",
    "\n",
    "# try:\n",
    "#     for i, coreness in c.items():\n",
    "#         v = g_geral_SFDP.get_vertex_by_index(i)\n",
    "#         v['coreness'] = float(coreness)\n",
    "\n",
    "#     for v in g_geral_SFDP.all_vertices():\n",
    "#         r.vertex(v['id'], size=(10 + 40 * v['coreness']))\n",
    "# except:\n",
    "#     pass"
   ]
  },
  {
   "cell_type": "markdown",
   "id": "dc63c9c9",
   "metadata": {},
   "source": [
    "## Apêndice: Por que não usamos uma só questão?"
   ]
  },
  {
   "cell_type": "markdown",
   "id": "43fff8a1",
   "metadata": {},
   "source": [
    "A quantidade de arestas é muito alta mesmo para a menor quantidade de respostas iguais!"
   ]
  },
  {
   "cell_type": "code",
   "execution_count": null,
   "id": "f582add3",
   "metadata": {
    "scrolled": false
   },
   "outputs": [],
   "source": [
    "for n, questao in enumerate(lista_questoes):\n",
    "#     print(n)\n",
    "    freq = Counter(lista_respostas[n])\n",
    "    plt.figure()\n",
    "    plt.bar(freq.keys(), freq.values())\n",
    "    plt.xlabel(f'Número de respostas iguais da {questao}')\n",
    "    plt.ylabel('Frequencia')\n",
    "    plt.title(f'Frequencia de respostas iguais da {questao}')\n",
    "plt.show()"
   ]
  },
  {
   "cell_type": "code",
   "execution_count": null,
   "id": "dae2a196",
   "metadata": {
    "scrolled": true
   },
   "outputs": [],
   "source": [
    "colunas_viaveis = dict()\n",
    "for n, questao in enumerate(lista_questoes):\n",
    "    freq = Counter(lista_respostas[n])\n",
    "    soma_arestas = 0\n",
    "    lista_colunas = list()\n",
    "    for i in range(len(freq)):\n",
    "        soma_arestas += freq[i]\n",
    "        print(questao, soma_arestas)\n",
    "        if soma_arestas > 70000:\n",
    "            break\n",
    "        lista_colunas.append(i)\n",
    "    colunas_viaveis[questao] = lista_colunas"
   ]
  },
  {
   "cell_type": "code",
   "execution_count": null,
   "id": "6d13d1ea",
   "metadata": {},
   "outputs": [],
   "source": [
    "print(colunas_viaveis)"
   ]
  }
 ],
 "metadata": {
  "kernelspec": {
   "display_name": "Python 3 (ipykernel)",
   "language": "python",
   "name": "python3"
  },
  "language_info": {
   "codemirror_mode": {
    "name": "ipython",
    "version": 3
   },
   "file_extension": ".py",
   "mimetype": "text/x-python",
   "name": "python",
   "nbconvert_exporter": "python",
   "pygments_lexer": "ipython3",
   "version": "3.10.10"
  }
 },
 "nbformat": 4,
 "nbformat_minor": 5
}
